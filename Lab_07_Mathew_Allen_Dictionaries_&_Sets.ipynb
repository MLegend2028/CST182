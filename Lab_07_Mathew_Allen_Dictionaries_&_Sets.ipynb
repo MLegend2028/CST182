{
  "nbformat": 4,
  "nbformat_minor": 0,
  "metadata": {
    "colab": {
      "provenance": [],
      "toc_visible": true,
      "include_colab_link": true
    },
    "kernelspec": {
      "name": "python3",
      "display_name": "Python 3"
    },
    "language_info": {
      "name": "python"
    }
  },
  "cells": [
    {
      "cell_type": "markdown",
      "metadata": {
        "id": "view-in-github",
        "colab_type": "text"
      },
      "source": [
        "<a href=\"https://colab.research.google.com/github/MLegend2028/CST182/blob/main/Lab_07_Mathew_Allen_Dictionaries_%26_Sets.ipynb\" target=\"_parent\"><img src=\"https://colab.research.google.com/assets/colab-badge.svg\" alt=\"Open In Colab\"/></a>"
      ]
    },
    {
      "cell_type": "markdown",
      "source": [
        "# **LAB #07** - Dictionaries & Sets\n",
        "<br/>\n"
      ],
      "metadata": {
        "id": "qdM8hjkwAnQ5"
      }
    },
    {
      "cell_type": "markdown",
      "source": [
        "><table>\n",
        "## **Lab Overview**\n",
        "\n",
        "These lab questions will help further your understanding of the different data structures available in Python - what they are, how they are structured, how to use them, and the differences in their functionalities.<br/>\n",
        "\n",
        "The tasks presented will cover some of the different use cases for these concepts - but are not exhaustive - and you're recommended to further your understanding via the content on the LMS, research (e.g., Searching *how can I use files to ...*), and on-going development of personal projects.\n",
        "></table>\n",
        "\n",
        "<br/><br/>\n",
        "\n"
      ],
      "metadata": {
        "id": "ax351qT1A2wO"
      }
    },
    {
      "cell_type": "markdown",
      "source": [
        "\n",
        "\n",
        "# **Question #1** - A Multi-lingual Program\n",
        "---\n",
        "<br/>\n",
        "\n",
        "This question uses your knowledge of dictionaries to be able to translate certain words from English into German.<br/><br/>\n",
        "\n",
        "### Your Task\n",
        "You are provided with a basic dictionary that has keys in English and their counterpart in German written saved as the value. You need to search a given string of text and be able to convert any English words that exist in the dictionary into German and print out the updated string.<br/><br/>\n",
        "\n",
        ">**Note:** *In this program, we are not concerned with ensuring capitalisation - so treat the data as though it will all be lowercase.*\n",
        "\n",
        "<br/>\n",
        "\n",
        "\n",
        "You have been provided with a sample string to test against which contains a number of words in the dictionary."
      ],
      "metadata": {
        "id": "Ul0eUARrsGff"
      }
    },
    {
      "cell_type": "markdown",
      "source": [
        "### Your Answer"
      ],
      "metadata": {
        "id": "sedot7JUuhD2"
      }
    },
    {
      "cell_type": "code",
      "source": [
        "# Student Name:\n",
        "# Student Number:\n",
        "\n",
        "# Word list slight adapted from: https://bilingua.io/short-and-easy-german-words\n",
        "\n",
        "# translate = {\n",
        "#   \"hello\": \" hallo\",\n",
        "#   \"thanks\": \"danke\",\n",
        "#   \"no\": \"nein\",\n",
        "#   \"yes\": \"ja\",\n",
        "#   \"delicious\": \"lecker\",\n",
        "#   \"week\": \"woche\",\n",
        "#   \"today\": \"heute\",\n",
        "#   \"tomorrow\": \"morgen\",\n",
        "#   \"yesterday\": \"gestern\",\n",
        "#   \"do\": \"machen\",\n",
        "#   \"go\": \"gehen\",\n",
        "#   \"come\": \"kommen\",\n",
        "#   \"laugh\": \"lachen\",\n",
        "#   \"gut\": \"good\",\n",
        "#   \"beautiful\": \"schön\",\n",
        "#   \"coffee\": \"kaffee\",\n",
        "#   \"beer\": \"bier\",\n",
        "#   \"tea\": \"tee\",\n",
        "#   \"wine\": \"wein\",\n",
        "#   \"water\": \"wasser\",\n",
        "#   \"lamb\": \"lamm\",\n",
        "#   \"fish\": \"fisch\",\n",
        "#   \"nice\": \"nett\",\n",
        "#   \"clean\": \"sauber\",\n",
        "#   \"fine\": \"fein\",\n",
        "#   \"dear\": \"lieb\",\n",
        "#   \"love\": \"liebe\",\n",
        "#   \"funny\": \"komisch\",\n",
        "#   \"great\": \"klasse\",\n",
        "#   \"high\": \"hoch\",\n",
        "#   \"fantastic\": \"prima\",\n",
        "#   \"strong\": \"stark\",\n",
        "#   \"long\": \"lang\",\n",
        "#   \"bright\": \"hell\",\n",
        "#   \"capable\": \"fähig\",\n",
        "#   \"short\": \"kurz\",\n",
        "#   \"small\": \"klein\",\n",
        "#   \"big\": \"groß\",\n",
        "#   \"wonderful\": \"wunderbar\",\n",
        "#   \"rat\": \"ratte\",\n",
        "#   \"dark\": \"dunkel\",\n",
        "#   \"bye\": \"tschüss\"\n",
        "# }\n",
        "\n",
        "# s = \"\"\"hello thanks for seeing us on short notice -\n",
        "#        we were going to come in tomorrow for some nice fish\n",
        "#        and wine but thought what a beautiful day - lets get\n",
        "#        some delicious lamb and beer today . thanks bye\"\"\"\n",
        "\n",
        "# TODO: Enter your solution below\n",
        "translate = {\n",
        "  \"hello\": \"hallo\",\n",
        "  \"thanks\": \"danke\",\n",
        "  \"no\": \"nein\",\n",
        "  \"yes\": \"ja\",\n",
        "  \"delicious\": \"lecker\",\n",
        "  \"week\": \"woche\",\n",
        "  \"today\": \"heute\",\n",
        "  \"tomorrow\": \"morgen\",\n",
        "  \"yesterday\": \"gestern\",\n",
        "  \"do\": \"machen\",\n",
        "  \"go\": \"gehen\",\n",
        "  \"come\": \"kommen\",\n",
        "  \"laugh\": \"lachen\",\n",
        "  \"gut\": \"good\",\n",
        "  \"beautiful\": \"schön\",\n",
        "  \"coffee\": \"kaffee\",\n",
        "  \"beer\": \"bier\",\n",
        "  \"tea\": \"tee\",\n",
        "  \"wine\": \"wein\",\n",
        "  \"water\": \"wasser\",\n",
        "  \"lamb\": \"lamm\",\n",
        "  \"fish\": \"fisch\",\n",
        "  \"nice\": \"nett\",\n",
        "  \"clean\": \"sauber\",\n",
        "  \"fine\": \"fein\",\n",
        "  \"dear\": \"lieb\",\n",
        "  \"love\": \"liebe\",\n",
        "  \"funny\": \"komisch\",\n",
        "  \"great\": \"klasse\",\n",
        "  \"high\": \"hoch\",\n",
        "  \"fantastic\": \"prima\",\n",
        "  \"strong\": \"stark\",\n",
        "  \"long\": \"lang\",\n",
        "  \"bright\": \"hell\",\n",
        "  \"capable\": \"fähig\",\n",
        "  \"short\": \"kurz\",\n",
        "  \"small\": \"klein\",\n",
        "  \"big\": \"groß\",\n",
        "  \"wonderful\": \"wunderbar\",\n",
        "  \"rat\": \"ratte\",\n",
        "  \"dark\": \"dunkel\",\n",
        "  \"bye\": \"tschüss\"\n",
        "}\n",
        "#---------------------------------------------------\n",
        "# s = input(\"Enter String:\")\n",
        "# #\n",
        "# for key, value in translate.items():\n",
        "#     s = s.replace(key,value)\n",
        "#-------------------------------------------------------\n",
        "translated_words = []\n",
        "\n",
        "s = input(\"Enter String:\")\n",
        "new_words = s.split()\n",
        "# print(new_words)\n",
        "\n",
        "for words in new_words:\n",
        "    if words in translate:\n",
        "        translated_words.append(translate[words])\n",
        "    else:\n",
        "        translated_words.append(words)\n",
        "\n",
        "print(*translated_words)"
      ],
      "metadata": {
        "id": "9PP7YGX7odq2",
        "colab": {
          "base_uri": "https://localhost:8080/"
        },
        "outputId": "69866530-b707-4c61-c5aa-b83a6f0e5a4d"
      },
      "execution_count": 5,
      "outputs": [
        {
          "output_type": "stream",
          "name": "stdout",
          "text": [
            "Enter String:hello thanks for seeing us on short notice - we were toing to come in tomorrow for some nice fish and wine but thought what a beautiful day - lets get some delicious lamb and beer today. thanks bye\n",
            "hallo danke for seeing us on kurz notice - we were toing to kommen in morgen for some nett fisch and wein but thought what a schön day - lets get some lecker lamm and bier today. danke tschüss\n"
          ]
        }
      ]
    },
    {
      "cell_type": "markdown",
      "source": [
        "<Br/><br/>"
      ],
      "metadata": {
        "id": "QFxRj-X-yFdh"
      }
    },
    {
      "cell_type": "markdown",
      "source": [
        "\n",
        "\n",
        "# **Question #2** - Creating a Party Playlist\n",
        "---\n",
        "<br/>\n",
        "\n",
        "You are hosting a party and you're trying to create a playlist - but want to take into account other people's tastes in music to ensure everyone has a great time.\n",
        "\n",
        "There are two main groups of friends attending the party who have both sent you their favourite genres of music. These genres are saved in the two sets `group_1` and `group_2` - while all possible genres available are saved in `all_types`.\n",
        "\n",
        "<br/><br/>\n",
        "\n",
        "### Your Task\n",
        "\n",
        "Using your knowledge of sets, complete the program where you will show:\n",
        "\n",
        "* **Definitely play** - this is genres that exist in both `group_1` and `group_2`\n",
        "\n",
        "* **Perhaps play** - these are genres that exist only in `group_1` or only in `group_2`\n",
        "\n",
        "* **Do not play** - these are genres that exist in `all_types`, but not in `group_1` or `group_2`\n",
        "\n",
        "<br/><br/>\n",
        "\n",
        "You must use the set functions to get your answers (e.g., `insersection()`, `difference()`, & `union()`.<br/><br/>\n"
      ],
      "metadata": {
        "id": "rMFxwv8eWGcH"
      }
    },
    {
      "cell_type": "code",
      "source": [
        "# Student Name:1019868\n",
        "# Student Number:Mathew Allen\n",
        "\n",
        "\n",
        "# all_types = {\"rap\", \"rnb\", \"pop\", \"heavy metal\", \"classical\", \"indie\", \"jazz\", \"rock\",\"blues\", \"rap\", \"rock\", \"edm\"}\n",
        "# group_1 = {\"rap\", \"rnb\", \"pop\", \"jazz\", \"rock\"}\n",
        "# group_2 = {\"blues\", \"rap\", \"rock\", \"edm\"}\n",
        "\n",
        "\n",
        "# print(\"Definitely play: \", end=\"\")\n",
        "# print() # TODO: insert your answer in this print statement\n",
        "\n",
        "# print(\"Perhaps play: \", end=\"\")\n",
        "# print() # TODO: insert your answer in this print statement\n",
        "\n",
        "# print(\"Do not play: \", end=\"\")\n",
        "# print() # TODO: insert your answer in this print statement\n",
        "\n",
        "\n",
        "all_types = {\"rap\", \"rnb\", \"pop\", \"heavy metal\", \"classical\", \"indie\", \"jazz\", \"rock\",\"blues\", \"rap\", \"rock\", \"edm\"}\n",
        "group_1 = {\"rap\", \"rnb\", \"pop\", \"jazz\", \"rock\"}\n",
        "group_2 = {\"blues\", \"rap\", \"rock\", \"edm\"}\n",
        "combined = group_1.union(group_2)\n",
        "\n",
        "print(\"Definitely play: \", end=\"\")\n",
        "print(sorted(group_1.intersection(group_2))) # TODO: insert your answer in this print statement\n",
        "\n",
        "print(\"Perhaps play: \", end=\"\")\n",
        "print(sorted(group_1.difference(group_2).union(group_2.difference(group_1)))) # TODO: insert your answer in this print statement\n",
        "\n",
        "print(\"Do not play: \", end=\"\")\n",
        "print(sorted(all_types.difference(combined))) # TODO: insert your answer in this print statement"
      ],
      "metadata": {
        "id": "XoSF3E_4WGR-",
        "colab": {
          "base_uri": "https://localhost:8080/"
        },
        "outputId": "09886100-b1f1-4983-8bb5-6cf5529b7ace"
      },
      "execution_count": 1,
      "outputs": [
        {
          "output_type": "stream",
          "name": "stdout",
          "text": [
            "Definitely play: ['rap', 'rock']\n",
            "Perhaps play: ['blues', 'edm', 'jazz', 'pop', 'rnb']\n",
            "Do not play: ['classical', 'heavy metal', 'indie']\n"
          ]
        }
      ]
    },
    {
      "cell_type": "markdown",
      "source": [
        "<br/><br/>"
      ],
      "metadata": {
        "id": "OgYl64VGbl5t"
      }
    },
    {
      "cell_type": "markdown",
      "source": [
        "# **Submission**\n",
        "---\n",
        "\n",
        "When you believe you have the program correctly working, please run the program and enter valid details for each program so that the output is apparent.\n",
        "<br/><br/>\n",
        "When you are ready to submit please\n",
        "\n",
        "*   go to `File` -> `Print` -> `Print PDF` and then upload and submit in the LMS.\n",
        "  *   feel free to also submit your artwork from question 1 to the LMS if you'd like to\n",
        "\n",
        "*   save your file to GitHub via: `File` -> `Save a copy in GitHub`\n"
      ],
      "metadata": {
        "id": "CxZ8SilaD9Gq"
      }
    }
  ]
}
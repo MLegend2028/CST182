{
  "nbformat": 4,
  "nbformat_minor": 0,
  "metadata": {
    "colab": {
      "provenance": [],
      "toc_visible": true,
      "include_colab_link": true
    },
    "kernelspec": {
      "name": "python3",
      "display_name": "Python 3"
    },
    "language_info": {
      "name": "python"
    }
  },
  "cells": [
    {
      "cell_type": "markdown",
      "metadata": {
        "id": "view-in-github",
        "colab_type": "text"
      },
      "source": [
        "<a href=\"https://colab.research.google.com/github/MLegend2028/CST182/blob/main/Lab_05_Classes_%26_Objects_Mathew_Allen.ipynb\" target=\"_parent\"><img src=\"https://colab.research.google.com/assets/colab-badge.svg\" alt=\"Open In Colab\"/></a>"
      ]
    },
    {
      "cell_type": "markdown",
      "source": [
        "# **LAB #05** - Classes & Objects\n",
        "<br/>\n"
      ],
      "metadata": {
        "id": "qdM8hjkwAnQ5"
      }
    },
    {
      "cell_type": "markdown",
      "source": [
        "><table>\n",
        "##**Lab Overview**\n",
        "\n",
        "These lab questions will help develop your understanding of how to set up classes and create objects.\n",
        "\n",
        "></table>\n",
        "\n",
        "<br/><br/>\n",
        "\n"
      ],
      "metadata": {
        "id": "ax351qT1A2wO"
      }
    },
    {
      "cell_type": "markdown",
      "source": [
        "\n",
        "\n",
        "# **Question #1** - Classes & Objects\n",
        "---\n",
        "<br/>\n",
        "\n",
        "This question will be split across a few different parts to get you to concentrate on specific class functionalities as you progress.<br/><br/>\n",
        "\n",
        "\n",
        "If you get stuck on a part, it is advised to seek help before continuing to the next part as later tasks may be dependent on earlier ones.\n",
        "\n",
        "<br/>\n",
        "\n"
      ],
      "metadata": {
        "id": "Ul0eUARrsGff"
      }
    },
    {
      "cell_type": "markdown",
      "source": [
        "## **Part A** - Creating the Class\n",
        "---\n",
        "\n",
        "In this question, You've been provided the code for creating three student objects. <br/><br/>\n",
        "\n",
        "### Your Task\n",
        "\n",
        "Write the class definition to take in the values provided for the students (name, age, major) and set these values in the class.\n",
        "\n",
        "<br/>\n"
      ],
      "metadata": {
        "id": "1o-fVr9P6xLt"
      }
    },
    {
      "cell_type": "markdown",
      "source": [
        "### Your Answer\n",
        "\n",
        "\n"
      ],
      "metadata": {
        "id": "sedot7JUuhD2"
      }
    },
    {
      "cell_type": "code",
      "source": [
        "# Student Name: Mathew Allen\n",
        "# Student Number:1019868\n",
        "\n",
        "# TODO: Insert class definition:\n",
        "\n",
        "\n",
        "# # Object Creation\n",
        "# s1 = Student(\"Greg\", 21, \"Computer Science\")\n",
        "# s2 = Student(\"Lucy\", 34, \"Engineering\")\n",
        "# s3 = Student(\"Chris\", 19, \"Arts\")\n",
        "\n",
        "# # TODO: Print the three objects to test\n",
        "\n",
        "\n",
        "class Student:\n",
        "    def __init__(self, name,age,major):\n",
        "        self.name = name\n",
        "        self.age = age  # Initialise marks as an empty list\n",
        "        self.major = major   # Initialise GPA\n",
        "\n",
        "\n",
        "s1 = Student(\"Greg\", 21, \"Computer Science\")\n",
        "s2 = Student(\"Lucy\", 34, \"Engineering\")\n",
        "s3 = Student(\"Chris\", 19, \"Arts\")\n",
        "\n",
        "print(s1.name, s1.age, s1.major)\n",
        "print(s2.name, s2.age, s2.major)\n",
        "print(s3.name, s3.age, s3.major)\n"
      ],
      "metadata": {
        "id": "9PP7YGX7odq2",
        "colab": {
          "base_uri": "https://localhost:8080/"
        },
        "outputId": "4ba1a526-69ce-4681-f1cd-27de9e4d18d9"
      },
      "execution_count": null,
      "outputs": [
        {
          "output_type": "stream",
          "name": "stdout",
          "text": [
            "Greg 21 Computer Science\n",
            "Lucy 34 Engineering\n",
            "Chris 19 Arts\n"
          ]
        }
      ]
    },
    {
      "cell_type": "markdown",
      "source": [
        "<Br/><br/>"
      ],
      "metadata": {
        "id": "QFxRj-X-yFdh"
      }
    },
    {
      "cell_type": "markdown",
      "source": [
        "## **Part B** - Addition of a Class Method\n",
        "---\n",
        "\n",
        "Here we will be looking at adding class methods to the program.<br/><br/>\n",
        "\n",
        "### Your Task\n",
        "\n",
        "Copy your code from Part A and paste it into the code block below and remove the `print()` statements that we used to test the objects.<br/><br/>\n",
        "Next, you need to extend the program to include two class functions as described below:<br/><br/>\n",
        "\n",
        "* **Function 1 | Printing Information**<br/>\n",
        "Add a function that nicely prints out the information for each student providing the variable value and what it represents (e.g, `name = Greg`)<br/><br/>\n",
        "\n",
        "* **Function 2 | Birth year?**<br/>\n",
        "The second function you need to create simply takes the student's age and from there, calculates and returns their birth year (ignore specific day/month) <br/><br/>\n",
        "><small>**Note:** You can simply hardcode the current year into the program - but feel free to extend yourself by making use of the `datetime` module</small>\n",
        "\n",
        "\n",
        "\n",
        "\n",
        "<br/>\n"
      ],
      "metadata": {
        "id": "DLlsIPyy7PBr"
      }
    },
    {
      "cell_type": "markdown",
      "source": [
        "### Your Answer"
      ],
      "metadata": {
        "id": "FLqsaUEC_g7E"
      }
    },
    {
      "cell_type": "code",
      "source": [
        "### COPY AND PASTE YOUR ANSWER FROM PART A H1rq ERE\n",
        "\n",
        "import datetime\n",
        "\n",
        "class Student:\n",
        "    def __init__(self, name,age,major):\n",
        "        self.name = name\n",
        "        self.age = age  # Initialise marks as an empty list\n",
        "        self.major = major   # Initialise GPA\n",
        "\n",
        "\n",
        "\n",
        "    def birth_year(self):\n",
        "        current_year = datetime.datetime.now().year\n",
        "        return current_year - self.age\n",
        "\n",
        "\n",
        "    def print_student(self):\n",
        "        \"\"\"Prints the transcript for the student.\"\"\"\n",
        "        print(f\"\\n--- Student Transcript ---\")\n",
        "        print(f\"Name:  {self.name.capitalize()}\")\n",
        "        print(f\"Marks: {self.age}\")\n",
        "        print(f\"Name:  {self.major.capitalize()}\")\n",
        "        print(f\"Birth year: {self.birth_year()}\")\n",
        "\n",
        "# # students  = [Student(\"Greg\", 21, \"Computer Science\"),\n",
        "# # Student(\"Lucy\", 34, \"Engineering\"),\n",
        "# # Student(\"Chris\", 19, \"Arts\"), Student(\"Mat\", 50,\"Virtual production\")]\n",
        "\n",
        "# for student in students:\n",
        "#     student.print_student()\n",
        "\n",
        "\n",
        "s1 = Student(\"Greg\", 21, \"Computer Science\")\n",
        "s2 = Student(\"Lucy\", 34, \"Engineering\")\n",
        "s3 = Student(\"Chris\", 19, \"Arts\")\n",
        "\n",
        "# print(s1.name, s1.age, s1.major)\n",
        "# print(s2.name, s2.age, s2.major)\n",
        "# print(s3.name, s3.age, s3.major)\n",
        "\n",
        "s1.print_student()\n",
        "s2.print_student()\n",
        "s3.print_student()"
      ],
      "metadata": {
        "id": "3DESmazg7u-M",
        "colab": {
          "base_uri": "https://localhost:8080/"
        },
        "outputId": "36f8e137-6449-453a-c43c-401035fbb6d0"
      },
      "execution_count": null,
      "outputs": [
        {
          "output_type": "stream",
          "name": "stdout",
          "text": [
            "\n",
            "--- Student Transcript ---\n",
            "Name:  Greg\n",
            "Marks: 21\n",
            "Name:  Computer science\n",
            "Birth year: 2004\n",
            "\n",
            "--- Student Transcript ---\n",
            "Name:  Lucy\n",
            "Marks: 34\n",
            "Name:  Engineering\n",
            "Birth year: 1991\n",
            "\n",
            "--- Student Transcript ---\n",
            "Name:  Chris\n",
            "Marks: 19\n",
            "Name:  Arts\n",
            "Birth year: 2006\n"
          ]
        }
      ]
    },
    {
      "cell_type": "markdown",
      "source": [
        "<br/><br/>"
      ],
      "metadata": {
        "id": "smBNf2JC7yzD"
      }
    },
    {
      "cell_type": "markdown",
      "source": [
        "## **Part C** - Moving to a List of Objects\n",
        "---\n",
        "\n",
        "Here we will be looking at moving our Student objects into a list to make the program more efficient.<br/><br/>\n",
        "\n",
        "### Your Task\n",
        "\n",
        "Copy your code from Part B and paste it into the code block below.<br/><br/>\n",
        "Next, you need to modify the program to:\n",
        "\n",
        "1. Move the three student objects so they are held within a list\n",
        "2. Add a loop to iterate through the list of objects and execute both functions\n",
        "3. Add (at least) one more record to the list with your own data\n",
        "<br/><br/>\n",
        "\n"
      ],
      "metadata": {
        "id": "3IHb76Mr-Hdj"
      }
    },
    {
      "cell_type": "markdown",
      "source": [
        "### Your Answer"
      ],
      "metadata": {
        "id": "SCY_xtUk_h-e"
      }
    },
    {
      "cell_type": "code",
      "source": [
        "# COPY CODE FROM PART B HERE\n",
        "\n",
        "import datetime\n",
        "#class used to manage Students\n",
        "class Student:\n",
        "    def __init__(self, name,age,major):# these are required inputs\n",
        "        self.name = name\n",
        "        self.age = age  # Initialise marks as an empty list\n",
        "        self.major = major   # Initialise GPA\n",
        "\n",
        "\n",
        "\n",
        "    def birth_year(self): #method calculates birth year\n",
        "        current_year = datetime.datetime.now().year\n",
        "        return current_year - self.age\n",
        "\n",
        "\n",
        "    def print_student(self):# Method controls printing and formatting\n",
        "        \"\"\"Prints the transcript for the student.\"\"\"\n",
        "        print(f\"\\n--- Student Transcript ---\")\n",
        "        print(f\"Name:  {self.name.capitalize()}\")\n",
        "        print(f\"Marks: {self.age}\")\n",
        "        print(f\"Name:  {self.major.capitalize()}\")\n",
        "        print(f\"Birth year: {self.birth_year()}\")\n",
        "\n",
        "#List of objects\n",
        "students  = [Student(\"Greg\", 21, \"Computer Science\"),\n",
        "Student(\"Lucy\", 34, \"Engineering\"),\n",
        "Student(\"Chris\", 19, \"Arts\"), Student(\"Mat\", 50,\"Virtual production\")]\n",
        "#increments through the list and prints students\n",
        "for student in students:\n",
        "    student.print_student()\n",
        "\n",
        "\n",
        "# s1 = Student(\"Greg\", 21, \"Computer Science\")\n",
        "# s2 = Student(\"Lucy\", 34, \"Engineering\")\n",
        "# s3 = Student(\"Chris\", 19, \"Arts\")\n",
        "\n",
        "# print(s1.name, s1.age, s1.major)\n",
        "# print(s2.name, s2.age, s2.major)\n",
        "# print(s3.name, s3.age, s3.major)\n",
        "\n",
        "# s1.print_student()\n",
        "# s2.print_student()\n",
        "# s3.print_student()"
      ],
      "metadata": {
        "id": "9_OmC1dG_KV3",
        "colab": {
          "base_uri": "https://localhost:8080/"
        },
        "outputId": "7d3133af-0bc0-4aee-effd-7e69c34646b6"
      },
      "execution_count": 1,
      "outputs": [
        {
          "output_type": "stream",
          "name": "stdout",
          "text": [
            "\n",
            "--- Student Transcript ---\n",
            "Name:  Greg\n",
            "Marks: 21\n",
            "Name:  Computer science\n",
            "Birth year: 2004\n",
            "\n",
            "--- Student Transcript ---\n",
            "Name:  Lucy\n",
            "Marks: 34\n",
            "Name:  Engineering\n",
            "Birth year: 1991\n",
            "\n",
            "--- Student Transcript ---\n",
            "Name:  Chris\n",
            "Marks: 19\n",
            "Name:  Arts\n",
            "Birth year: 2006\n",
            "\n",
            "--- Student Transcript ---\n",
            "Name:  Mat\n",
            "Marks: 50\n",
            "Name:  Virtual production\n",
            "Birth year: 1975\n"
          ]
        }
      ]
    },
    {
      "cell_type": "markdown",
      "source": [
        "<br/><br/>"
      ],
      "metadata": {
        "id": "Bc2gMp6g_MoO"
      }
    },
    {
      "cell_type": "markdown",
      "source": [
        "# **Submission**\n",
        "---\n",
        "\n",
        "When you believe you have the program correctly working, please run the program and enter valid details for each program so that the output is apparent.\n",
        "<br/><br/>\n",
        "When you are ready to submit please\n",
        "\n",
        "*   go to `File` -> `Print` -> `Print PDF` and then upload and submit in the LMS.\n",
        "  *   feel free to also submit your artwork from question 1 to the LMS if you'd like to\n",
        "\n",
        "*   save your file to GitHub via: `File` -> `Save a copy in GitHub`\n"
      ],
      "metadata": {
        "id": "CxZ8SilaD9Gq"
      }
    }
  ]
}
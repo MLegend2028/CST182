{
  "nbformat": 4,
  "nbformat_minor": 0,
  "metadata": {
    "colab": {
      "provenance": [],
      "toc_visible": true,
      "collapsed_sections": [
        "N-XTusSvusCo"
      ],
      "include_colab_link": true
    },
    "kernelspec": {
      "name": "python3",
      "display_name": "Python 3"
    },
    "language_info": {
      "name": "python"
    }
  },
  "cells": [
    {
      "cell_type": "markdown",
      "metadata": {
        "id": "view-in-github",
        "colab_type": "text"
      },
      "source": [
        "<a href=\"https://colab.research.google.com/github/MLegend2028/CST182/blob/main/Tutorial_3_Mathew_Allen_Loops.ipynb\" target=\"_parent\"><img src=\"https://colab.research.google.com/assets/colab-badge.svg\" alt=\"Open In Colab\"/></a>"
      ]
    },
    {
      "cell_type": "markdown",
      "source": [
        "# **TUTORIAL #3 - LOOPS**\n",
        "<br/>\n",
        "\n",
        "\n",
        "\n",
        "\n",
        "\n"
      ],
      "metadata": {
        "id": "h7roITOPgVZ6"
      }
    },
    {
      "cell_type": "markdown",
      "source": [
        "In this tutorial, we will be revise the main topics in looping.\n",
        "\n",
        "> **Note:** *For a comprehensive understanding please refer to the materials on the LMS*"
      ],
      "metadata": {
        "id": "s_k8FCrNeG7z"
      }
    },
    {
      "cell_type": "markdown",
      "source": [
        "# **#1 - Basic Loops**\n",
        "---"
      ],
      "metadata": {
        "id": "HsVTz9MxfdGf"
      }
    },
    {
      "cell_type": "markdown",
      "source": [
        "## **`for` loop**\n",
        "---\n",
        "\n",
        "We can use the for loop to iterate over some data.\n",
        "\n",
        "In the following, we will look at using the `range()` method to count"
      ],
      "metadata": {
        "id": "bSKXUU6bdrRf"
      }
    },
    {
      "cell_type": "markdown",
      "source": [
        "### **1 parameter**\n",
        "\n",
        "By passing one parameter to the `range(y)` method, the `for` loop will count from 0 to one below the provided number (`y`).\n",
        "\n",
        "We can see this in the following example where we pass `5` and therefore count from `1` to `4`"
      ],
      "metadata": {
        "id": "eKgssbF_kmou"
      }
    },
    {
      "cell_type": "code",
      "execution_count": null,
      "metadata": {
        "colab": {
          "base_uri": "https://localhost:8080/"
        },
        "id": "IYImmxj-gLjs",
        "outputId": "3d090f6b-ee89-47db-c3ae-6420d5d66750"
      },
      "outputs": [
        {
          "output_type": "stream",
          "name": "stdout",
          "text": [
            "0\n",
            "1\n",
            "2\n",
            "3\n",
            "4\n"
          ]
        }
      ],
      "source": [
        "for i in range(5):\n",
        "  print(i)"
      ]
    },
    {
      "cell_type": "markdown",
      "source": [
        "### **2 parameters**\n",
        "\n",
        "By passing two parameters to the `range(x, y)` method, the `for` loop will count from `x` to one below the provided number (`y`).\n",
        "\n",
        "We can see this in the following example where we pass `1,5` and therefore count from `1` to `4`"
      ],
      "metadata": {
        "id": "r6NePA8clBJx"
      }
    },
    {
      "cell_type": "code",
      "source": [
        "for i in range(1,5):\n",
        "  print(i)"
      ],
      "metadata": {
        "colab": {
          "base_uri": "https://localhost:8080/"
        },
        "id": "V0Vjcquwlwjj",
        "outputId": "e0c8fcea-a112-4ea7-a52f-df295b464317"
      },
      "execution_count": null,
      "outputs": [
        {
          "output_type": "stream",
          "name": "stdout",
          "text": [
            "1\n",
            "2\n",
            "3\n",
            "4\n"
          ]
        }
      ]
    },
    {
      "cell_type": "markdown",
      "source": [
        "### **3 parameters**\n",
        "\n",
        "By passing three parameters to the `range(x, y, z)` method, the `for` loop will count from `x` to one below the provided number (`y`) in steps of `z`.\n",
        "\n",
        "We can see this in the following example where we pass `1,10,2` and therefore count from `1` to `9` in steps of `2`"
      ],
      "metadata": {
        "id": "kHe7tPOKlQCD"
      }
    },
    {
      "cell_type": "code",
      "source": [
        "for i in range(1,10,2):\n",
        "  print(i)"
      ],
      "metadata": {
        "colab": {
          "base_uri": "https://localhost:8080/"
        },
        "id": "7UE6qv8olyKM",
        "outputId": "ab22978b-edf9-469b-cd5b-abc6cab262e6"
      },
      "execution_count": null,
      "outputs": [
        {
          "output_type": "stream",
          "name": "stdout",
          "text": [
            "1\n",
            "3\n",
            "5\n",
            "7\n",
            "9\n"
          ]
        }
      ]
    },
    {
      "cell_type": "markdown",
      "source": [
        "<br/>"
      ],
      "metadata": {
        "id": "zjKu9FCWjURq"
      }
    },
    {
      "cell_type": "markdown",
      "source": [
        "## **`while` loop**\n",
        "---\n",
        "\n",
        "We can use the `while` loop to iterate over a selection of data.\n",
        "\n",
        "For example, here we can see how we can perform the same counting functionality as we did in the for loop - just with more steps.\n"
      ],
      "metadata": {
        "id": "WSbR05MEmBbN"
      }
    },
    {
      "cell_type": "code",
      "source": [
        "i = 1\n",
        "while i <= 5:\n",
        "  print(i)\n",
        "  i += 1\n"
      ],
      "metadata": {
        "colab": {
          "base_uri": "https://localhost:8080/"
        },
        "id": "GKH3sx98mREn",
        "outputId": "53d8d8a0-576a-4ed2-dcb4-1c90625296c1"
      },
      "execution_count": null,
      "outputs": [
        {
          "output_type": "stream",
          "name": "stdout",
          "text": [
            "1\n",
            "2\n",
            "3\n",
            "4\n",
            "5\n"
          ]
        }
      ]
    },
    {
      "cell_type": "markdown",
      "source": [
        "### **User Driven**\n",
        "\n",
        "We can create a user driven program by asking the user whether or not they want to continue.\n",
        "\n",
        "Take for example the following program which will work out the area of a square given the side length and let the user continue inputting values until they are done."
      ],
      "metadata": {
        "id": "Y-D7pPaCmf19"
      }
    },
    {
      "cell_type": "code",
      "source": [
        "cont = 'Y'\n",
        "\n",
        "while cont == 'Y':\n",
        "  side = int(input(\"Enter side length: \"))\n",
        "  area = side * side\n",
        "  print(\"Area = \", area)\n",
        "  cont = input(\"Do you wish to continue (Y/N)? \")\n",
        "\n",
        "print(\"Program exiting - goodbye...\")"
      ],
      "metadata": {
        "colab": {
          "base_uri": "https://localhost:8080/"
        },
        "id": "cUTjxJfLmsih",
        "outputId": "8a5f1f1a-adce-4dfe-b258-ff8d856a3390"
      },
      "execution_count": null,
      "outputs": [
        {
          "output_type": "stream",
          "name": "stdout",
          "text": [
            "Enter side length: 2\n",
            "Area =  4\n",
            "Do you wish to continue (Y/N)? Y\n",
            "Enter side length: 5\n",
            "Area =  25\n",
            "Do you wish to continue (Y/N)? N\n",
            "Program exiting - goodbye...\n"
          ]
        }
      ]
    },
    {
      "cell_type": "markdown",
      "source": [
        "### **User Driven |** Sentinel Value\n",
        "\n",
        "We can improve the efficiency of the program - both for the user and for the programmer by using a sentinel value in the program - rather than an additional input for whether to continue or not.\n",
        "\n"
      ],
      "metadata": {
        "id": "nle6o_oGnBzs"
      }
    },
    {
      "cell_type": "code",
      "source": [
        "side = int(input(\"Enter side length (0 to exit): \"))\n",
        "\n",
        "while side != 0:\n",
        "  area = side * side\n",
        "  print(\"Area = \", area)\n",
        "  side = int(input(\"Enter side length (0 to exit): \"))\n",
        "\n",
        "\n",
        "print(\"Program exiting - goodbye...\")"
      ],
      "metadata": {
        "colab": {
          "base_uri": "https://localhost:8080/"
        },
        "id": "2kMOMqWgnRh4",
        "outputId": "a7e9bdb4-520b-4b9d-fb2e-f1fcf8c1bd5e"
      },
      "execution_count": null,
      "outputs": [
        {
          "output_type": "stream",
          "name": "stdout",
          "text": [
            "Enter side length (0 to exit): 2\n",
            "Area =  4\n",
            "Enter side length (0 to exit): 5\n",
            "Area =  25\n",
            "Enter side length (0 to exit): 0\n",
            "Program exiting - goodbye...\n"
          ]
        }
      ]
    },
    {
      "cell_type": "markdown",
      "source": [
        "<br/>"
      ],
      "metadata": {
        "id": "JJGnig-yH0_n"
      }
    },
    {
      "cell_type": "markdown",
      "source": [
        "# **#2 - Your Turn**\n",
        "---"
      ],
      "metadata": {
        "id": "LTfa8ImBtsha"
      }
    },
    {
      "cell_type": "code",
      "source": [
        "first_num = min(range(50,56))\n",
        "print(\"Lower?\",first_num)\n",
        "\n",
        "last_num = max(range(50,56))\n",
        "print(\"Higher?\", last_num)\n",
        "i = 0\n",
        "for i in range(50,56):\n",
        "    if (i % 2) == 0:\n",
        "        print(i, \"Even\")\n",
        "    else:\n",
        "        print(i, \"Odd\")"
      ],
      "metadata": {
        "colab": {
          "base_uri": "https://localhost:8080/"
        },
        "id": "hYn8gR1WluTS",
        "outputId": "12f3365d-0780-4ee3-af7a-ceb6f9f4ff4f"
      },
      "execution_count": null,
      "outputs": [
        {
          "output_type": "stream",
          "name": "stdout",
          "text": [
            "Lower? 50\n",
            "Higher? 55\n",
            "50 Even\n",
            "51 Odd\n",
            "52 Even\n",
            "53 Odd\n",
            "54 Even\n",
            "55 Odd\n"
          ]
        }
      ]
    },
    {
      "cell_type": "markdown",
      "source": [
        "### **PROGRAM #1 |** Odd or Even\n",
        "---\n",
        "\n",
        "\n",
        "Create a program that takes in a lower and upper number for a loop to iterate through, and for each number inbetween, prints if the number is odd or even\n",
        "\n",
        "The output is expected to be similar to:\n",
        "\n",
        "***<u>Example Run</u>***<br/>\n",
        "Lower? **50**<br/>\n",
        "Upper? **55**<br/>\n",
        "50 Even<br/>\n",
        "51 Odd<br/>\n",
        "52 Even<br/>\n",
        "53 Odd<br/>\n",
        "54 Even<br/>\n",
        "55 Odd<br/>\n",
        "<br/><br/>\n"
      ],
      "metadata": {
        "id": "2uifW04Is2EE"
      }
    },
    {
      "cell_type": "code",
      "source": [
        "from re import L\n",
        "# Student Name:   Mathew Allen\n",
        "# Student Number: 1019868\n",
        "\n",
        "# INSERT YOUR ANSWER BELOW\n",
        "# objective create a range between 50 and 55\n",
        "# the numbers will print on each line\n",
        "# for each number a statement will indicate odd or even\n",
        "# Need to print out the first number in the range and last 0r the min and max\n",
        "\n",
        "#LOOP METHOD\n",
        "odd_even = range(50,56)# variable is set to a range\n",
        "number_list = list(odd_even)#variable is then converted to list\n",
        "\n",
        "lowest_num = number_list[0]#variable for lower number in list\n",
        "highest_num = number_list [0] #variable for upper number in list\n",
        "\n",
        "for val in number_list:\n",
        "  if val < lowest_num:\n",
        "    lowest_num = val\n",
        "print(\"Lower?\", lowest_num)\n",
        "\n",
        "for val in number_list:\n",
        "  if val > highest_num:\n",
        "    highest_num = val\n",
        "print(\"Upper?\", highest_num)\n",
        "\n",
        "i = 0# sets the variable i\n",
        "for i in number_list:#the looop will start at 50 and stop at 55\n",
        "    if (i % 2) == 0:# as the loop runs it will determine if the can be divided evenly by 2\n",
        "        print(i, \"Even\")#if true print\n",
        "    else:\n",
        "        print(i, \"Odd\")#else print (odd numbers)\n",
        "\n",
        "#-----------------------------------------------------------------------------\n",
        "#Alternate Method\n",
        "# first_num = min(range(50,56))#within the range this variable is the min number\n",
        "# print(\"Lower?\",first_num)# prints the min number in range\n",
        "\n",
        "# last_num = max(range(50,56))# within the range sets the variable to the max number\n",
        "# print(\"Upper?\", last_num)#prints the max number\n",
        "# i = 0# sets the variable i\n",
        "# for i in range(50,56):#the looop will start at 50 and stop at 55\n",
        "#     if (i % 2) == 0:# as the loop runs it will determine if the can be divided evenly by 2\n",
        "#         print(i, \"Even\")#if true print\n",
        "#     else:\n",
        "#         print(i, \"Odd\")#else print (odd numbers)"
      ],
      "metadata": {
        "id": "6_CTo-8Rjbu3",
        "colab": {
          "base_uri": "https://localhost:8080/"
        },
        "outputId": "d7313091-3d8c-4b73-d79e-22304fec120e"
      },
      "execution_count": 26,
      "outputs": [
        {
          "output_type": "stream",
          "name": "stdout",
          "text": [
            "Lower? 50\n",
            "Upper? 55\n",
            "50 Even\n",
            "51 Odd\n",
            "52 Even\n",
            "53 Odd\n",
            "54 Even\n",
            "55 Odd\n"
          ]
        }
      ]
    },
    {
      "cell_type": "code",
      "source": [],
      "metadata": {
        "id": "uH_qeR4UlnK4"
      },
      "execution_count": 15,
      "outputs": []
    },
    {
      "cell_type": "markdown",
      "source": [
        "<br/><BR/>"
      ],
      "metadata": {
        "id": "T1VrXym6tjGs"
      }
    },
    {
      "cell_type": "markdown",
      "source": [
        "### **Submission**\n",
        "---\n",
        "\n",
        "When you believe you have the program correctly working, please run the program and enter valid details for height and weight (you don't need to use your own if you do not want to) to get the output of BMI to show.\n",
        "<br/><br/>\n",
        "When you are ready to submit please go to `File` -> `Print` -> `Print PDF` and then upload and submit in the LMS.\n",
        "\n",
        "Please save your file to GitHub via: `File` -> `Save a copy in GitHub`"
      ],
      "metadata": {
        "id": "N-XTusSvusCo"
      }
    }
  ]
}
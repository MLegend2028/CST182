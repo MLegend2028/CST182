{
  "nbformat": 4,
  "nbformat_minor": 0,
  "metadata": {
    "colab": {
      "provenance": [],
      "toc_visible": true,
      "include_colab_link": true
    },
    "kernelspec": {
      "name": "python3",
      "display_name": "Python 3"
    },
    "language_info": {
      "name": "python"
    }
  },
  "cells": [
    {
      "cell_type": "markdown",
      "metadata": {
        "id": "view-in-github",
        "colab_type": "text"
      },
      "source": [
        "<a href=\"https://colab.research.google.com/github/MLegend2028/CST182/blob/main/Tutorial_2_Mathew_Allen_Conditionals.ipynb\" target=\"_parent\"><img src=\"https://colab.research.google.com/assets/colab-badge.svg\" alt=\"Open In Colab\"/></a>"
      ]
    },
    {
      "cell_type": "code",
      "source": [
        "mark = int(input(\"Mark? \"))\n",
        "# print(mark)\n",
        "if mark >= 80:\n",
        "    print(\"Your grade is HD\")\n",
        "elif mark >= 70:\n",
        "    print(\"Your grade is D\")\n",
        "elif mark >= 60:\n",
        "    print(\"Your mark is C\")\n",
        "elif mark >= 50:\n",
        "    print(\"Your mark is D\")\n",
        "else:\n",
        "    print(\"below 50\")"
      ],
      "metadata": {
        "colab": {
          "base_uri": "https://localhost:8080/"
        },
        "id": "cki5ZdxoO-eX",
        "outputId": "161d8ca6-70f8-4da2-8bfb-9be9b80c20ed"
      },
      "execution_count": 13,
      "outputs": [
        {
          "output_type": "stream",
          "name": "stdout",
          "text": [
            "Mark? 50\n",
            "Your mark is D\n"
          ]
        }
      ]
    },
    {
      "cell_type": "markdown",
      "source": [
        "# **TUTORIAL #2 - CONDITIONALS**\n",
        "<br/>\n",
        "\n",
        "\n",
        "\n",
        "\n",
        "\n"
      ],
      "metadata": {
        "id": "h7roITOPgVZ6"
      }
    },
    {
      "cell_type": "markdown",
      "source": [
        "\n",
        "\n",
        "In this tutorial, we will be revise the main topics covered in conditionals\n",
        "\n",
        "> **Note:** *For a comprehensive understanding please refer to the materials on the LMS*\n",
        "\n",
        "<br/>"
      ],
      "metadata": {
        "id": "s_k8FCrNeG7z"
      }
    },
    {
      "cell_type": "markdown",
      "source": [
        "# **#1 - Basic Conditions**\n",
        "---"
      ],
      "metadata": {
        "id": "HsVTz9MxfdGf"
      }
    },
    {
      "cell_type": "markdown",
      "source": [
        "## `if` statement\n",
        "---\n",
        "To add a conditional to our code we will use the `if` statement - which will evalute to either `True` or `False`.\n",
        "\n",
        "If the conditional resolves to `True`, then the indented block of code immediately following will be executed.\n",
        "\n",
        "<br/>\n",
        "\n",
        "We can see this in the following code where we check a variable, `age`, against the value of 18"
      ],
      "metadata": {
        "id": "bSKXUU6bdrRf"
      }
    },
    {
      "cell_type": "code",
      "execution_count": 3,
      "metadata": {
        "colab": {
          "base_uri": "https://localhost:8080/"
        },
        "id": "IYImmxj-gLjs",
        "outputId": "96137b2c-9ab1-4fda-e6a5-ea1619a27102"
      },
      "outputs": [
        {
          "output_type": "stream",
          "name": "stdout",
          "text": [
            "You are an adult\n"
          ]
        }
      ],
      "source": [
        "age = 19\n",
        "\n",
        "if age >= 18:\n",
        "  print(\"You are an adult\")"
      ]
    },
    {
      "cell_type": "markdown",
      "source": [
        ">**Note:** *Throughout this and all following tutorials please feel free to edit the code to check your understanding. For example, try and change the `age` to 16, 18 etc. You can also update the conditional itself to greater than, less than, equal to, not equal to, etc.*"
      ],
      "metadata": {
        "id": "7FHSrDwVe-_l"
      }
    },
    {
      "cell_type": "markdown",
      "source": [
        "## `if`/`else` statement\n",
        "---\n",
        "We can add the keyword else to account for all other possiblities of the expression is not True.\n",
        "\n",
        "For example, we could slightly update our previous program to add an else clause"
      ],
      "metadata": {
        "id": "OoN_mC39ff-c"
      }
    },
    {
      "cell_type": "code",
      "source": [
        "age = 17\n",
        "\n",
        "if age >= 18:\n",
        "  print(\"You are an adult\")\n",
        "else:\n",
        "  print(\"You are still (legally) a child\")"
      ],
      "metadata": {
        "colab": {
          "base_uri": "https://localhost:8080/"
        },
        "id": "J09BYBiyfvor",
        "outputId": "67a4c4b4-3de5-4aad-cb12-7cd4d109a799"
      },
      "execution_count": 4,
      "outputs": [
        {
          "output_type": "stream",
          "name": "stdout",
          "text": [
            "You are still (legally) a child\n"
          ]
        }
      ]
    },
    {
      "cell_type": "markdown",
      "source": [
        ">**Note:** *You do not add a condition to an `else` - it captures all other possiblitities*"
      ],
      "metadata": {
        "id": "vnsLGhf-g6Aj"
      }
    },
    {
      "cell_type": "markdown",
      "source": [
        "## `elif` statement\n",
        "---\n",
        "We can add further possiblilities via the `elif` statement - which comes between the `if` and `else` statements.\n",
        "\n",
        "Take for example if we wanted to also add the option of letting a person know they are a teenager"
      ],
      "metadata": {
        "id": "NJE-q67pgN1a"
      }
    },
    {
      "cell_type": "code",
      "source": [
        "age = 17\n",
        "\n",
        "if age >= 18:\n",
        "  print(\"You are an adult\")\n",
        "elif age >=13:\n",
        "  print(\"You are a teenager\")\n",
        "else:\n",
        "  print(\"You are still a child\")"
      ],
      "metadata": {
        "colab": {
          "base_uri": "https://localhost:8080/"
        },
        "id": "M3rC0E2Mgd70",
        "outputId": "c307108c-7de5-468c-ee23-4e1607e54fca"
      },
      "execution_count": 5,
      "outputs": [
        {
          "output_type": "stream",
          "name": "stdout",
          "text": [
            "You are a teenager\n"
          ]
        }
      ]
    },
    {
      "cell_type": "markdown",
      "source": [
        ">**Note:** As soon as one condition from an `if`/`elif` set of statements evalutates to `True`, the associated code block will be executed and then the program will jump out of the `if`/`elif`/`else` block `Inline code`\n",
        "\n",
        "\n",
        "<br/>"
      ],
      "metadata": {
        "id": "5YJVRt_vi8fq"
      }
    },
    {
      "cell_type": "markdown",
      "source": [
        "# **#2 - Boolean Conditions**\n",
        "---"
      ],
      "metadata": {
        "id": "U9G1yD0KhPOj"
      }
    },
    {
      "cell_type": "markdown",
      "source": [
        "We can add the *boolean conditions* `and`, `or`, `not` to our expressions"
      ],
      "metadata": {
        "id": "wBo9dwkDhSAC"
      }
    },
    {
      "cell_type": "markdown",
      "source": [
        "### **Boolean `and`**\n",
        "\n",
        "The `and` operator ensure that *both* conditions evaluate to `True` before executing the code block associated.\n",
        "\n",
        "For example, the following code will only run if both the height and age and correct"
      ],
      "metadata": {
        "id": "TZ4TCo0HhXlX"
      }
    },
    {
      "cell_type": "code",
      "source": [
        "age = 13\n",
        "height = 160\n",
        "\n",
        "if age >= 14 and height >= 140:\n",
        "  print(\"You can ride this rollercoaster\")\n",
        "else:\n",
        "  print(\"Sorry - you are denied entry to this ride.\")"
      ],
      "metadata": {
        "colab": {
          "base_uri": "https://localhost:8080/"
        },
        "id": "Qu49ODoRhfap",
        "outputId": "00aa62ec-c502-4df7-e432-4af51409518e"
      },
      "execution_count": 6,
      "outputs": [
        {
          "output_type": "stream",
          "name": "stdout",
          "text": [
            "Sorry - you are denied entry to this ride.\n"
          ]
        }
      ]
    },
    {
      "cell_type": "markdown",
      "source": [
        "### **Boolean `or`**\n",
        "\n",
        "The `or` operator ensure that *at least one* of the  conditions evaluate to `True` before executing the code block associated.\n",
        "\n",
        "For example, the following code will only run if a person has either a drivers license or id"
      ],
      "metadata": {
        "id": "FksBOSJph4D8"
      }
    },
    {
      "cell_type": "code",
      "source": [
        "license = True\n",
        "passport = False\n",
        "\n",
        "if license == True or passport == True:\n",
        "  print(\"Documentation provided\")\n",
        "else:\n",
        "  print(\"Insufficient documentation provided\")"
      ],
      "metadata": {
        "colab": {
          "base_uri": "https://localhost:8080/"
        },
        "id": "D3NI1QaViBed",
        "outputId": "e68ee238-31f4-4e04-b8e4-36a1f11fdb0d"
      },
      "execution_count": null,
      "outputs": [
        {
          "output_type": "stream",
          "name": "stdout",
          "text": [
            "Documentation provided\n"
          ]
        }
      ]
    },
    {
      "cell_type": "markdown",
      "source": [
        ">**Note:** *Reminder - Python uses capitalised `True` and `False` for the boolean values - and will not work with lowercase like many other languages.*"
      ],
      "metadata": {
        "id": "96sv4h4ciZC3"
      }
    },
    {
      "cell_type": "markdown",
      "source": [
        "### **Boolean `not`**\n",
        "\n",
        "The `not` operator ensure that the records that are true for the second condition are not True before executing the code block associated.\n",
        "\n",
        "For example, the following code will only run if a food is vegetarian but does not contain diary\n"
      ],
      "metadata": {
        "id": "EHEcatuviqJb"
      }
    },
    {
      "cell_type": "code",
      "source": [
        "vegetarian = True\n",
        "dairy = True\n",
        "\n",
        "if vegetarian == True and not dairy == True:\n",
        "  print(\"You can eat this food item\")\n",
        "else:\n",
        "  print(\"Please do not eat this food item\")"
      ],
      "metadata": {
        "colab": {
          "base_uri": "https://localhost:8080/"
        },
        "id": "tfIhkT3ji-x0",
        "outputId": "4fe2c962-94de-4012-c09b-500cebb62f8c"
      },
      "execution_count": 7,
      "outputs": [
        {
          "output_type": "stream",
          "name": "stdout",
          "text": [
            "Please do not eat this food item\n"
          ]
        }
      ]
    },
    {
      "cell_type": "markdown",
      "source": [
        "<br/>"
      ],
      "metadata": {
        "id": "zjKu9FCWjURq"
      }
    },
    {
      "cell_type": "markdown",
      "source": [
        "# **#3. YOUR TURN**\n",
        "---"
      ],
      "metadata": {
        "id": "LTfa8ImBtsha"
      }
    },
    {
      "cell_type": "markdown",
      "source": [
        "### **PROGRAM #1 |** BMI Calculator\n",
        "---\n",
        "\n",
        "\n",
        "Create a program that takes in a users mark and will print out their grade based on the following:\n",
        "\n",
        "\n",
        "\n",
        "\n",
        "```\n",
        "80 or above:   HD\n",
        "70 or above:    D\n",
        "60 or above:    C\n",
        "50 or above:    D\n",
        "Below 50:       F\n",
        "\n",
        "```\n",
        "\n",
        "The output is expected to be similar to:\n",
        "\n",
        "\n",
        "Mark? **50**<br/>\n",
        "Your grade is D\n",
        "<br/><br/>\n",
        "**Code**"
      ],
      "metadata": {
        "id": "2uifW04Is2EE"
      }
    },
    {
      "cell_type": "code",
      "source": [
        "# Student Name:   Mathew Allen\n",
        "# Student Number: 1019868\n",
        "\n",
        "# INSERT YOUR ANSWER BELOW\n",
        "\n",
        "\n"
      ],
      "metadata": {
        "id": "6_CTo-8Rjbu3"
      },
      "execution_count": null,
      "outputs": []
    },
    {
      "cell_type": "markdown",
      "source": [
        "<br/><BR/>"
      ],
      "metadata": {
        "id": "T1VrXym6tjGs"
      }
    },
    {
      "cell_type": "markdown",
      "source": [
        "### **Submission**\n",
        "---\n",
        "\n",
        "When you believe you have the program correctly working, please run the program and enter valid details for height and weight (you don't need to use your own if you do not want to) to get the output of BMI to show.\n",
        "<br/><br/>\n",
        "When you are ready to submit please go to `File` -> `Print` -> `Print PDF` and then upload and submit in the LMS.\n",
        "\n",
        "Please save your file to GitHub via: `File` -> `Save a copy in GitHub`"
      ],
      "metadata": {
        "id": "N-XTusSvusCo"
      }
    }
  ]
}
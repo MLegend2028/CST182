{
  "cells": [
    {
      "cell_type": "markdown",
      "metadata": {
        "id": "view-in-github",
        "colab_type": "text"
      },
      "source": [
        "<a href=\"https://colab.research.google.com/github/MLegend2028/CST182/blob/main/Lab_02_Mathew_Allen_Conditionals.ipynb\" target=\"_parent\"><img src=\"https://colab.research.google.com/assets/colab-badge.svg\" alt=\"Open In Colab\"/></a>"
      ]
    },
    {
      "cell_type": "code",
      "execution_count": null,
      "metadata": {
        "colab": {
          "background_save": true,
          "base_uri": "https://localhost:8080/"
        },
        "id": "IDu_oGodPMVu",
        "outputId": "46aaa009-9be8-44e3-9069-cda6b9d426fe"
      },
      "outputs": [
        {
          "metadata": {
            "tags": null
          },
          "name": "stdout",
          "output_type": "stream",
          "text": [
            "Welcome to the rollercoaster!\n"
          ]
        }
      ],
      "source": [
        "\n"
      ]
    },
    {
      "cell_type": "markdown",
      "metadata": {
        "id": "qdM8hjkwAnQ5"
      },
      "source": [
        "# **LAB #02** - CONDITIONALS\n",
        "<br/>\n"
      ]
    },
    {
      "cell_type": "markdown",
      "metadata": {
        "id": "ax351qT1A2wO"
      },
      "source": [
        "><table>\n",
        "##**Lab Overview**\n",
        "\n",
        "These lab questions will help develop your understanding of conditional statements and some of the applications where conditionals are used.  \n",
        "></table>\n",
        "\n",
        "<br/><br/>\n",
        "\n"
      ]
    },
    {
      "cell_type": "markdown",
      "metadata": {
        "id": "f1kwJQuoLhE4"
      },
      "source": [
        "# **Question #1** - Sort three numbers\n",
        "---\n",
        "<br/>\n",
        "\n",
        "Write a program that asks for three numbers from the user, and prints out the three numbers in ascending order.  <br/><br/>\n",
        "\n",
        "\n",
        "**<u>Example Run:</u>**<br/>\n",
        "Number #1? **9**<br/>\n",
        "Number #1? **3**<br/>\n",
        "Number #1? **5**<br/>\n",
        "Result = 3 5 9<br/>\n",
        "<br/>\n",
        ">**Note:** *You cannot use the `max()` or `min()` functions*\n"
      ]
    },
    {
      "cell_type": "markdown",
      "metadata": {
        "id": "jxaY-33JMb77"
      },
      "source": [
        "### Your Answer:"
      ]
    },
    {
      "cell_type": "code",
      "execution_count": 3,
      "metadata": {
        "id": "Wc7e2wC5McY0",
        "colab": {
          "base_uri": "https://localhost:8080/"
        },
        "outputId": "97b49abe-7316-43f3-c363-ae8963093a94"
      },
      "outputs": [
        {
          "output_type": "stream",
          "name": "stdout",
          "text": [
            "Enter three numbers\n",
            "Number #1? 9\n",
            "Number #1? 3\n",
            "Number #1? 5\n",
            "Result = 3 5 9\n"
          ]
        }
      ],
      "source": [
        "# Student Name: Mathew Allen\n",
        "# Student Number:1019868\n",
        "#prints the ascending order the normal print function prints including the syntax [] to change this the * operator prints without the brackets or commas.\n",
        "#Print lists in python reference https://www.geeksforgeeks.org/print-lists-in-python-4-different-ways/\n",
        "\n",
        "# Add answer below this line\n",
        "\n",
        "print(\"Enter three numbers\")\n",
        "user_input1 = int(input(\"Number #1? \")) #collects the input of number 1\n",
        "user_input2 = int(input(\"Number #1? \")) #collects the input of number 2\n",
        "user_input3 = int(input(\"Number #1? \")) #collects the input of number 3\n",
        "\n",
        "a = [user_input1,user_input2,user_input3] #variable for all three inputs as a list\n",
        "a.sort()# takes each input and sorts them into ascending order\n",
        "print(\"Result =\",*a)\n"
      ]
    },
    {
      "cell_type": "markdown",
      "metadata": {
        "id": "McmLtW4vMjKn"
      },
      "source": [
        "<Br/><br/>\n"
      ]
    },
    {
      "cell_type": "markdown",
      "metadata": {
        "id": "9ML3CMJVBxuF"
      },
      "source": [
        "# **Question #2** - BMI Calculator + Range\n",
        "---\n",
        "\n",
        "<br/>\n",
        "\n",
        "We will take the BMI question from Tutorial #1 and extend its functionality.<br/><br/>\n",
        "\n",
        "> <table><tr><td>\n",
        "\n",
        "<b>Old Tutorial 1 Question</b><Br/><br/>\n",
        "\n",
        "Create a program that calculates a user's BMI. To do this, you will need to take in the users:\n",
        "\n",
        "1.   name\n",
        "2.   height (in meters; e.g., 1.8)\n",
        "3.   weight (in kg; e.g., 60)\n",
        "\n",
        "and then insert the values into the equation: $BMI = \\frac{weight}{height^2}$\n",
        "<br/>\n",
        "<br/>\n",
        "(Note: You can square the height by either multiplying by itself, or using `height**2`)\n",
        "<br/><br/>\n",
        "\n",
        "The output is expected to be similar to:\n",
        "\n",
        "`Hi Luke, your BMI is 23.0`\n",
        "\n",
        "></td></tr></table>\n",
        "\n",
        "<br/><br/>\n",
        "\n",
        "Your job is to update this program so it also shows the range that the calculated BMI falls within. <br/><br/>\n",
        "\n",
        "\n",
        "**<u>Example Run:</u>**<br/>\n",
        "Weight? **180**<br/>\n",
        "Height? **80**<br/>\n",
        "BMI = 24.7<br/>\n",
        "The given BMI is classified as: Healthy<br/>\n",
        "\n",
        ">**Note:** *The ranges haven't been given to you - you need to do a bit of research and add a reference to the site you used in the program comments.*\n",
        "\n",
        "\n",
        "<br/>\n"
      ]
    },
    {
      "cell_type": "markdown",
      "metadata": {
        "id": "gPCRbhBxGMN0"
      },
      "source": [
        "### Your Answer:"
      ]
    },
    {
      "cell_type": "code",
      "execution_count": 20,
      "metadata": {
        "id": "LuZZ6MqZAkbS",
        "colab": {
          "base_uri": "https://localhost:8080/"
        },
        "outputId": "ad0959a3-55b8-49d9-e8e3-cf571f43108e"
      },
      "outputs": [
        {
          "output_type": "stream",
          "name": "stdout",
          "text": [
            "Height? 1.8\n",
            "Weight? 140\n",
            "BMI 43.2\n",
            "The given BMI is classified as: Obese class III\n"
          ]
        }
      ],
      "source": [
        "# Student Name:Mathew Allen\n",
        "# Student Number: 1019868\n",
        "# BMI Ranges Reference URL:https://www.health.gov.au/topics/overweight-and-obesity/bmi-and-waist\n",
        "\n",
        "# Add answer below this line\n",
        "\n",
        "user_height = float(input(\"Height? \"))\n",
        "user_weight = int(input(\"Weight? \"))\n",
        "user_bmi = round(user_weight / user_height**2,1)\n",
        "\n",
        "# print(user_height)\n",
        "# print(user_weight)\n",
        "print(\"BMI\", user_bmi)\n",
        "\n",
        "if user_bmi <18.5:\n",
        "    print(\"The given BMI is classified as: Underweight\") #<= 18.5\n",
        "elif user_bmi < 25:\n",
        "    print(\"The given BMI is classified as: Healthy\") #18.5 - 24.9\n",
        "elif user_bmi < 30:\n",
        "    print(\"The given BMI is classified as: Overweight\")# 25 - 29.9\n",
        "elif user_bmi <35:\n",
        "    print(\"The given BMI is classified as: Obese class I\")#30 - 34.9\n",
        "elif user_bmi < 40:\n",
        "    print(\"The given BMI is classified as: Obese class II\")#35 - 39.9\n",
        "else:\n",
        "     print(\"The given BMI is classified as: Obese class III\")#40 above\n",
        "\n"
      ]
    },
    {
      "cell_type": "markdown",
      "metadata": {
        "id": "gPpEwbJeD_qb"
      },
      "source": [
        "<br/><br/>\n"
      ]
    },
    {
      "cell_type": "markdown",
      "metadata": {
        "id": "gJ5eqV6jEA9g"
      },
      "source": [
        "# **Question #3** - Movie tickets\n",
        "---\n",
        "\n",
        "Create a program that calculates the cost of a ticket at the movies. The program asks the person's age. If they are under 18, they get a child's ticket at \\$10.00, and adults pay \\$20.00. However, if a person is over 65, they are asked if they have a concession card, and if so, then receive a \\$15.00 ticket. <br/><br/>\n",
        "\n",
        "**<u>Example Run #1:</u>**<br/>\n",
        "Age? **15**<br/>\n",
        "Ticket = $10.00<br/><br/>\n",
        "\n",
        "**<u>Example Run #2:</u>**<br/>\n",
        "Age? **30**<br/>\n",
        "Ticket = $20.00<br/><br/>\n",
        "\n",
        "**<u>Example Run #3:</u>**<br/>\n",
        "Age? **70**<br/>\n",
        "Concession Card? **Yes**<br/>\n",
        "Ticket = $15.00<br/><br/>\n",
        "\n",
        "**<u>Example Run #4:</u>**<br/>\n",
        "Age? **70**<br/>\n",
        "Concession Card? **No**<br/>\n",
        "Ticket = $20.00<br/><br/>"
      ]
    },
    {
      "cell_type": "code",
      "source": [
        "age = int(input(\"Age=? \")) #sets age variable to user input\n",
        "if age < 18: #Sets range of age which will determine ticket prices\n",
        "    ticket = 10\n",
        "    print(\"Ticket = $10.00\")\n",
        "\n",
        "elif age <=65: #Sets range of age which will determine ticket prices\n",
        "    ticket = 20\n",
        "    print(\"Ticket = $20.00\")\n",
        "\n",
        "if age >= 66: #Sets range of age which will determine ticket prices\n",
        "    concession = input(\"Concession Card? \") #Sets variable for to determine concession amount based on user input\n",
        "    if concession == \"Yes\":#if condition is Yes discount applied\n",
        "        print(\"Ticket is $15.00\")\n",
        "    else:# if input is No ticket is normal prices\n",
        "        print(\"Ticket is $20.00\")"
      ],
      "metadata": {
        "id": "QO7rrpXkym-m",
        "colab": {
          "base_uri": "https://localhost:8080/"
        },
        "outputId": "81872b3a-5c00-4e3d-81ef-b7091cd31811"
      },
      "execution_count": 26,
      "outputs": [
        {
          "output_type": "stream",
          "name": "stdout",
          "text": [
            "Age=? 70\n",
            "Concession Card? No\n",
            "Ticket is $20.00\n"
          ]
        }
      ]
    },
    {
      "cell_type": "markdown",
      "metadata": {
        "id": "k1Og8sTGGIGP"
      },
      "source": [
        "### Your Answer:"
      ]
    },
    {
      "cell_type": "code",
      "execution_count": null,
      "metadata": {
        "id": "z4XLivudFpaW"
      },
      "outputs": [],
      "source": [
        "# Student Name:\n",
        "# Student Number:\n",
        "\n",
        "# Add answer below this line\n"
      ]
    },
    {
      "cell_type": "markdown",
      "metadata": {
        "id": "yNYlz8tFGt0U"
      },
      "source": [
        "<br/><br/>"
      ]
    },
    {
      "cell_type": "markdown",
      "metadata": {
        "id": "CxZ8SilaD9Gq"
      },
      "source": [
        "# **Submission**\n",
        "---\n",
        "\n",
        "When you believe you have the program correctly working, please run the program and enter valid details for each program so that the output is apparent.\n",
        "<br/><br/>\n",
        "When you are ready to submit please\n",
        "\n",
        "*   go to `File` -> `Print` -> `Print PDF` and then upload and submit in the LMS.\n",
        "*   save your file to GitHub via: `File` -> `Save a copy in GitHub`\n"
      ]
    }
  ],
  "metadata": {
    "colab": {
      "provenance": [],
      "toc_visible": true,
      "include_colab_link": true
    },
    "kernelspec": {
      "display_name": "Python 3",
      "name": "python3"
    },
    "language_info": {
      "name": "python"
    }
  },
  "nbformat": 4,
  "nbformat_minor": 0
}
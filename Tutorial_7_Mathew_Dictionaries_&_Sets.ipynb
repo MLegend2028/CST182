{
  "nbformat": 4,
  "nbformat_minor": 0,
  "metadata": {
    "colab": {
      "provenance": [],
      "include_colab_link": true
    },
    "kernelspec": {
      "name": "python3",
      "display_name": "Python 3"
    },
    "language_info": {
      "name": "python"
    }
  },
  "cells": [
    {
      "cell_type": "markdown",
      "metadata": {
        "id": "view-in-github",
        "colab_type": "text"
      },
      "source": [
        "<a href=\"https://colab.research.google.com/github/MLegend2028/CST182/blob/main/Tutorial_7_Mathew_Dictionaries_%26_Sets.ipynb\" target=\"_parent\"><img src=\"https://colab.research.google.com/assets/colab-badge.svg\" alt=\"Open In Colab\"/></a>"
      ]
    },
    {
      "cell_type": "markdown",
      "source": [
        "\n",
        "\n",
        "\n",
        "# **TUTORIAL #7 - Dictionaries & Sets**\n",
        "<br/>\n",
        "\n",
        "\n",
        "\n",
        "\n",
        "\n"
      ],
      "metadata": {
        "id": "h7roITOPgVZ6"
      }
    },
    {
      "cell_type": "markdown",
      "source": [
        "In this tutorial, we will be revise the main topics covered in dictionaries & sets.\n",
        "\n",
        "> **Note:** *For a comprehensive understanding please refer to the materials on the LMS*"
      ],
      "metadata": {
        "id": "j39qU2KEJ8Uu"
      }
    },
    {
      "cell_type": "markdown",
      "source": [
        "<br/>"
      ],
      "metadata": {
        "id": "HAhssq8Hr0Jn"
      }
    },
    {
      "cell_type": "markdown",
      "source": [],
      "metadata": {
        "id": "0ZvitM5cI9EK"
      }
    },
    {
      "cell_type": "markdown",
      "source": [
        "## **#1. Dictionaries**\n",
        "---\n",
        "\n",
        "Dictionaries are another data structure avaiable in Python. They are similar to lists in the fact they can store data, however, differ in that they are in the format of `key:value` pairs (rather than values with associated indicies)"
      ],
      "metadata": {
        "id": "-GAXHau1oAMK"
      }
    },
    {
      "cell_type": "markdown",
      "source": [
        "### **Basics**\n",
        "\n",
        "\n",
        "We can set up a dictionary by simply assigning key:value pairs:"
      ],
      "metadata": {
        "id": "Gv_oPq7ExgjK"
      }
    },
    {
      "cell_type": "code",
      "source": [
        "my_dict = {\n",
        "    \"name\": \"Luke\",\n",
        "    \"age\": 33,\n",
        "    \"Occupation\": \"Educator\"\n",
        "}"
      ],
      "metadata": {
        "id": "v9xYp4ySBHks"
      },
      "execution_count": null,
      "outputs": []
    },
    {
      "cell_type": "markdown",
      "source": [
        "and print the list via"
      ],
      "metadata": {
        "id": "lQS8F7I3BMYg"
      }
    },
    {
      "cell_type": "code",
      "source": [
        "print(my_dict)"
      ],
      "metadata": {
        "colab": {
          "base_uri": "https://localhost:8080/"
        },
        "id": "YVOtdwycBN8_",
        "outputId": "cdf8c2f4-c4b3-4e08-a352-0ecf58710185"
      },
      "execution_count": null,
      "outputs": [
        {
          "output_type": "stream",
          "name": "stdout",
          "text": [
            "{'name': 'Luke', 'age': 33, 'Occupation': 'Educator'}\n"
          ]
        }
      ]
    },
    {
      "cell_type": "markdown",
      "source": [
        "or print a specific value in the list via index"
      ],
      "metadata": {
        "id": "Z67tf9npBQPV"
      }
    },
    {
      "cell_type": "code",
      "source": [
        "print(my_dict[\"name\"])"
      ],
      "metadata": {
        "colab": {
          "base_uri": "https://localhost:8080/"
        },
        "id": "UDekIoc5BPXn",
        "outputId": "d43f8686-e827-4f20-f974-3613c952c86f"
      },
      "execution_count": null,
      "outputs": [
        {
          "output_type": "stream",
          "name": "stdout",
          "text": [
            "Luke\n"
          ]
        }
      ]
    },
    {
      "cell_type": "markdown",
      "source": [
        "### **Dictionary Manipulative Functions**\n",
        "\n",
        "---\n",
        "<br/>\n",
        "\n",
        "We can use a variety of functions to manipulate the data in our dictionaries"
      ],
      "metadata": {
        "id": "XASv2WpqChUh"
      }
    },
    {
      "cell_type": "markdown",
      "source": [
        "#### **Add values**\n",
        "\n",
        "We can add values by simply assigning a new key:value pair."
      ],
      "metadata": {
        "id": "igh09XYeCqDk"
      }
    },
    {
      "cell_type": "code",
      "source": [
        "print(my_dict)\n",
        "\n",
        "my_dict[\"height\"] = 1.87\n",
        "print(my_dict)"
      ],
      "metadata": {
        "colab": {
          "base_uri": "https://localhost:8080/"
        },
        "id": "876pBE3xCoST",
        "outputId": "49f23372-6513-47b1-d85e-98b82718f8e2"
      },
      "execution_count": null,
      "outputs": [
        {
          "output_type": "stream",
          "name": "stdout",
          "text": [
            "{'name': 'Luke', 'age': 33, 'Occupation': 'Educator'}\n",
            "{'name': 'Luke', 'age': 33, 'Occupation': 'Educator', 'height': 1.87}\n"
          ]
        }
      ]
    },
    {
      "cell_type": "markdown",
      "source": [
        "#### **Update Values**\n",
        "\n",
        "We can update values by simply setting the key of the dictionary to a new value"
      ],
      "metadata": {
        "id": "S_6a8MJmC3BY"
      }
    },
    {
      "cell_type": "code",
      "source": [
        "print(my_dict)\n",
        "\n",
        "my_dict[\"age\"] = 99\n",
        "print(my_dict)"
      ],
      "metadata": {
        "colab": {
          "base_uri": "https://localhost:8080/"
        },
        "id": "IKaGpsg6C-ws",
        "outputId": "e0af6623-81d5-4d16-8aef-05e56a0c200f"
      },
      "execution_count": null,
      "outputs": [
        {
          "output_type": "stream",
          "name": "stdout",
          "text": [
            "{'name': 'Luke', 'age': 33, 'Occupation': 'Educator', 'height': 1.87}\n",
            "{'name': 'Luke', 'age': 99, 'Occupation': 'Educator', 'height': 1.87}\n"
          ]
        }
      ]
    },
    {
      "cell_type": "markdown",
      "source": [
        "#### **Delete Values** | *via key*\n",
        "\n",
        "We can delete values via the keyword `del`"
      ],
      "metadata": {
        "id": "eX991RlrDcmL"
      }
    },
    {
      "cell_type": "code",
      "source": [
        "print(my_dict)\n",
        "\n",
        "del my_dict[\"height\"]\n",
        "print(my_dict)"
      ],
      "metadata": {
        "colab": {
          "base_uri": "https://localhost:8080/"
        },
        "id": "uVXhtXl9DfOX",
        "outputId": "08f6b8c6-9a14-4068-b6e0-cac8a5d4f33f"
      },
      "execution_count": null,
      "outputs": [
        {
          "output_type": "stream",
          "name": "stdout",
          "text": [
            "{'name': 'Luke', 'age': 99, 'Occupation': 'Educator', 'height': 1.87}\n",
            "{'name': 'Luke', 'age': 99, 'Occupation': 'Educator'}\n"
          ]
        }
      ]
    },
    {
      "cell_type": "markdown",
      "source": [
        "## **#2. Sets**\n",
        "---\n",
        "\n",
        "Sets are another data structure avaiable in Python. The difference is that sets do not allow duplicate values, and they also have some additional functions for comparing two sets\n"
      ],
      "metadata": {
        "id": "JjPT5mCDI_lW"
      }
    },
    {
      "cell_type": "markdown",
      "source": [
        "### **Basics**\n",
        "\n",
        "\n",
        "We can set up a set by simply passing values between curly braces (similar to a dictionary - but here we do not pass key:value pairs)"
      ],
      "metadata": {
        "id": "9zKfu3usJQhi"
      }
    },
    {
      "cell_type": "code",
      "source": [
        "my_set = {\"Apple\", \"Banana\", \"Orange\"}"
      ],
      "metadata": {
        "id": "bIu6bj8aJQhj"
      },
      "execution_count": null,
      "outputs": []
    },
    {
      "cell_type": "markdown",
      "source": [
        "and print the set via"
      ],
      "metadata": {
        "id": "EvBQa6jhJQhj"
      }
    },
    {
      "cell_type": "code",
      "source": [
        "print(my_set)"
      ],
      "metadata": {
        "colab": {
          "base_uri": "https://localhost:8080/"
        },
        "outputId": "87927b62-e936-4f33-8419-76ccf342a568",
        "id": "YqOzfwKOJQhj"
      },
      "execution_count": null,
      "outputs": [
        {
          "output_type": "stream",
          "name": "stdout",
          "text": [
            "{'Apple', 'Banana', 'Orange'}\n"
          ]
        }
      ]
    },
    {
      "cell_type": "markdown",
      "source": [
        "### **Set Manipulative Functions**\n",
        "\n",
        "---\n",
        "<br/>\n",
        "\n",
        "We can use a variety of functions to manipulate the data in our sets"
      ],
      "metadata": {
        "id": "okYMKkH1JQhk"
      }
    },
    {
      "cell_type": "markdown",
      "source": [
        "#### **Add values**\n",
        "\n",
        "We can add values via the `add()` method"
      ],
      "metadata": {
        "id": "xzBfFOPJJQhk"
      }
    },
    {
      "cell_type": "code",
      "source": [
        "print(my_set)\n",
        "\n",
        "my_set.add(\"Mango\")\n",
        "print(my_set)"
      ],
      "metadata": {
        "colab": {
          "base_uri": "https://localhost:8080/"
        },
        "outputId": "aae33d62-9160-4ba5-b752-ac8225f0df00",
        "id": "znJikzafJQhk"
      },
      "execution_count": null,
      "outputs": [
        {
          "output_type": "stream",
          "name": "stdout",
          "text": [
            "{'Apple', 'Banana', 'Orange'}\n",
            "{'Apple', 'Banana', 'Mango', 'Orange'}\n"
          ]
        }
      ]
    },
    {
      "cell_type": "markdown",
      "source": [
        "#### **Delete Values** | *via value*\n",
        "\n",
        "We can delete values by their index via the `remove()` method"
      ],
      "metadata": {
        "id": "QCfHTnA6JQhl"
      }
    },
    {
      "cell_type": "code",
      "source": [
        "print(my_set)\n",
        "\n",
        "my_set.remove(\"Apple\")\n",
        "print(my_set)"
      ],
      "metadata": {
        "colab": {
          "base_uri": "https://localhost:8080/"
        },
        "outputId": "e9d3ea11-4bff-4b60-c1d2-bed7a15415ee",
        "id": "Qw7mVuBUJQhl"
      },
      "execution_count": null,
      "outputs": [
        {
          "output_type": "stream",
          "name": "stdout",
          "text": [
            "{'Apple', 'Banana', 'Mango', 'Orange'}\n",
            "{'Banana', 'Mango', 'Orange'}\n"
          ]
        }
      ]
    },
    {
      "cell_type": "markdown",
      "source": [
        "### **Set Additional Functions**\n",
        "\n",
        "---\n",
        "<br/>\n",
        "\n",
        "There are additional functions in sets to check commonalities or differences between two sets"
      ],
      "metadata": {
        "id": "SmdTC9r9Kk07"
      }
    },
    {
      "cell_type": "markdown",
      "source": [
        "### **`Union()`**\n",
        "\n",
        "\n",
        "The `union()` method allows us to join two sets together"
      ],
      "metadata": {
        "id": "Mfyp0vJsKugG"
      }
    },
    {
      "cell_type": "code",
      "source": [
        "new_set = {\"Pear\", \"Banana\"}\n",
        "\n",
        "print(my_set)\n",
        "print(new_set)\n",
        "\n",
        "print(\"\\n------------- union() ---------------\\n\")\n",
        "\n",
        "my_set.union(new_set)"
      ],
      "metadata": {
        "colab": {
          "base_uri": "https://localhost:8080/"
        },
        "id": "gT8xOig0Ky8d",
        "outputId": "02c7ac8e-00cc-4c08-ebd7-4fc6abbf9b96"
      },
      "execution_count": null,
      "outputs": [
        {
          "output_type": "stream",
          "name": "stdout",
          "text": [
            "{'Banana', 'Mango', 'Orange'}\n",
            "{'Banana', 'Pear'}\n",
            "\n",
            "------------- union() ---------------\n",
            "\n"
          ]
        },
        {
          "output_type": "execute_result",
          "data": {
            "text/plain": [
              "{'Banana', 'Mango', 'Orange', 'Pear'}"
            ]
          },
          "metadata": {},
          "execution_count": 24
        }
      ]
    },
    {
      "cell_type": "markdown",
      "source": [
        "### **`Intersection()`**\n",
        "\n",
        "\n",
        "The `intersection()` method allows us to see which values (if any) are common amongst both sets"
      ],
      "metadata": {
        "id": "G8_HSjYLLU6b"
      }
    },
    {
      "cell_type": "code",
      "source": [
        "print(my_set)\n",
        "print(new_set)\n",
        "\n",
        "print(\"\\n------------- intersection() ---------------\\n\")\n",
        "\n",
        "my_set.intersection(new_set)"
      ],
      "metadata": {
        "colab": {
          "base_uri": "https://localhost:8080/"
        },
        "id": "FPrscJ03LiTz",
        "outputId": "9a892dbd-212c-425a-978a-e128430c7476"
      },
      "execution_count": null,
      "outputs": [
        {
          "output_type": "stream",
          "name": "stdout",
          "text": [
            "{'Banana', 'Mango', 'Orange'}\n",
            "{'Banana', 'Pear'}\n",
            "\n",
            "------------- intersection() ---------------\n",
            "\n"
          ]
        },
        {
          "output_type": "execute_result",
          "data": {
            "text/plain": [
              "{'Banana'}"
            ]
          },
          "metadata": {},
          "execution_count": 25
        }
      ]
    },
    {
      "cell_type": "markdown",
      "source": [
        "### **`Difference()`**\n",
        "\n",
        "\n",
        "The `difference()` method allows us to see which values appear in the first set but not the second"
      ],
      "metadata": {
        "id": "PpL0vPfOLdM2"
      }
    },
    {
      "cell_type": "code",
      "source": [
        "print(my_set)\n",
        "print(new_set)\n",
        "\n",
        "print(\"\\n------------- difference() ---------------\\n\")\n",
        "\n",
        "print(my_set.difference(new_set), \"\\t(my_set.difference(new_set)\")\n",
        "print(new_set.difference(my_set), \"\\t\\t(new_set.difference(my_set)\")\n"
      ],
      "metadata": {
        "colab": {
          "base_uri": "https://localhost:8080/"
        },
        "id": "rkYw1fpaLu9w",
        "outputId": "bb1d6987-888d-4559-b5e5-e772da1ae060"
      },
      "execution_count": null,
      "outputs": [
        {
          "output_type": "stream",
          "name": "stdout",
          "text": [
            "{'Banana', 'Mango', 'Orange'}\n",
            "{'Banana', 'Pear'}\n",
            "\n",
            "------------- difference() ---------------\n",
            "\n",
            "{'Mango', 'Orange'} \t(my_set.difference(new_set)\n",
            "{'Pear'} \t\t(new_set.difference(my_set)\n"
          ]
        }
      ]
    },
    {
      "cell_type": "markdown",
      "source": [
        "<br/>"
      ],
      "metadata": {
        "id": "wLsdv7ooLub5"
      }
    },
    {
      "cell_type": "markdown",
      "source": [
        "\n",
        "##  **#3.YOUR TURN**\n",
        "---"
      ],
      "metadata": {
        "id": "LTfa8ImBtsha"
      }
    },
    {
      "cell_type": "markdown",
      "source": [
        "### **Program #1 |** A Simple Student Class &nbsp; **<i>[EXTENDED #2]</i>**\n",
        "---\n",
        "\n",
        "\n",
        "><table>\n",
        "\n",
        "Take the *Simple Student Class* tutorial from last week and paste your code below.\n",
        "></table>\n",
        "\n",
        ">><table>\n",
        "<small>\n",
        "In this program we will create a simple student class and a few objects.\n",
        "<br/><br/>\n",
        "The student class should have the following:<br/>\n",
        "\n",
        "Properties\n",
        "* `name` the name of the student\n",
        "* `marks` a list of final marks the student has been awarded\n",
        "\n",
        "\n",
        "Methods\n",
        "* `add_mark()` which takes a single value and adds it to the list of marks\n",
        "* `calculate_GPA()` which gets the average from the list of marks\n",
        "* `print_student()` which nicely prints a transcript for the student (name, marks, GPA)</small>\n",
        ">></table>\n",
        "\n",
        "><table>\n",
        "\n",
        "#### Your Task\n",
        "\n",
        "\n",
        "1.  Update the program to read in the data from `student_marks.txt` file (rather than the current data hard-coded in the program) into a List\n",
        "\n",
        "2. From there, you need to calculate the GPA for each student, and then print to a new file (`GPA_List.txt`) each student's name alongside their associated GPA in descending order.\n",
        "\n",
        "></table>\n",
        "\n",
        "<br/>\n",
        "\n",
        "### **Your Task**\n",
        "\n",
        "In the new program, use a dictionary to hold the data:\n",
        "* `name` holds the student's name\n",
        "* `scores` is a list that contains each student's scores"
      ],
      "metadata": {
        "id": "2uifW04Is2EE"
      }
    },
    {
      "cell_type": "code",
      "source": [
        "# Student Name:   MYNAME\n",
        "# Student Number: MYSTUDENTNUMBER\n",
        "\n",
        "# TODO: Insert code from simple student class from last week's tutorial here\n",
        "\n",
        "# g = open(\"GPA_List.txt\", \"w\")\n",
        "# g.write(\"\")\n",
        "# g.close()\n",
        "#\n",
        "#\n",
        "# g = open(\"student_marks.txt\", \"w\")\n",
        "# g.write(\"\")\n",
        "# g.close()\n",
        "#\n",
        "#\n",
        "# g = open(\"student_name.txt\", \"w\")\n",
        "# g.write(\"\")\n",
        "# g.close()\n",
        "while True:\n",
        "        #------------------------------------\")\n",
        "          print(str(\"Enter student name and 4 marks\"))\n",
        "          #program = print(str(\"Enter student name and 4 marks\"))\n",
        "          student_name = input(\"Name or 0 to exit: \")\n",
        "\n",
        "          if student_name == \"0\" or student_name == \"\":\n",
        "            print(\"Exiting program.\")\n",
        "            break\n",
        "\n",
        "          # if mark_num == \"-1\":\n",
        "          #   print(\"Exiting program.\")\n",
        "          #   break\n",
        "\n",
        "          student_marks_list = []  #sets empty list variable\n",
        "          add_mark = 0\n",
        "          mark_num = 0\n",
        "          max_score = 100\n",
        "          student_mark_list = []\n",
        "          calculate_GPA = 0\n",
        "          student_transcript = [0]\n",
        "\n",
        "\n",
        "\n",
        "          while add_mark >= 0:  #sets condition for loop to continue\n",
        "            mark_num += 1 #adds 1 to mark number\n",
        "            add_mark = int(input(f\"Mark #{mark_num}? \"))\n",
        "\n",
        "            if add_mark > max_score:\n",
        "              mark_num -= 1\n",
        "              print(\"Mark is invalid and it doesn't add the mark to the statistics\")\n",
        "              break\n",
        "\n",
        "            if add_mark < 0:\n",
        "                mark_num -= 1\n",
        "                print(\"Marking ceased\")\n",
        "                break\n",
        "\n",
        "            student_mark_list.append(add_mark)\n",
        "\n",
        "            calculate_GPA = round(float(sum(student_mark_list) / len(student_mark_list)),2)\n",
        "\n",
        "            if mark_num >= 4:\n",
        "              print(\"Average Mark =\",calculate_GPA)\n",
        "\n",
        "              #_____________________________\n",
        "\n",
        "              file = open(\"student_marks.txt\", \"a\")\n",
        "              for item in student_name:\n",
        "                file.write(item)\n",
        "\n",
        "\n",
        "              file = open(\"student_marks.txt\", \"a\")\n",
        "              file.write(\"\\n\")\n",
        "\n",
        "\n",
        "              file = open(\"student_marks.txt\", \"a\")\n",
        "              for item in student_mark_list:\n",
        "                file.write (str(item)+\" \")\n",
        "\n",
        "\n",
        "              file = open(\"student_marks.txt\", \"a\")\n",
        "              file.write(\"\\n\")\n",
        "              file.close()\n",
        "#____________________________________________________________\n",
        "              file = open(\"student_name.txt\", \"a\")\n",
        "              # for item in student_name:\n",
        "              file.write (student_name + \" \")\n",
        "\n",
        "                #----------------------------------------\n",
        "\n",
        "              break\n",
        "\n",
        "print(\"Continue with transcript\")\n",
        "file = open(\"student_marks.txt\")\n",
        "transcript = file.readlines()\n",
        "print(transcript)\n",
        "file.close()\n",
        "\n",
        "student_mark= []\n",
        "average_gpa = []\n",
        "all_students_gpa= []\n",
        "data_num = [0]\n",
        "# for list in (transcript):\n",
        "#   name = transcript[0]\n",
        "#   marks = transcript[1]\n",
        "for item in range(0, len(transcript),2):\n",
        "  name = transcript[item].strip()\n",
        "  marks = transcript[item+1].strip()\n",
        "\n",
        "  list_of_integers =[int(num) for num in marks.split()]\n",
        "\n",
        "  if list_of_integers:\n",
        "    average = round(float(sum(list_of_integers) / len(list_of_integers)),2)\n",
        "  else:\n",
        "    average = 0\n",
        "  all_students_gpa.append(f\"GPA: {average}, Student name: {name}\")\n",
        "\n",
        "  student_mark.append(marks)\n",
        "  # print(name)\n",
        "  print(f\"Student name: {name}\")\n",
        "  print(\"Student marks\",*list_of_integers)\n",
        "  print(\"GPA =\",average)\n",
        "  score = list_of_integers\n",
        "  # all_students_gpa.sort(reverse = True)\n",
        "# print(all_students_gpa)\n",
        "  print(f\"{name}\")\n",
        "  print(\"Scores\",*score)\n",
        "file = open(\"GPA_list.txt\", \"w\")\n",
        "for item in all_students_gpa:\n",
        "  file.write(item + \"\\n\")\n",
        "file.close()\n",
        "\n",
        "print(\"Continue with transcript\")\n",
        "file = open(\"student_name.txt\")\n",
        "name_list = file.readlines()\n",
        "print(*name_list)\n",
        "file.close()\n",
        "\n",
        "first_name = name_list\n",
        "names = {}\n",
        "\n",
        "for index, element in enumerate(first_name):\n",
        "  names[index] = element\n",
        "print(names)\n"
      ],
      "metadata": {
        "id": "6_CTo-8Rjbu3",
        "colab": {
          "base_uri": "https://localhost:8080/"
        },
        "outputId": "e3cc8be1-5dd2-4cdf-8776-35b0ebf3bb7d"
      },
      "execution_count": 13,
      "outputs": [
        {
          "output_type": "stream",
          "name": "stdout",
          "text": [
            "Enter student name and 4 marks\n",
            "Name or 0 to exit: 0\n",
            "Exiting program.\n",
            "Continue with transcript\n",
            "['Mat\\n', '20 30 40 50 \\n', 'James\\n', '55 66 85 74 \\n', 'Tyson\\n', '95 86 47 88 \\n']\n",
            "Student name: Mat\n",
            "Student marks 20 30 40 50\n",
            "GPA = 35.0\n",
            "Mat\n",
            "Scores 20 30 40 50\n",
            "Student name: James\n",
            "Student marks 55 66 85 74\n",
            "GPA = 70.0\n",
            "James\n",
            "Scores 55 66 85 74\n",
            "Student name: Tyson\n",
            "Student marks 95 86 47 88\n",
            "GPA = 79.0\n",
            "Tyson\n",
            "Scores 95 86 47 88\n",
            "Continue with transcript\n",
            "Mat James Tyson \n",
            "{0: 'Mat James Tyson '}\n"
          ]
        }
      ]
    },
    {
      "cell_type": "markdown",
      "source": [
        "<br/><BR/>"
      ],
      "metadata": {
        "id": "T1VrXym6tjGs"
      }
    },
    {
      "cell_type": "markdown",
      "source": [
        "### **Submission**\n",
        "---\n",
        "\n",
        "When you believe you have the program correctly working, please run the program and enter valid details for height and weight (you don't need to use your own if you do not want to) to get the output of BMI to show.\n",
        "<br/><br/>\n",
        "When you are ready to submit please go to `File` -> `Print` -> `Print PDF` and then upload and submit in the LMS.\n",
        "\n",
        "Please save your file to GitHub via: `File` -> `Save a copy in GitHub`"
      ],
      "metadata": {
        "id": "N-XTusSvusCo"
      }
    }
  ]
}
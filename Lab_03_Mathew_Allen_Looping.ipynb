{
  "nbformat": 4,
  "nbformat_minor": 0,
  "metadata": {
    "colab": {
      "provenance": [],
      "include_colab_link": true
    },
    "kernelspec": {
      "name": "python3",
      "display_name": "Python 3"
    },
    "language_info": {
      "name": "python"
    }
  },
  "cells": [
    {
      "cell_type": "markdown",
      "metadata": {
        "id": "view-in-github",
        "colab_type": "text"
      },
      "source": [
        "<a href=\"https://colab.research.google.com/github/MLegend2028/CST182/blob/main/Lab_03_Mathew_Allen_Looping.ipynb\" target=\"_parent\"><img src=\"https://colab.research.google.com/assets/colab-badge.svg\" alt=\"Open In Colab\"/></a>"
      ]
    },
    {
      "cell_type": "markdown",
      "source": [
        "# **LAB #03** - Looping\n",
        "<br/>\n"
      ],
      "metadata": {
        "id": "qdM8hjkwAnQ5"
      }
    },
    {
      "cell_type": "code",
      "source": [
        "input_set = []\n",
        "user_num = 0\n",
        "mark_num = 0\n",
        "max_score = 100\n",
        "while user_num >= 0:\n",
        "    mark_num += 1\n",
        "    user_num = int(input(f\"Mark #{mark_num}? \"))\n",
        "    if user_num > max_score:\n",
        "      print(\"Mark is invalid and it doesn't add the mark to the statistics\")\n",
        "      mark_num -= 1\n",
        "      continue\n",
        "\n",
        "    if user_num <=-1:\n",
        "      mark_num -= 1\n",
        "      break\n",
        "\n",
        "\n",
        "    input_set.append(user_num)\n",
        "\n",
        "# print(f\"Number of marks = {mark_num} \")\n",
        "\n",
        "if input_set:\n",
        "    print(f\"Number of marks = {mark_num} \")\n",
        "    max_num = input_set[0]\n",
        "    for x in input_set:\n",
        "        if x > max_num:\n",
        "            max_num = x\n",
        "\n",
        "    mix_num = input_set[0]\n",
        "    for y in input_set:\n",
        "        if y < mix_num:\n",
        "            mix_num = y\n",
        "    print(\"Highest Mark =\",max_num)\n",
        "    print(\"Lowest Mark =\", mix_num)\n",
        "    print(\"Average Mark =\",round(float(sum(input_set) / len(input_set)),2))\n",
        "\n"
      ],
      "metadata": {
        "colab": {
          "base_uri": "https://localhost:8080/"
        },
        "id": "pgNiVQ3KcLT6",
        "outputId": "4a65c8a5-fe22-41b2-9a5c-6bc1ff453d11"
      },
      "execution_count": null,
      "outputs": [
        {
          "output_type": "stream",
          "name": "stdout",
          "text": [
            "Mark #1? 50\n",
            "Mark #2? 60\n",
            "Mark #3? -1\n",
            "Number of marks = 2 \n",
            "Highest Mark = 60\n",
            "Lowest Mark = 50\n",
            "Average Mark = 55.0\n"
          ]
        }
      ]
    },
    {
      "cell_type": "markdown",
      "source": [
        "><table>\n",
        "##**Lab Overview**\n",
        "\n",
        "These lab questions will help develop your understanding of how loops work and some of the applications where loops are used.  \n",
        "></table>\n",
        "\n",
        "<br/><br/>\n",
        "\n"
      ],
      "metadata": {
        "id": "ax351qT1A2wO"
      }
    },
    {
      "cell_type": "markdown",
      "source": [
        "# **Question #1** - Aggregates on User Input\n",
        "---\n",
        "<br/>\n",
        "\n",
        "Write a program that takes in from the user a list of marks until the user enters a negative number. Once this is done, the program should calculate and display\n",
        "\n",
        "\n",
        "\n",
        "1.   The number of marks\n",
        "2.   The highest mark\n",
        "3.   The lowest mark\n",
        "4.   The average of the marks\n",
        "\n",
        "(note: You cannot use the `max()` or `min()` functions)\n",
        "\n",
        "<br/>\n",
        "\n",
        "\n",
        "**<u>Example Run:</u>**<br/>\n",
        "Mark #1? **50**<br/>\n",
        "Mark #2? **60**<br/>\n",
        "Mark #3? **-1**<br/>\n",
        "Number of marks = 2<br/>\n",
        "Highest Mark = 60<br/>\n",
        "Lowest Mark = 50<br/>\n",
        "Average Mark = 55<br/>\n",
        "<br/>\n",
        "\n",
        "<Br/>\n",
        "\n",
        "><table>\n",
        "### BONUS\n",
        "---\n",
        "Try and add some validation into the program where if the user enters a mark over 100, a message is sent to the user that lets them know that the mark is invalid (and it doesn't add the mark to the statistics - the program just loops again to get another mark).\n",
        "</table>"
      ],
      "metadata": {
        "id": "f1kwJQuoLhE4"
      }
    },
    {
      "cell_type": "markdown",
      "source": [
        "### Your Answer:"
      ],
      "metadata": {
        "id": "jxaY-33JMb77"
      }
    },
    {
      "cell_type": "code",
      "source": [
        "# Student Name:Mathew Allen\n",
        "# Student Number:1019868\n",
        "\n",
        "# Add answer below this line\n",
        "input_set = [] #empty list\n",
        "user_num = 0 #sets variable for user input\n",
        "mark_num = 0 #this is to count the number of mark inputs\n",
        "max_score = 100 #sets max score if exceeded user will input again and is a condition for a message to be prompted\n",
        "while user_num >= 0:#sets conditions for while loop. If this is true loop will continue\n",
        "    mark_num += 1 #adds 1 to count the number for the mark\n",
        "    user_num = int(input(f\"Mark #{mark_num}? \"))# user input with formatted string text\n",
        "    if user_num > max_score:# Looks for number above max score\n",
        "      print(\"Mark is invalid and it doesn't add the mark to the statistics.\")#if this if statement is true this text will be printed\n",
        "      mark_num -= 1 #as input is invalid subtracts 1 from mark number.This is because an invalid number is not counted within the as a mark\n",
        "      continue #restarts loop so user can input again\n",
        "\n",
        "    if user_num <=-1:#sets condition to stop loop\n",
        "      mark_num -= 1# this mark is not counted\n",
        "      break# loop ended\n",
        "\n",
        "\n",
        "    input_set.append(user_num)#fills empty list with use_number inputs\n",
        "\n",
        "\n",
        "#below determines the max and min numbers within the list, it will work through each number\n",
        "if input_set:\n",
        "    print(f\"Number of marks = {mark_num} \")\n",
        "    max_num = input_set[0]# the loop counts through each number to determine if it is bigger that the last number set in the variable\n",
        "    for x in input_set:\n",
        "        if x > max_num:\n",
        "            max_num = x\n",
        "\n",
        "    mix_num = input_set[0]# the loop counts through each number to determine if it is less than that the last number set in the variable\n",
        "    for y in input_set:\n",
        "        if y < mix_num:\n",
        "            mix_num = y\n",
        "    print(\"Highest Mark =\",max_num)\n",
        "    print(\"Lowest Mark =\", mix_num)\n",
        "    print(\"Average Mark =\",round(float(sum(input_set) / len(input_set)),2))"
      ],
      "metadata": {
        "id": "Wc7e2wC5McY0",
        "colab": {
          "base_uri": "https://localhost:8080/"
        },
        "outputId": "98501cc9-bffc-4e1e-9a3b-1d4c040fefab"
      },
      "execution_count": null,
      "outputs": [
        {
          "output_type": "stream",
          "name": "stdout",
          "text": [
            "Mark #1? 101\n",
            "Mark is invalid and it doesn't add the mark to the statistics.\n",
            "Mark #1? 50\n",
            "Mark #2? 60\n",
            "Mark #3? -1\n",
            "Number of marks = 2 \n",
            "Highest Mark = 60\n",
            "Lowest Mark = 50\n",
            "Average Mark = 55.0\n"
          ]
        }
      ]
    },
    {
      "cell_type": "code",
      "source": [
        "\n",
        "interest_list = []  #empty list for the interest\n",
        "balance_list = []   # empty list for the balance calcuation\n",
        "start_balance = 100000  #sets start balance for the principle amoount\n",
        "interest_rate = float(0.05) #This sets the interest rate amount\n",
        "max_term = 0        #Sets the max term in years amount to 0 this will count up via the loop\n",
        "seperator = \"-\"     # Formatting dotted liines\n",
        "table_headings = \"Year\\t   Balance\\tInterest\\tTotal Int.\"# formating table headings\n",
        "balance = (start_balance * interest_rate) + start_balance #sets variable balanance as the balane amount calculation\n",
        "total_interest = interest #sets total interest amount\n",
        "yearly_amount = 0 #initialises variable - this will be used as the figure in the table for balance amounts\n",
        "simple_interest = 0 #initialises variable - will be used for the amounts for the list\n",
        "yearly_interest = 0 #inisilise variable - This will hold items from a list and for the print statement for the Interest column\n",
        "print(f\"{table_headings}\\n{seperator * 50}\")#prints out the table dotted line\n",
        "while max_term < 10:  #sets the condition for the loop - while this is true\n",
        "    max_term += 1   #adds 1 to max term to track when the loop will be false\n",
        "    simple_interest = start_balance * interest_rate   #sets the calculation to a variable\n",
        "    start_balance = start_balance + simple_interest #sets the calculation to the variable\n",
        "\n",
        "    balance_list.append(start_balance) #takes the variable amounts into a list while the loop is true\n",
        "    interest_list.append(simple_interest)   # Takes the variable amounts intot a list while the loop is true\n",
        "\n",
        "cumulative_interest = 0 # Initialize cumulative interest - this is for the Total intereste column\n",
        "\n",
        "    #next problem to solve is to take count the list items  - for this use len this will populate into the year colun as the loop runs we want count of the times the loop runs whilst it is true\n",
        "    # next we want to then print each item in the list as the loop runs adn is true\n",
        "\n",
        "for i in range(len(balance_list)): #this takes counts the items from the list\n",
        "    current_year = i + 1  #sets the current year value to the list item + 1\n",
        "    yearly_amount = balance_list[i] #this grabs each the actual amount for each individual list item\n",
        "    yearly_interest = interest_list[i] # this sets the variable to get individual list item\n",
        "    cumulative_interest += yearly_interest # Add current year's interest to cumulative\n",
        "\n",
        "    # print statment sets the formatting the alignment and decimal places for the list which is contained in one fstring\n",
        "\n",
        "    print(f\"{current_year:>4}\\t{'{:,.2f}'.format(yearly_amount)}\\t{'{:,.2f}'.format(yearly_interest)}\\t{'{:,.2f}'.format(cumulative_interest):>10}\")\n",
        "\n"
      ],
      "metadata": {
        "id": "0bAc6Lrv_HOH",
        "colab": {
          "base_uri": "https://localhost:8080/"
        },
        "outputId": "977aa9cb-7b6c-44ee-e954-bed65521ee26"
      },
      "execution_count": 15,
      "outputs": [
        {
          "output_type": "stream",
          "name": "stdout",
          "text": [
            "Year\t   Balance\tInterest\tTotal Int.\n",
            "--------------------------------------------------\n",
            "   1\t105,000.00\t5,000.00\t  5,000.00\n",
            "   2\t110,250.00\t5,250.00\t 10,250.00\n",
            "   3\t115,762.50\t5,512.50\t 15,762.50\n",
            "   4\t121,550.62\t5,788.12\t 21,550.62\n",
            "   5\t127,628.16\t6,077.53\t 27,628.16\n",
            "   6\t134,009.56\t6,381.41\t 34,009.56\n",
            "   7\t140,710.04\t6,700.48\t 40,710.04\n",
            "   8\t147,745.54\t7,035.50\t 47,745.54\n",
            "   9\t155,132.82\t7,387.28\t 55,132.82\n",
            "  10\t162,889.46\t7,756.64\t 62,889.46\n"
          ]
        }
      ]
    },
    {
      "cell_type": "markdown",
      "source": [
        "<Br/><br/>\n"
      ],
      "metadata": {
        "id": "McmLtW4vMjKn"
      }
    },
    {
      "cell_type": "markdown",
      "source": [
        "# **Question #2** - Interest Earning Calculator\n",
        "---\n",
        "\n",
        "<br/>\n",
        "\n",
        "Create a program that takes in details of a fixed-term interest saving account (initial balance, number of years, interest rate percentage) and creates a nicely formatted table that shows the details for each year. <br/><br/>\n",
        "\n",
        "\n",
        "**<u>Example Run:</u>**<br/>\n",
        "Balance? **100000**<br/>\n",
        "Years? **10**<br/>\n",
        "Interest Rate(%)? **5**<br/>\n",
        "```\n",
        "Year      Balance     Interest   Total Int.\n",
        "-------------------------------------------\n",
        "   1   105,000.00     5,000.00     5,000.00\n",
        "   2   110,250.00     5,250.00    10,250.00\n",
        "   3   115,762.50     5,512.50    15,762.50\n",
        "   4   121,550.62     5,788.12    21,550.62\n",
        "   5   127,628.16     6,077.53    27,628.16\n",
        "   6   134,009.56     6,381.41    34,009.56\n",
        "   7   140,710.04     6,700.48    40,710.04\n",
        "   8   147,745.54     7,035.50    47,745.54\n",
        "   9   155,132.82     7,387.28    55,132.82\n",
        "  10   162,889.46     7,756.64    62,889.46\n",
        "```\n",
        "\n",
        "<br/><br/>\n"
      ],
      "metadata": {
        "id": "9ML3CMJVBxuF"
      }
    },
    {
      "cell_type": "markdown",
      "source": [
        "### Your Answer:"
      ],
      "metadata": {
        "id": "gPCRbhBxGMN0"
      }
    },
    {
      "cell_type": "code",
      "execution_count": 40,
      "metadata": {
        "id": "LuZZ6MqZAkbS",
        "colab": {
          "base_uri": "https://localhost:8080/"
        },
        "outputId": "d58cfc12-48b5-49d0-a6d9-2fb22497661a"
      },
      "outputs": [
        {
          "output_type": "stream",
          "name": "stdout",
          "text": [
            "Year\t   Balance   Interest   Total Int.\n",
            "------------------------------------------\n",
            "   1\t105,000.00   5,000.00     5,000.00\n",
            "   2\t110,250.00   5,250.00    10,250.00\n",
            "   3\t115,762.50   5,512.50    15,762.50\n",
            "   4\t121,550.62   5,788.12    21,550.62\n",
            "   5\t127,628.16   6,077.53    27,628.16\n",
            "   6\t134,009.56   6,381.41    34,009.56\n",
            "   7\t140,710.04   6,700.48    40,710.04\n",
            "   8\t147,745.54   7,035.50    47,745.54\n",
            "   9\t155,132.82   7,387.28    55,132.82\n",
            "  10\t162,889.46   7,756.64    62,889.46\n"
          ]
        }
      ],
      "source": [
        "# Student Name:Mathew Allen\n",
        "# Student Number:1019868\n",
        "\n",
        "# Add answer below this line\n",
        "\n",
        "interest_list = []  #empty list for the interest\n",
        "balance_list = []   # empty list for the balance calcuation\n",
        "start_balance = 100000  #sets start balance for the principle amoount\n",
        "interest_rate = float(0.05) #This sets the interest rate amount\n",
        "max_term = 0        #Sets the max term in years amount to 0 this will count up via the loop\n",
        "seperator = \"-\"     # Formatting dotted liines\n",
        "table_headings = \"Year\\t   Balance   Interest   Total Int.\"# formating table headings\n",
        "balance = (start_balance * interest_rate) + start_balance #sets variable balanance as the balane amount calculation\n",
        "#total_interest = interest #sets total interest amount\n",
        "yearly_amount = 0 #initialises variable - this will be used as the figure in the table for balance amounts\n",
        "simple_interest = 0 #initialises variable - will be used for the amounts for the list\n",
        "yearly_interest = 0 #inisilise variable - This will hold items from a list and for the print statement for the Interest column\n",
        "print(f\"{table_headings}\\n{seperator * 42}\")#prints out the table dotted line\n",
        "while max_term < 10:  #sets the condition for the loop - while this is true\n",
        "    max_term += 1   #adds 1 to max term to track when the loop will be false\n",
        "    simple_interest = start_balance * interest_rate   #sets the calculation to a variable\n",
        "    start_balance = start_balance + simple_interest #sets the calculation to the variable\n",
        "\n",
        "    balance_list.append(start_balance) #takes the variable amounts into a list while the loop is true\n",
        "    interest_list.append(simple_interest)   # Takes the variable amounts intot a list while the loop is true\n",
        "\n",
        "cumulative_interest = 0 # Initialize cumulative interest - this is for the Total intereste column\n",
        "\n",
        "    #next problem to solve is to take count the list items  - for this use len this will populate into the year colun as the loop runs we want count of the times the loop runs whilst it is true\n",
        "    # next we want to then print each item in the list as the loop runs adn is true\n",
        "\n",
        "for i in range(len(balance_list)): #this takes counts the items from the list\n",
        "    current_year = i + 1  #sets the current year value to the list item + 1\n",
        "    yearly_amount = balance_list[i] #this grabs each the actual amount for each individual list item\n",
        "    yearly_interest = interest_list[i] # this sets the variable to get individual list item\n",
        "    cumulative_interest += yearly_interest # Add current year's interest to cumulative\n",
        "\n",
        "    # print statement sets the formatting the alignment and decimal places for the list which is contained in one fstring\n",
        "\n",
        "    print(f\"{current_year:>4}\\t{'{:,.2f}'.format(yearly_amount)}   {'{:,.2f}'.format(yearly_interest)}   {'{:,.2f}'.format(cumulative_interest):>10}\")\n"
      ]
    },
    {
      "cell_type": "markdown",
      "source": [
        "<br/><br/>\n"
      ],
      "metadata": {
        "id": "gPpEwbJeD_qb"
      }
    },
    {
      "cell_type": "markdown",
      "source": [
        "# **Submission**\n",
        "---\n",
        "\n",
        "When you believe you have the program correctly working, please run the program and enter valid details for each program so that the output is apparent.\n",
        "<br/><br/>\n",
        "When you are ready to submit please\n",
        "\n",
        "*   go to `File` -> `Print` -> `Print PDF` and then upload and submit in the LMS.\n",
        "*   save your file to GitHub via: `File` -> `Save a copy in GitHub`\n"
      ],
      "metadata": {
        "id": "CxZ8SilaD9Gq"
      }
    }
  ]
}
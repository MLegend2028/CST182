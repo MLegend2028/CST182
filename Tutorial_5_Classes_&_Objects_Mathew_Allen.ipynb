{
  "nbformat": 4,
  "nbformat_minor": 0,
  "metadata": {
    "colab": {
      "provenance": [],
      "toc_visible": true,
      "include_colab_link": true
    },
    "kernelspec": {
      "name": "python3",
      "display_name": "Python 3"
    },
    "language_info": {
      "name": "python"
    }
  },
  "cells": [
    {
      "cell_type": "markdown",
      "metadata": {
        "id": "view-in-github",
        "colab_type": "text"
      },
      "source": [
        "<a href=\"https://colab.research.google.com/github/MLegend2028/CST182/blob/main/Tutorial_5_Classes_%26_Objects_Mathew_Allen.ipynb\" target=\"_parent\"><img src=\"https://colab.research.google.com/assets/colab-badge.svg\" alt=\"Open In Colab\"/></a>"
      ]
    },
    {
      "cell_type": "markdown",
      "source": [
        "# **TUTORIAL #5 - CLASSES & OBJECTS**\n",
        "<br/>\n",
        "\n",
        "\n",
        "\n",
        "\n",
        "\n"
      ],
      "metadata": {
        "id": "h7roITOPgVZ6"
      }
    },
    {
      "cell_type": "markdown",
      "source": [
        "In this tutorial, we will be revise the main topics covered in classes & objects.\n",
        "\n",
        "> **Note:** *For a comprehensive understanding please refer to the materials on the LMS*"
      ],
      "metadata": {
        "id": "j39qU2KEJ8Uu"
      }
    },
    {
      "cell_type": "markdown",
      "source": [
        "## **#1. Introduction to Classes & Objects**\n",
        "---\n",
        "\n",
        "Classes allow us to create a blueprint for 'things' that we want to use in our software - and allow us to store variables and create methods in a contained way (encapsulation).\n",
        "\n"
      ],
      "metadata": {
        "id": "-GAXHau1oAMK"
      }
    },
    {
      "cell_type": "markdown",
      "source": [
        "### **1.1 Creation**\n",
        "\n",
        "\n",
        "For example, if we wanted to create a function for drawing squares or triangles\n",
        "\n",
        ">**Note:** *The `__init__()` function is required when creating new objects.*\n"
      ],
      "metadata": {
        "id": "qSCvRsOrqpIy"
      }
    },
    {
      "cell_type": "code",
      "source": [
        "class Car:\n",
        "  def __init__(self,make, model):\n",
        "    self.make = make\n",
        "    self.model = model\n",
        "    self.speed = 0\n"
      ],
      "metadata": {
        "id": "DgwXIM5EplUY"
      },
      "execution_count": null,
      "outputs": []
    },
    {
      "cell_type": "markdown",
      "source": [
        ">**Note:** *The `self` references the current instance of the class*\n",
        "\n",
        "<br/>\n",
        "\n",
        "We can then create objects from this class and then use them (in this case, accessing and displaying a variable value)"
      ],
      "metadata": {
        "id": "gz7QKLtnW33P"
      }
    },
    {
      "cell_type": "code",
      "source": [
        "car1 = Car(\"Toyota\", \"Supra\")\n",
        "car2 = Car(\"Ford\", \"Wildtrek\")\n",
        "\n",
        "print(car1.make)\n",
        "print(car2.make)\n",
        "\n",
        "print(car1.make, car1.model)\n",
        "print(car2.make, car2.model)"
      ],
      "metadata": {
        "colab": {
          "base_uri": "https://localhost:8080/"
        },
        "id": "bzfPm2FmW3Tq",
        "outputId": "da270d0a-9981-4d43-c89b-5f116a2a7163"
      },
      "execution_count": 10,
      "outputs": [
        {
          "output_type": "stream",
          "name": "stdout",
          "text": [
            "Toyota\n",
            "Ford\n",
            "Toyota Supra\n",
            "Ford Wildtrek\n"
          ]
        }
      ]
    },
    {
      "cell_type": "markdown",
      "source": [
        "<br/>"
      ],
      "metadata": {
        "id": "gMXCcvYjLxMI"
      }
    },
    {
      "cell_type": "markdown",
      "source": [
        "### **1.2 Updating**\n",
        "\n",
        "We can update values of an object by simply assigning the property a value"
      ],
      "metadata": {
        "id": "Vc9KXVxX54BY"
      }
    },
    {
      "cell_type": "code",
      "source": [
        "print(car1.make)\n",
        "car1.make = \"Honda\"\n",
        "print(car1.make)"
      ],
      "metadata": {
        "colab": {
          "base_uri": "https://localhost:8080/"
        },
        "id": "PB3oVuwK5_tU",
        "outputId": "3703540b-a83e-44b7-b02a-a9caa2d489e1"
      },
      "execution_count": null,
      "outputs": [
        {
          "output_type": "stream",
          "name": "stdout",
          "text": [
            "Toyota\n",
            "Honda\n"
          ]
        }
      ]
    },
    {
      "cell_type": "markdown",
      "source": [
        ">**Note:** *If you assign a property that does not exist, then it will create it for the object*\n",
        "\n",
        "<br/>"
      ],
      "metadata": {
        "id": "O4KrCVRFI2Ns"
      }
    },
    {
      "cell_type": "markdown",
      "source": [
        "### **1.3 Deleting**\n",
        "\n",
        "We can delete an ***attribute*** via `del`"
      ],
      "metadata": {
        "id": "Kzzu_1m56WJ_"
      }
    },
    {
      "cell_type": "code",
      "source": [
        "del car1.make\n",
        "\n",
        "print(car1.mark)"
      ],
      "metadata": {
        "colab": {
          "base_uri": "https://localhost:8080/",
          "height": 182
        },
        "id": "tg3nCHAd6cmX",
        "outputId": "34ed79d0-198a-46c9-abdf-3da24b2d90c9"
      },
      "execution_count": null,
      "outputs": [
        {
          "output_type": "error",
          "ename": "NameError",
          "evalue": "name 'car1' is not defined",
          "traceback": [
            "\u001b[0;31m---------------------------------------------------------------------------\u001b[0m",
            "\u001b[0;31mNameError\u001b[0m                                 Traceback (most recent call last)",
            "\u001b[0;32m/tmp/ipython-input-1727370601.py\u001b[0m in \u001b[0;36m<cell line: 0>\u001b[0;34m()\u001b[0m\n\u001b[0;32m----> 1\u001b[0;31m \u001b[0;32mdel\u001b[0m \u001b[0mcar1\u001b[0m\u001b[0;34m.\u001b[0m\u001b[0mmake\u001b[0m\u001b[0;34m\u001b[0m\u001b[0;34m\u001b[0m\u001b[0m\n\u001b[0m\u001b[1;32m      2\u001b[0m \u001b[0;34m\u001b[0m\u001b[0m\n\u001b[1;32m      3\u001b[0m \u001b[0mprint\u001b[0m\u001b[0;34m(\u001b[0m\u001b[0mcar1\u001b[0m\u001b[0;34m.\u001b[0m\u001b[0mmark\u001b[0m\u001b[0;34m)\u001b[0m\u001b[0;34m\u001b[0m\u001b[0;34m\u001b[0m\u001b[0m\n",
            "\u001b[0;31mNameError\u001b[0m: name 'car1' is not defined"
          ]
        }
      ]
    },
    {
      "cell_type": "markdown",
      "source": [
        "<br/>\n",
        "\n",
        "or delete the ***object*** entirely"
      ],
      "metadata": {
        "id": "ezWsf3HM6nVG"
      }
    },
    {
      "cell_type": "code",
      "source": [
        "del car1\n",
        "print(car1)"
      ],
      "metadata": {
        "colab": {
          "base_uri": "https://localhost:8080/",
          "height": 164
        },
        "id": "NuvPDOhj6mRY",
        "outputId": "5c846cd5-6950-417b-f188-2940e82e889c"
      },
      "execution_count": null,
      "outputs": [
        {
          "output_type": "error",
          "ename": "NameError",
          "evalue": "name 'car1' is not defined",
          "traceback": [
            "\u001b[0;31m---------------------------------------------------------------------------\u001b[0m",
            "\u001b[0;31mNameError\u001b[0m                                 Traceback (most recent call last)",
            "\u001b[0;32m/tmp/ipython-input-1510814199.py\u001b[0m in \u001b[0;36m<cell line: 0>\u001b[0;34m()\u001b[0m\n\u001b[0;32m----> 1\u001b[0;31m \u001b[0;32mdel\u001b[0m \u001b[0mcar1\u001b[0m\u001b[0;34m\u001b[0m\u001b[0;34m\u001b[0m\u001b[0m\n\u001b[0m\u001b[1;32m      2\u001b[0m \u001b[0mprint\u001b[0m\u001b[0;34m(\u001b[0m\u001b[0mcar1\u001b[0m\u001b[0;34m)\u001b[0m\u001b[0;34m\u001b[0m\u001b[0;34m\u001b[0m\u001b[0m\n",
            "\u001b[0;31mNameError\u001b[0m: name 'car1' is not defined"
          ]
        }
      ]
    },
    {
      "cell_type": "markdown",
      "source": [
        "<br/>"
      ],
      "metadata": {
        "id": "zEuJMXaKJFl_"
      }
    },
    {
      "cell_type": "markdown",
      "source": [
        "### **1.4 Object Methods**\n",
        "\n",
        "We can add methods to our objects by listing them in the class definition.\n",
        "\n",
        "Here we will create two methods\n",
        "* the first will list the car properties (`printCar()`)\n",
        "* the second will accelerate the car (`accelerate()`)\n",
        "\n",
        "\n",
        "Anytime we need to reference values in the object itself, we need to access it via the `self` variable."
      ],
      "metadata": {
        "id": "Axy73w5TXLtC"
      }
    },
    {
      "cell_type": "code",
      "source": [
        "class Car:\n",
        "\n",
        "  def __init__(self,make, model):\n",
        "    self.make = make\n",
        "    self.model = model\n",
        "    self.speed = 0\n",
        "\n",
        "  def printCar(self):\n",
        "    print(f\"{self.make:10s}{self.model:10s}:{self.speed:5d}\")\n",
        "\n",
        "  def accelerate(self, amt):\n",
        "    print(f\"\\nAccelerating {self.make} by {amt}\")\n",
        "    self.speed += amt\n",
        "\n",
        "\n",
        "car1 = Car(\"Toyota\", \"Supra\")\n",
        "car2 = Car(\"Ford\", \"Wildtrek\")\n",
        "\n",
        "car1.printCar()\n",
        "car2.printCar()\n",
        "\n",
        "car1.accelerate(5)\n",
        "\n",
        "car1.printCar()\n",
        "car2.printCar()\n",
        "\n",
        "car2.accelerate(10)\n",
        "car2.accelerate(10)\n",
        "\n",
        "car1.printCar()\n",
        "car2.printCar()\n"
      ],
      "metadata": {
        "colab": {
          "base_uri": "https://localhost:8080/"
        },
        "id": "eoYUEymiXbC5",
        "outputId": "1f8cfc42-dd59-43ca-a8b5-15b5dec8d4e4"
      },
      "execution_count": null,
      "outputs": [
        {
          "output_type": "stream",
          "name": "stdout",
          "text": [
            "Toyota    Supra     :    0\n",
            "Ford      Wildtrek  :    0\n",
            "\n",
            "Accelerating Toyota by 5\n",
            "Toyota    Supra     :    5\n",
            "Ford      Wildtrek  :    0\n",
            "\n",
            "Accelerating Ford by 10\n",
            "\n",
            "Accelerating Ford by 10\n",
            "Toyota    Supra     :    5\n",
            "Ford      Wildtrek  :   20\n"
          ]
        }
      ]
    },
    {
      "cell_type": "markdown",
      "source": [
        "<br/>"
      ],
      "metadata": {
        "id": "7sFjHRkrptRJ"
      }
    },
    {
      "cell_type": "markdown",
      "source": [],
      "metadata": {
        "id": "as1P-68KL-G8"
      }
    },
    {
      "cell_type": "markdown",
      "source": [
        "\n",
        "##  **#2.YOUR TURN**\n",
        "---"
      ],
      "metadata": {
        "id": "LTfa8ImBtsha"
      }
    },
    {
      "cell_type": "markdown",
      "source": [
        "### **Program #1 |** A Simple Student Class\n",
        "---\n",
        "\n",
        "\n",
        "In this program we will create a simple student class and a few objects.\n",
        "<br/><br/>\n",
        "\n",
        "The student class should have the following:\n",
        "\n",
        "**Properties**\n",
        "* `name` the name of the student\n",
        "* `marks` a list of final marks the student has been awarded\n",
        "\n",
        "\n",
        "**Methods**\n",
        "* `add_mark()` which takes a single value and adds it to the list of marks\n",
        "* `calculate_GPA()` which gets the average from the list of marks\n",
        "* `print_student()` which nicely prints a transcript for the student (name, marks, GPA)\n",
        "\n"
      ],
      "metadata": {
        "id": "2uifW04Is2EE"
      }
    },
    {
      "cell_type": "code",
      "source": [
        "# Student Name:   MYNAME\n",
        "# Student Number: MYSTUDENTNUMBER\n",
        "\n",
        "\n",
        "\n",
        "class Student:\n",
        "    def __init__(self, name):\n",
        "        self.name = name\n",
        "        self.marks = []  # Initialise marks as an empty list\n",
        "        self.gpa = 0.0   # Initialise GPA\n",
        "\n",
        "    def add_mark(self, mark):\n",
        "        \"\"\"Adds a single mark to list of marks for the student Doc String: \"\"\"\n",
        "        self.marks.append(mark)# The input from mark will be appended to the marks[] list\n",
        "\n",
        "    def calculate_gpa(self):\n",
        "        \"\"\"Calculates the average (GPA) from the list of marks.\"\"\"\n",
        "        if self.marks:\n",
        "            self.gpa = sum(self.marks) / len(self.marks)# This takes the length value of the list and divides by the sum\n",
        "        else:\n",
        "            self.gpa = 0.0  # If no marks, GPA is 0\n",
        "        return self.gpa #returns the value of the calculation\n",
        "\n",
        "    def print_student(self):\n",
        "        \"\"\"Prints the transcript for the student.\"\"\"\n",
        "        print(f\"\\n--- Student Transcript ---\")\n",
        "        print(f\"Name: {self.name.capitalize()}\")\n",
        "        print(f\"Marks: {self.marks}\")\n",
        "\n",
        "        # Ensure GPA is calculated before printing\n",
        "        self.calculate_gpa()#calls the method calculate_gpa which runs the GPA calculation.\n",
        "\n",
        "        print(f\"GPA: {self.gpa:.2f}\")  # Formats GPA to two decimal places\n",
        "        print(f\"--------------------------\")\n",
        "\n",
        "#Functions that are not in the class\n",
        "\n",
        "def get_student_name():\n",
        "\n",
        "    \"\"\"Gets a validated student name from the user.\"\"\"\n",
        "    while True:\n",
        "        name = input(\"Enter student name: \").strip()\n",
        "        if name:\n",
        "            return name\n",
        "        else:\n",
        "            print(\"Student name cannot be empty. Please try again.\")\n",
        "\n",
        "\n",
        "def get_student_marks():\n",
        "    \"\"\"Gets a list of marks from the user with Y/N prompt and input validation (no max limit).\"\"\"\n",
        "    marks_list = [] # Step 1: Initialize an empty list to store marks\n",
        "    mark_num = 0    # Step 2: Initialize a counter for mark numbers\n",
        "\n",
        "    # Step 3: The Main Loop for Collecting Marks\n",
        "    while True: # This loop continues indefinitely until explicitly told to stop.\n",
        "        mark_num += 1 # Step 4: Increment the mark number for the prompt\n",
        "\n",
        "        # Step 5: Inner Loop for Validating Each Mark's Input\n",
        "        while True: # This loop keeps asking until a valid whole number (1-99) is entered.\n",
        "            mark_input_str = input(f\"Enter Mark #{mark_num}? (1-99, or negative to stop) \").strip()\n",
        "\n",
        "            # Step 5a: First Check - Is the input a valid number format (positive or negative)?\n",
        "            if mark_input_str.isdigit() or \\\n",
        "               (mark_input_str.startswith('-') and mark_input_str[1:].isdigit()):\n",
        "\n",
        "                # It's a number format, so safely convert it to an integer\n",
        "                user_mark_temp = int(mark_input_str)\n",
        "\n",
        "                # Step 5b: Second Check - Is the number within the required range (1-99)?\n",
        "                if 0 < user_mark_temp < 100: # Mark must be above 0 AND less than 100\n",
        "                    user_mark = user_mark_temp # This is our final, validated mark\n",
        "                    break # Exit this inner loop, we have a good mark\n",
        "                else:\n",
        "                    # The number is valid, but it's OUTSIDE the 1-99 range (e.g., 0, 100, -5)\n",
        "                    print(\"Mark must be above 0 and less than 100. Please try again.\")\n",
        "            else:\n",
        "                # The input was NOT a valid number format (e.g., \"abc\", empty, \"50.5\")\n",
        "                print(\"Invalid input. Please enter a whole number.\")\n",
        "\n",
        "        # Step 6: Check for Negative Mark (User's Signal to Stop)\n",
        "        if user_mark < 0:\n",
        "            print(\"Negative mark entered. Stopping mark input.\")\n",
        "            break # Exit the main (outer) loop\n",
        "\n",
        "        # Step 7: Add the Valid Mark to Our List\n",
        "        marks_list.append(user_mark)\n",
        "\n",
        "        # Step 8: Ask User if They Want to Add Another Mark\n",
        "        while True: # This inner loop ensures we get a 'Y' or 'N' answer.\n",
        "            add_another = input(\"Add another mark (Y/N)? \").strip().lower()\n",
        "            if add_another == 'n':\n",
        "                return marks_list # User said 'No', so return the list and exit the function.\n",
        "            elif add_another == 'y':\n",
        "                break # User said 'Yes', break this 'Y/N' loop to ask for the next mark.\n",
        "            else:\n",
        "                print(\"Invalid input. Please enter 'Y' or 'N'.\")\n",
        "\n",
        "    # Step 9: Final Return (if the main loop breaks due to negative input)\n",
        "    return marks_list\n",
        "\n",
        "\n",
        "def main_menu():\n",
        "    \"\"\"Displays the main menu and handles user choices.\"\"\"\n",
        "    students = [] # Step 1: Initialize an empty list to store Student objects\n",
        "\n",
        "    # Step 2: The Main Program Loop\n",
        "    while True:\n",
        "        # Step 2a: Display the Menu\n",
        "        print(\"\\n\" + \"=\" * 40)\n",
        "        print(\"    Simple Student Class Menu\")\n",
        "        print(\"=\" * 40)\n",
        "        print(\"1. Add New Student and Marks\")\n",
        "        print(\"2. View All Student Transcripts\")\n",
        "        print(\"3. Exit\")\n",
        "        print(\"-\" * 40)\n",
        "\n",
        "        # Step 2b: Get User Option\n",
        "        option = input(\"Enter your option: \").strip()\n",
        "\n",
        "        # Step 3: Handle User Choices\n",
        "        # Step 3a: Option 1 - Add New Student and Marks\n",
        "        if option == \"1\":\n",
        "            print(\"\\n--- Adding New Student ---\")\n",
        "            student_name = get_student_name()  # Get validated student name\n",
        "            new_student = Student(student_name)  # Create a new Student object\n",
        "\n",
        "            marks_entered = get_student_marks()  # Get list of marks from user (using our new logic!)\n",
        "            for mark in marks_entered:\n",
        "                new_student.add_mark(mark)  # Add each mark to the student object\n",
        "\n",
        "            new_student.calculate_gpa()  # Calculate the GPA for the new student\n",
        "            students.append(new_student)  # Add the new student object to our list of students\n",
        "            print(f\"Student '{student_name.capitalize()}' added successfully.\")\n",
        "\n",
        "            # Step 3b: Option 2 - View All Student Transcripts\n",
        "        elif option == \"2\":\n",
        "            print(\"\\n--- Viewing All Student Transcripts ---\")\n",
        "            if not students:  # Check if the list of students is empty\n",
        "                print(\"No students added yet.\")\n",
        "            else:\n",
        "                for student in students:  # Iterate through each student in the list\n",
        "                    student.print_student()  # Call the print_student method for each one\n",
        "\n",
        "            # Step 3c: Option 3 - Exit\n",
        "        elif option == \"3\":\n",
        "            print(\"\\nExiting Student Program. Goodbye!\")\n",
        "            break  # Exit the main while True loop, ending the program\n",
        "\n",
        "            # Step 3d: Invalid Option\n",
        "        else:\n",
        "            print(\"\\nInvalid option. Please enter a number from the menu (1-3).\")\n",
        "\n",
        "# Step 4: Run the Main Menu\n",
        "if __name__ == \"__main__\":\n",
        "    main_menu()"
      ],
      "metadata": {
        "id": "6_CTo-8Rjbu3",
        "colab": {
          "base_uri": "https://localhost:8080/"
        },
        "outputId": "c7091313-1de5-45b7-d86c-11d31b44e9b4"
      },
      "execution_count": null,
      "outputs": [
        {
          "output_type": "stream",
          "name": "stdout",
          "text": [
            "\n",
            "========================================\n",
            "    Simple Student Class Menu\n",
            "========================================\n",
            "1. Add New Student and Marks\n",
            "2. View All Student Transcripts\n",
            "3. Exit\n",
            "----------------------------------------\n",
            "Enter your option: 1\n",
            "\n",
            "--- Adding New Student ---\n",
            "Enter student name: Mat\n",
            "Enter Mark #1? (1-99, or negative to stop) 20\n",
            "Add another mark (Y/N)? t\n",
            "Invalid input. Please enter 'Y' or 'N'.\n",
            "Add another mark (Y/N)? y\n",
            "Enter Mark #2? (1-99, or negative to stop) 30\n",
            "Add another mark (Y/N)? y\n",
            "Enter Mark #3? (1-99, or negative to stop) 50\n",
            "Add another mark (Y/N)? n\n",
            "Student 'Mat' added successfully.\n",
            "\n",
            "========================================\n",
            "    Simple Student Class Menu\n",
            "========================================\n",
            "1. Add New Student and Marks\n",
            "2. View All Student Transcripts\n",
            "3. Exit\n",
            "----------------------------------------\n",
            "Enter your option: 2\n",
            "\n",
            "--- Viewing All Student Transcripts ---\n",
            "\n",
            "--- Student Transcript ---\n",
            "Name: Mat\n",
            "Marks: [20, 30, 50]\n",
            "GPA: 33.33\n",
            "--------------------------\n",
            "\n",
            "========================================\n",
            "    Simple Student Class Menu\n",
            "========================================\n",
            "1. Add New Student and Marks\n",
            "2. View All Student Transcripts\n",
            "3. Exit\n",
            "----------------------------------------\n"
          ]
        }
      ]
    },
    {
      "cell_type": "markdown",
      "source": [
        "<br/><BR/>"
      ],
      "metadata": {
        "id": "T1VrXym6tjGs"
      }
    },
    {
      "cell_type": "markdown",
      "source": [
        "### **Submission**\n",
        "---\n",
        "\n",
        "When you believe you have the program correctly working, please run the program and enter valid details for height and weight (you don't need to use your own if you do not want to) to get the output of BMI to show.\n",
        "<br/><br/>\n",
        "When you are ready to submit please go to `File` -> `Print` -> `Print PDF` and then upload and submit in the LMS.\n",
        "\n",
        "Please save your file to GitHub via: `File` -> `Save a copy in GitHub`"
      ],
      "metadata": {
        "id": "N-XTusSvusCo"
      }
    }
  ]
}
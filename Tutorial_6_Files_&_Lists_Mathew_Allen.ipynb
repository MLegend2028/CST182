{
  "nbformat": 4,
  "nbformat_minor": 0,
  "metadata": {
    "colab": {
      "provenance": [],
      "include_colab_link": true
    },
    "kernelspec": {
      "name": "python3",
      "display_name": "Python 3"
    },
    "language_info": {
      "name": "python"
    }
  },
  "cells": [
    {
      "cell_type": "markdown",
      "metadata": {
        "id": "view-in-github",
        "colab_type": "text"
      },
      "source": [
        "<a href=\"https://colab.research.google.com/github/MLegend2028/CST182/blob/main/Tutorial_6_Files_%26_Lists_Mathew_Allen.ipynb\" target=\"_parent\"><img src=\"https://colab.research.google.com/assets/colab-badge.svg\" alt=\"Open In Colab\"/></a>"
      ]
    },
    {
      "cell_type": "markdown",
      "source": [
        "\n",
        "\n",
        "\n",
        "# **TUTORIAL #6 - FILES & LIST**\n",
        "<br/>\n",
        "\n",
        "\n",
        "\n",
        "\n",
        "\n"
      ],
      "metadata": {
        "id": "h7roITOPgVZ6"
      }
    },
    {
      "cell_type": "markdown",
      "source": [
        "In this tutorial, we will be revise the main topics covered in files & lists.\n",
        "\n",
        "> **Note:** *For a comprehensive understanding please refer to the materials on the LMS*\n",
        "\n",
        "\n",
        "<br/>\n",
        "\n",
        "\n",
        "### **Important** | Setup for the tutorial\n",
        "---\n",
        "Please run the code below to set up the files required for this lab"
      ],
      "metadata": {
        "id": "j39qU2KEJ8Uu"
      }
    },
    {
      "cell_type": "code",
      "source": [
        "def makeAstroFile():\n",
        "  f = open(\"astro.txt\", \"w\")\n",
        "  f.write(\"Star\\nPlanet\\nMoon\\nSupernova\\nPlanetary Nebulae\\nBlack Hole\")\n",
        "  f.close()\n",
        "\n",
        "makeAstroFile()\n"
      ],
      "metadata": {
        "id": "oh-kl2BVrzrr"
      },
      "execution_count": 4,
      "outputs": []
    },
    {
      "cell_type": "markdown",
      "source": [
        "<br/>"
      ],
      "metadata": {
        "id": "HAhssq8Hr0Jn"
      }
    },
    {
      "cell_type": "markdown",
      "source": [
        "## **#1. Files I/O in Python**\n",
        "---\n",
        "\n",
        "Reading from, and writing to file enhances the functionality of our programs as we are now able to have permanent storage as a feature."
      ],
      "metadata": {
        "id": "-GAXHau1oAMK"
      }
    },
    {
      "cell_type": "markdown",
      "source": [
        "### **1.1 Opening Files**\n",
        "\n"
      ],
      "metadata": {
        "id": "rO8JUFDuv7Rz"
      }
    },
    {
      "cell_type": "markdown",
      "source": [
        "\n",
        "\n",
        "#### **Reading**\n",
        "We can open a file for reading via the `open()` method, and then test if the file was properly loaded via the `read()` method."
      ],
      "metadata": {
        "id": "qSCvRsOrqpIy"
      }
    },
    {
      "cell_type": "code",
      "source": [
        "f = open(\"astro.txt\")\n",
        "print(f.read())\n",
        "f.close()"
      ],
      "metadata": {
        "id": "DgwXIM5EplUY",
        "colab": {
          "base_uri": "https://localhost:8080/"
        },
        "outputId": "56526b80-ff99-4f76-8d29-4855d79ec255"
      },
      "execution_count": 5,
      "outputs": [
        {
          "output_type": "stream",
          "name": "stdout",
          "text": [
            "Star\n",
            "Planet\n",
            "Moon\n",
            "Supernova\n",
            "Planetary Nebulae\n",
            "Black Hole\n"
          ]
        }
      ]
    },
    {
      "cell_type": "markdown",
      "source": [
        ">**Note:** *test.txt is the name and extension of the file - and will work if the file is in the same directory as our code. If it is not, then we need to provide the pathname to the directory hosting the file we are trying to open.*\n",
        "\n",
        "<br/>\n",
        "\n"
      ],
      "metadata": {
        "id": "gz7QKLtnW33P"
      }
    },
    {
      "cell_type": "markdown",
      "source": [
        "#### **Writing** | Overwriting\n",
        "\n",
        "\n",
        "We can open up the file for writing in a similar way - via the `open()` function - but then provide an extra parameter `\"w\"` - which will set the mode to write."
      ],
      "metadata": {
        "id": "pZ_AJjCLtXAX"
      }
    },
    {
      "cell_type": "code",
      "source": [
        "f2 = open(\"test2.txt\",\"w\")\n",
        "f2.write(\"Hello at line 1\\n\")\n",
        "f2.write(\"Goodbye at line 2\\n\")\n",
        "f2.write(\"Afternoon good evening at line 3\\n\")\n",
        "f2.write(\"and good evening line 4\\n\")\n",
        "f2.close()\n",
        "\n",
        "# simple reading to double check\n",
        "f2 = open(\"test2.txt\")\n",
        "print(f2.read())\n",
        "f2.close()"
      ],
      "metadata": {
        "colab": {
          "base_uri": "https://localhost:8080/"
        },
        "id": "bzfPm2FmW3Tq",
        "outputId": "1d4224ab-e01d-4488-cb55-344ef8c309c0"
      },
      "execution_count": 11,
      "outputs": [
        {
          "output_type": "stream",
          "name": "stdout",
          "text": [
            "Hello at line 1\n",
            "Goodbye at line 2\n",
            "Afternoon good evening at line 3\n",
            "and good evening line 4\n",
            "\n"
          ]
        }
      ]
    },
    {
      "cell_type": "markdown",
      "source": [
        "We can see the effect of this by modifying the contents we write to the file (lines 2 & 3), and re-running the code to see the output in the file."
      ],
      "metadata": {
        "id": "1aQLJnOdu9XP"
      }
    },
    {
      "cell_type": "markdown",
      "source": [
        "#### **Writing** | Appending\n",
        "\n",
        "Opening a file for appending (mode parameter = `\"a\"`) will also open the file for reading, however, instead of overwriting the previous contents of the file (if it exists), it will simply add to (append) the end."
      ],
      "metadata": {
        "id": "HI4NHNPZtgNX"
      }
    },
    {
      "cell_type": "code",
      "source": [
        "f2 = open(\"test3.txt\",\"a\")# the the file is opened and then the write lines are added\n",
        "f2.write(\"Hello at line 1\\n\")\n",
        "f2.write(\"Goodbye at line 2\\n\")\n",
        "f2.close()\n",
        "\n",
        "# simple reading to double check\n",
        "f2 = open(\"test3.txt\")# the file is opened again it will open with the additional lines added\n",
        "print(f2.read())\n",
        "f2.close()# everytime the file is opened new lines are added."
      ],
      "metadata": {
        "colab": {
          "base_uri": "https://localhost:8080/"
        },
        "id": "go-Oi7FGumce",
        "outputId": "a4d79c43-4638-451c-ca28-9e4ebc44ec86"
      },
      "execution_count": 22,
      "outputs": [
        {
          "output_type": "stream",
          "name": "stdout",
          "text": [
            "Hello at line 1\n",
            "Goodbye at line 2\n",
            "Hello at line 1\n",
            "Goodbye at line 2\n",
            "Hello at line 1\n",
            "Goodbye at line 2\n",
            "Hello at line 1\n",
            "Goodbye at line 2\n",
            "Hello at line 1\n",
            "Goodbye at line 2\n",
            "Hello at line 1\n",
            "Goodbye at line 2\n",
            "Hello at line 1\n",
            "Goodbye at line 2\n",
            "Hello at line 1\n",
            "Goodbye at line 2\n",
            "\n"
          ]
        }
      ]
    },
    {
      "cell_type": "markdown",
      "source": [
        "At first glance this appears to do the same thing as writing, however, if you run the program a couple of times you'll notice that the file gets larger and larger - as more text is appended to the end of the file."
      ],
      "metadata": {
        "id": "NeSVvKOzvNEW"
      }
    },
    {
      "cell_type": "markdown",
      "source": [
        "### **1.2 Reading Modes**\n",
        "<br/>\n",
        "\n",
        "There are three different reading modes to choose from when taking in data from a file - mostly due to the way we try to read the contents (e.g., all at once into a single string, all at once with each line as a list entry, a line at a time)"
      ],
      "metadata": {
        "id": "gMXCcvYjLxMI"
      }
    },
    {
      "cell_type": "markdown",
      "source": [
        "#### **`read()`**\n",
        "\n",
        "We can use the `read()` method (as previously shown) to read all the contents of a file at once - into a String"
      ],
      "metadata": {
        "id": "AYti6_kSwF1g"
      }
    },
    {
      "cell_type": "code",
      "source": [
        "makeAstroFile()\n",
        "\n",
        "f = open(\"astro.txt\")\n",
        "s = f.read()\n",
        "f.close()\n",
        "\n",
        "print(type(s), \"\\n------\") # print data type of read() return\n",
        "\n",
        "print(s)  # print contents returned from read()"
      ],
      "metadata": {
        "colab": {
          "base_uri": "https://localhost:8080/"
        },
        "id": "Pd9gU58MwPW8",
        "outputId": "ca7e5073-9d13-4dd7-9572-f96906820bc1"
      },
      "execution_count": 23,
      "outputs": [
        {
          "output_type": "stream",
          "name": "stdout",
          "text": [
            "<class 'str'> \n",
            "------\n",
            "Star\n",
            "Planet\n",
            "Moon\n",
            "Supernova\n",
            "Planetary Nebulae\n",
            "Black Hole\n"
          ]
        }
      ]
    },
    {
      "cell_type": "markdown",
      "source": [
        "#### **`readlines()`**\n",
        "\n",
        "We can use the `readlines()` method to read all the contents of a file at once - into a String"
      ],
      "metadata": {
        "id": "as1P-68KL-G8"
      }
    },
    {
      "cell_type": "code",
      "source": [
        "makeAstroFile()\n",
        "\n",
        "f = open(\"astro.txt\")\n",
        "s = f.readlines()\n",
        "\n",
        "print(type(s), \"\\n------\") # print data type of read() return\n",
        "\n",
        "print(s)  # print contents returned from read()"
      ],
      "metadata": {
        "colab": {
          "base_uri": "https://localhost:8080/"
        },
        "id": "KyWvxXFvxjoc",
        "outputId": "b4ee9f8b-41e1-4a63-a1cd-0d8c99136490"
      },
      "execution_count": null,
      "outputs": [
        {
          "output_type": "stream",
          "name": "stdout",
          "text": [
            "<class 'list'> \n",
            "------\n",
            "['Star\\n', 'Planet\\n', 'Moon\\n', 'Supernova\\n', 'Planetary Nebulae\\n', 'Black Hole']\n"
          ]
        }
      ]
    },
    {
      "cell_type": "markdown",
      "source": [
        "#### **`readline()`**\n",
        "\n",
        "We can use the `readline()` method to read a single line in from the file."
      ],
      "metadata": {
        "id": "Za0L4Lxfxt1k"
      }
    },
    {
      "cell_type": "code",
      "source": [
        "makeAstroFile()\n",
        "\n",
        "f = open(\"astro.txt\")\n",
        "s = f.readline()\n",
        "f.close()\n",
        "\n",
        "print(type(s), \"\\n------\") # print data type of read() return\n",
        "\n",
        "print(s)  # print contents returned from read()"
      ],
      "metadata": {
        "colab": {
          "base_uri": "https://localhost:8080/"
        },
        "id": "xrrjhfqQx3wI",
        "outputId": "318ce800-a86c-4736-9253-8b591779add4"
      },
      "execution_count": null,
      "outputs": [
        {
          "output_type": "stream",
          "name": "stdout",
          "text": [
            "<class 'str'> \n",
            "------\n",
            "Star\n",
            "\n"
          ]
        }
      ]
    },
    {
      "cell_type": "markdown",
      "source": [
        "As we can see, it only reads one line in - so if we want to continue reading lines in we can do so but adding `readline()` into a loop"
      ],
      "metadata": {
        "id": "UQ41ClaCx6w0"
      }
    },
    {
      "cell_type": "code",
      "source": [
        "makeAstroFile()\n",
        "\n",
        "f = open(\"astro.txt\")\n",
        "\n",
        "while True:\n",
        "  s = f.readline()\n",
        "  if s == \"\":\n",
        "    break\n",
        "  print(s)\n",
        "\n",
        "f.close()"
      ],
      "metadata": {
        "colab": {
          "base_uri": "https://localhost:8080/"
        },
        "id": "WExzJhGjyDTH",
        "outputId": "7141ec88-c610-497c-aa21-70b6f4c1c87a"
      },
      "execution_count": 24,
      "outputs": [
        {
          "output_type": "stream",
          "name": "stdout",
          "text": [
            "Star\n",
            "\n",
            "Planet\n",
            "\n",
            "Moon\n",
            "\n",
            "Supernova\n",
            "\n",
            "Planetary Nebulae\n",
            "\n",
            "Black Hole\n"
          ]
        }
      ]
    },
    {
      "cell_type": "markdown",
      "source": [
        "A much quicker way to accomplish this would be to use a `for` loop:"
      ],
      "metadata": {
        "id": "N4nWAupAzB2x"
      }
    },
    {
      "cell_type": "code",
      "source": [
        "makeAstroFile()\n",
        "\n",
        "f = open(\"astro.txt\")\n",
        "\n",
        "for s in f:\n",
        "  print(s)\n",
        "\n",
        "f.close()"
      ],
      "metadata": {
        "colab": {
          "base_uri": "https://localhost:8080/"
        },
        "id": "QBoM8DZ-y9EI",
        "outputId": "e1934535-ba12-4c32-fe3a-fd29b2805469"
      },
      "execution_count": null,
      "outputs": [
        {
          "output_type": "stream",
          "name": "stdout",
          "text": [
            "Star\n",
            "\n",
            "Planet\n",
            "\n",
            "Moon\n",
            "\n",
            "Supernova\n",
            "\n",
            "Planetary Nebulae\n",
            "\n",
            "Black Hole\n"
          ]
        }
      ]
    },
    {
      "cell_type": "markdown",
      "source": [
        "#### **Stripping Whitespace**\n",
        "\n",
        "As we can see, we get two new lines each time we try to print - as one comes from the file itself (the new line at the end of the line - as seen in the setup function at the top of the page, `makeAstroFile()`, where `\\n` is used to insert this new line). The second newline comes from the `print()` function itself.\n",
        "\n",
        "We can remove the newline character (as well as any other leading or trailing spaces) by using the `strip()` function on a string"
      ],
      "metadata": {
        "id": "sOqHTsmVzKhQ"
      }
    },
    {
      "cell_type": "code",
      "source": [
        "makeAstroFile()\n",
        "\n",
        "f = open(\"astro.txt\")\n",
        "\n",
        "for s in f:\n",
        "  print(s.strip())\n",
        "\n",
        "f.close()"
      ],
      "metadata": {
        "colab": {
          "base_uri": "https://localhost:8080/"
        },
        "id": "uRO8WMKOzPHe",
        "outputId": "048ab3b2-0a3f-4f4a-bcd0-ad17f3692a6f"
      },
      "execution_count": 25,
      "outputs": [
        {
          "output_type": "stream",
          "name": "stdout",
          "text": [
            "Star\n",
            "Planet\n",
            "Moon\n",
            "Supernova\n",
            "Planetary Nebulae\n",
            "Black Hole\n"
          ]
        }
      ]
    },
    {
      "cell_type": "markdown",
      "source": [
        "## **#2. Lists**\n",
        "\n",
        "\n",
        "Lists are a data structure that allow us to store multiple records in one variable, and access the contents via the index - i.e., the position in the list that the value occurs (starting from 0).\n",
        "\n",
        "We have used lists a few times already in this course - including in the previous chapter where we opened a file using `readlines()`."
      ],
      "metadata": {
        "id": "McsWxdI9AXKS"
      }
    },
    {
      "cell_type": "markdown",
      "source": [
        "### **Basics**\n",
        "\n",
        "\n",
        "We can set up a list by simply assigning a variable to a range of values:"
      ],
      "metadata": {
        "id": "Gv_oPq7ExgjK"
      }
    },
    {
      "cell_type": "code",
      "source": [
        "my_list = [1, 4, 7, 3, 9, 27]"
      ],
      "metadata": {
        "id": "v9xYp4ySBHks"
      },
      "execution_count": null,
      "outputs": []
    },
    {
      "cell_type": "markdown",
      "source": [
        "and print the list via"
      ],
      "metadata": {
        "id": "lQS8F7I3BMYg"
      }
    },
    {
      "cell_type": "code",
      "source": [
        "print(my_list)"
      ],
      "metadata": {
        "colab": {
          "base_uri": "https://localhost:8080/"
        },
        "id": "YVOtdwycBN8_",
        "outputId": "6c8b02e9-e1e8-4b09-e8fc-6472130bf736"
      },
      "execution_count": null,
      "outputs": [
        {
          "output_type": "stream",
          "name": "stdout",
          "text": [
            "[1, 4, 7, 3, 9, 27]\n"
          ]
        }
      ]
    },
    {
      "cell_type": "markdown",
      "source": [
        "or print a specific value in the list via index"
      ],
      "metadata": {
        "id": "Z67tf9npBQPV"
      }
    },
    {
      "cell_type": "code",
      "source": [
        "print(my_list[1])"
      ],
      "metadata": {
        "colab": {
          "base_uri": "https://localhost:8080/"
        },
        "id": "UDekIoc5BPXn",
        "outputId": "a7d0f44a-2b08-47bf-9f6f-acbb10250322"
      },
      "execution_count": null,
      "outputs": [
        {
          "output_type": "stream",
          "name": "stdout",
          "text": [
            "4\n"
          ]
        }
      ]
    },
    {
      "cell_type": "markdown",
      "source": [
        ">**Reminder:** *A list index starts at 0, so the index of 1 is actually the second element in the list*"
      ],
      "metadata": {
        "id": "DOhmTx28Bb90"
      }
    },
    {
      "cell_type": "markdown",
      "source": [
        "### **Slicing**"
      ],
      "metadata": {
        "id": "nRQI6zM2Bx3g"
      }
    },
    {
      "cell_type": "markdown",
      "source": [
        "##### **Between two values**\n",
        "\n",
        "We can provide the lower and upper index that we wish to use data"
      ],
      "metadata": {
        "id": "LrIZljpLB0gx"
      }
    },
    {
      "cell_type": "markdown",
      "source": [],
      "metadata": {
        "id": "qvO_k6bkCcAb"
      }
    },
    {
      "cell_type": "code",
      "source": [
        "print(my_list[2:4])"
      ],
      "metadata": {
        "colab": {
          "base_uri": "https://localhost:8080/"
        },
        "id": "sUJmQ4iOBjSg",
        "outputId": "c4793385-44f2-424e-a35b-991bac5c243c"
      },
      "execution_count": null,
      "outputs": [
        {
          "output_type": "stream",
          "name": "stdout",
          "text": [
            "[7, 3]\n"
          ]
        }
      ]
    },
    {
      "cell_type": "markdown",
      "source": [
        "##### **From start to X**\n",
        "\n",
        "If we leave the first index number empty, it will begin at the start and count to the second index"
      ],
      "metadata": {
        "id": "UGKvPcznB52a"
      }
    },
    {
      "cell_type": "code",
      "source": [
        "print(my_list[:4])"
      ],
      "metadata": {
        "colab": {
          "base_uri": "https://localhost:8080/"
        },
        "id": "4f0cI3EeB_Xy",
        "outputId": "f4a38f47-cdcb-461f-b088-97df782c0488"
      },
      "execution_count": null,
      "outputs": [
        {
          "output_type": "stream",
          "name": "stdout",
          "text": [
            "[1, 4, 7, 3]\n"
          ]
        }
      ]
    },
    {
      "cell_type": "markdown",
      "source": [
        "##### **From X to end**\n",
        "\n",
        "\n",
        "\n",
        "If we leave the last number empty, it will start at the first number and go to the end"
      ],
      "metadata": {
        "id": "L8NHZPNlB71h"
      }
    },
    {
      "cell_type": "code",
      "source": [
        "print(my_list[2:])"
      ],
      "metadata": {
        "colab": {
          "base_uri": "https://localhost:8080/"
        },
        "id": "1go4nCnQCA3E",
        "outputId": "dd964f5e-b33d-45d6-f164-d14bd284006b"
      },
      "execution_count": null,
      "outputs": [
        {
          "output_type": "stream",
          "name": "stdout",
          "text": [
            "[7, 3, 9, 27]\n"
          ]
        }
      ]
    },
    {
      "cell_type": "markdown",
      "source": [
        "### **List Manipulative Functions**\n",
        "\n",
        "---\n",
        "<br/>\n",
        "\n",
        "We can use a variety of functions to manipulate the data in our list"
      ],
      "metadata": {
        "id": "XASv2WpqChUh"
      }
    },
    {
      "cell_type": "markdown",
      "source": [
        "#### **Add values**\n",
        "\n",
        "We can add values via the `append()` method."
      ],
      "metadata": {
        "id": "igh09XYeCqDk"
      }
    },
    {
      "cell_type": "code",
      "source": [
        "print(my_list)\n",
        "\n",
        "my_list.append(99)\n",
        "print(my_list)"
      ],
      "metadata": {
        "colab": {
          "base_uri": "https://localhost:8080/"
        },
        "id": "876pBE3xCoST",
        "outputId": "5d5886f5-512e-413d-aa3b-477e083f1d6d"
      },
      "execution_count": null,
      "outputs": [
        {
          "output_type": "stream",
          "name": "stdout",
          "text": [
            "[1, 4, 7, 3, 9, 27]\n",
            "[1, 4, 7, 3, 9, 27, 99]\n"
          ]
        }
      ]
    },
    {
      "cell_type": "markdown",
      "source": [
        "#### **Update Values**\n",
        "\n",
        "We can update values by simply setting the index of the list to a new value"
      ],
      "metadata": {
        "id": "S_6a8MJmC3BY"
      }
    },
    {
      "cell_type": "code",
      "source": [
        "print(my_list)\n",
        "\n",
        "my_list[1] = 11\n",
        "print(my_list)"
      ],
      "metadata": {
        "colab": {
          "base_uri": "https://localhost:8080/"
        },
        "id": "IKaGpsg6C-ws",
        "outputId": "139bba46-0bdb-48f7-f095-1083fbffc6ba"
      },
      "execution_count": null,
      "outputs": [
        {
          "output_type": "stream",
          "name": "stdout",
          "text": [
            "[1, 4, 7, 3, 9, 27, 99]\n",
            "[1, 11, 7, 3, 9, 27, 99]\n"
          ]
        }
      ]
    },
    {
      "cell_type": "markdown",
      "source": [
        "#### **Delete Values** | *via index*\n",
        "\n",
        "We can delete values by their index via the `pop()` method"
      ],
      "metadata": {
        "id": "egmJwB2GDLr_"
      }
    },
    {
      "cell_type": "code",
      "source": [
        "my_list = [1, 4, 7, 3, 9, 27]\n",
        "print(my_list)\n",
        "\n",
        "my_list.pop(1)\n",
        "print(my_list)"
      ],
      "metadata": {
        "colab": {
          "base_uri": "https://localhost:8080/"
        },
        "id": "KL5KB35fDcTZ",
        "outputId": "0a8f0e98-9ebd-4e76-d8f5-a27bcfa0155c"
      },
      "execution_count": 27,
      "outputs": [
        {
          "output_type": "stream",
          "name": "stdout",
          "text": [
            "[1, 4, 7, 3, 9, 27]\n",
            "[1, 7, 3, 9, 27]\n"
          ]
        }
      ]
    },
    {
      "cell_type": "markdown",
      "source": [
        "#### **Delete Values** | *via value*\n",
        "\n",
        "We can delete values by their index via the `remove()` method"
      ],
      "metadata": {
        "id": "eX991RlrDcmL"
      }
    },
    {
      "cell_type": "code",
      "source": [
        "my_list = [1, 4, 7, 3, 9, 27, 99]\n",
        "print(my_list)\n",
        "\n",
        "my_list.remove(99)\n",
        "print(my_list)"
      ],
      "metadata": {
        "colab": {
          "base_uri": "https://localhost:8080/"
        },
        "id": "uVXhtXl9DfOX",
        "outputId": "db6e94df-edb2-470c-82c8-17ddca931152"
      },
      "execution_count": 30,
      "outputs": [
        {
          "output_type": "stream",
          "name": "stdout",
          "text": [
            "[1, 4, 7, 3, 9, 27, 99]\n",
            "[1, 4, 7, 3, 9, 27]\n"
          ]
        }
      ]
    },
    {
      "cell_type": "markdown",
      "source": [
        "#### **Sort**\n",
        "\n",
        "We can sort values in a list via the `sort()` method"
      ],
      "metadata": {
        "id": "4yvuBd1LD-w9"
      }
    },
    {
      "cell_type": "code",
      "source": [
        "print(my_list)\n",
        "\n",
        "my_list.sort()\n",
        "print(my_list)"
      ],
      "metadata": {
        "colab": {
          "base_uri": "https://localhost:8080/"
        },
        "id": "lTlOlI9WEE8w",
        "outputId": "a910513c-bd30-4c1b-fa48-0bc77919a123"
      },
      "execution_count": 31,
      "outputs": [
        {
          "output_type": "stream",
          "name": "stdout",
          "text": [
            "[1, 4, 7, 3, 9, 27]\n",
            "[1, 3, 4, 7, 9, 27]\n"
          ]
        }
      ]
    },
    {
      "cell_type": "markdown",
      "source": [],
      "metadata": {
        "id": "zhsAn6WLBMWZ"
      }
    },
    {
      "cell_type": "markdown",
      "source": [
        "<br/>"
      ],
      "metadata": {
        "id": "XqC9dftNEDX-"
      }
    },
    {
      "cell_type": "markdown",
      "source": [
        "\n",
        "##  **#3.YOUR TURN**\n",
        "---"
      ],
      "metadata": {
        "id": "LTfa8ImBtsha"
      }
    },
    {
      "cell_type": "code",
      "source": [
        "transcipt = print(\"Enter student name and 4 marks\")\n",
        "student_name = input(\"Name: \")\n",
        "input_set = []  #sets empty list variable\n",
        "user_num = 0\n",
        "mark_num = 0\n",
        "student_mark_list = []\n",
        "\n",
        "while user_num >= 0 :  #sets condition for loop to continue\n",
        "    mark_num += 1 #adds 1 to mark number\n",
        "    user_num = int(input(f\"Mark #{mark_num}? \"))\n",
        "\n",
        "    if user_num < 0:\n",
        "        mark_num -= 1\n",
        "        #sets condition to stop loop when number is negative\n",
        "        break# breaks the loop and moves to next line of code\n",
        "\n",
        "\n",
        "    input_set.append(user_num)# takes empty list and adds user_num to it\n",
        "\n",
        "    if mark_num >= 4:\n",
        "      break\n",
        "\n",
        "# print(f\"Number of marks = {mark_num} \")\n",
        "\n",
        "if input_set:#sets condition to print\n",
        "    print(f\"{student_name} Number of marks = {mark_num}\")\n",
        "    max_num = input_set[0]# determines the highest Mark initiall starts at zero\n",
        "    for x in input_set:\n",
        "        if x > max_num:\n",
        "            max_num = x\n",
        "\n",
        "    mix_num = input_set[0]# determines lowest number initial set to zero and  then loops\n",
        "    for y in input_set:\n",
        "        if y < mix_num:\n",
        "            mix_num = y\n",
        "    print(\"Highest Mark =\",max_num)\n",
        "    print(\"Lowest Mark =\", mix_num)\n",
        "    print(\"Average Mark =\",round(float(sum(input_set) / len(input_set)),2))\n",
        "\n",
        "\n",
        "    for postion, mark in enumerate(input_set, start=1):\n",
        "      print(postion, mark)\n",
        "      student_mark_list.append(mark)\n",
        "    print(student_mark_list)\n",
        "\n",
        "else:\n",
        "    print(\"No marks entered.\")\n",
        "# for postion, name in enumerate(input_set[0:4]):\n",
        "#   print(postion, name)\n",
        "\n",
        "\n",
        "\n",
        "\n",
        "\n",
        "#https://realpython.com/python-enumerate/"
      ],
      "metadata": {
        "colab": {
          "base_uri": "https://localhost:8080/"
        },
        "id": "ayP9DeqqI0WQ",
        "outputId": "10d47fd0-4fa8-489f-8f63-a94d7f23bce7"
      },
      "execution_count": 48,
      "outputs": [
        {
          "output_type": "stream",
          "name": "stdout",
          "text": [
            "Enter student name and 4 marks\n",
            "Name: Mat\n",
            "Mark #1? 30\n",
            "Mark #2? 40\n",
            "Mark #3? 50\n",
            "Mark #4? 60\n",
            "Mat Number of marks = 4\n",
            "Highest Mark = 60\n",
            "Lowest Mark = 30\n",
            "Average Mark = 45.0\n",
            "1 30\n",
            "2 40\n",
            "3 50\n",
            "4 60\n",
            "[30, 40, 50, 60]\n"
          ]
        }
      ]
    },
    {
      "cell_type": "markdown",
      "source": [
        "### **Program #1 |** A Simple Student Class &nbsp; **<i>[EXTENDED]</i>**\n",
        "---\n",
        "\n",
        "Take the *Simple Student Class* tutorial from last week and paste your code below.\n",
        "\n",
        "><table>\n",
        "In this program we will create a simple student class and a few objects.\n",
        "<br/><br/>\n",
        "\n",
        "The student class should have the following:\n",
        "\n",
        "**Properties**\n",
        "* `name` the name of the student\n",
        "* `marks` a list of final marks the student has been awarded\n",
        "\n",
        "\n",
        "**Methods**\n",
        "* `add_mark()` which takes a single value and adds it to the list of marks\n",
        "* `calculate_GPA()` which gets the average from the list of marks\n",
        "* `print_student()` which nicely prints a transcript for the student (name, marks, GPA)\n",
        "></table>\n",
        "\n",
        "\n",
        "<br/>\n",
        "\n",
        "### **Your Task**\n",
        "\n",
        "\n",
        "1.  Update the program to read in the data from `student_marks.txt` file (rather than the current data hard-coded in the program) into a List\n",
        "\n",
        "2. From there, you need to calculate the GPA for each student, and then print to a new file (`GPA_List.txt`) each student's name alongside their associated GPA in descending order.\n"
      ],
      "metadata": {
        "id": "2uifW04Is2EE"
      }
    },
    {
      "cell_type": "code",
      "source": [
        "# Student Name:   MYNAME\n",
        "# Student Number: MYSTUDENTNUMBER\n",
        "\n",
        "# TODO: Insert code from simple student class from last week's tutorial here"
      ],
      "metadata": {
        "id": "6_CTo-8Rjbu3"
      },
      "execution_count": null,
      "outputs": []
    },
    {
      "cell_type": "markdown",
      "source": [
        "<br/><BR/>"
      ],
      "metadata": {
        "id": "T1VrXym6tjGs"
      }
    },
    {
      "cell_type": "markdown",
      "source": [
        "### **Submission**\n",
        "---\n",
        "\n",
        "When you believe you have the program correctly working, please run the program and enter valid details for height and weight (you don't need to use your own if you do not want to) to get the output of BMI to show.\n",
        "<br/><br/>\n",
        "When you are ready to submit please go to `File` -> `Print` -> `Print PDF` and then upload and submit in the LMS.\n",
        "\n",
        "Please save your file to GitHub via: `File` -> `Save a copy in GitHub`"
      ],
      "metadata": {
        "id": "N-XTusSvusCo"
      }
    }
  ]
}
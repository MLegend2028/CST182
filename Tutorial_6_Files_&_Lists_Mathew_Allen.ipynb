{
  "cells": [
    {
      "cell_type": "markdown",
      "metadata": {
        "id": "view-in-github",
        "colab_type": "text"
      },
      "source": [
        "<a href=\"https://colab.research.google.com/github/MLegend2028/CST182/blob/main/Tutorial_6_Files_%26_Lists_Mathew_Allen.ipynb\" target=\"_parent\"><img src=\"https://colab.research.google.com/assets/colab-badge.svg\" alt=\"Open In Colab\"/></a>"
      ]
    },
    {
      "cell_type": "code",
      "execution_count": null,
      "metadata": {
        "id": "N_eThNq3b5Ym"
      },
      "outputs": [],
      "source": [
        "def makeGPA_List():\n",
        "  f = open(\"GPA_List.txt\", \"w\")\n",
        "  f.close\n"
      ]
    },
    {
      "cell_type": "code",
      "source": [
        "def makeGPA_List():\n",
        "  f = open(\"student_marks.txt\", \"w\")\n",
        "  f.close"
      ],
      "metadata": {
        "id": "fSR7sKhjjkBh"
      },
      "execution_count": null,
      "outputs": []
    },
    {
      "cell_type": "markdown",
      "metadata": {
        "id": "h7roITOPgVZ6"
      },
      "source": [
        "\n",
        "\n",
        "\n",
        "# **TUTORIAL #6 - FILES & LIST**\n",
        "<br/>\n",
        "\n",
        "\n",
        "\n",
        "\n",
        "\n"
      ]
    },
    {
      "cell_type": "markdown",
      "metadata": {
        "id": "j39qU2KEJ8Uu"
      },
      "source": [
        "In this tutorial, we will be revise the main topics covered in files & lists.\n",
        "\n",
        "> **Note:** *For a comprehensive understanding please refer to the materials on the LMS*\n",
        "\n",
        "\n",
        "<br/>\n",
        "\n",
        "\n",
        "### **Important** | Setup for the tutorial\n",
        "---\n",
        "Please run the code below to set up the files required for this lab"
      ]
    },
    {
      "cell_type": "code",
      "execution_count": null,
      "metadata": {
        "id": "oh-kl2BVrzrr"
      },
      "outputs": [],
      "source": [
        "def makeAstroFile():\n",
        "  f = open(\"astro.txt\", \"w\")\n",
        "  f.write(\"Star\\nPlanet\\nMoon\\nSupernova\\nPlanetary Nebulae\\nBlack Hole\")\n",
        "  f.close()\n",
        "\n",
        "makeAstroFile()\n"
      ]
    },
    {
      "cell_type": "markdown",
      "metadata": {
        "id": "HAhssq8Hr0Jn"
      },
      "source": [
        "<br/>"
      ]
    },
    {
      "cell_type": "markdown",
      "metadata": {
        "id": "-GAXHau1oAMK"
      },
      "source": [
        "## **#1. Files I/O in Python**\n",
        "---\n",
        "\n",
        "Reading from, and writing to file enhances the functionality of our programs as we are now able to have permanent storage as a feature."
      ]
    },
    {
      "cell_type": "markdown",
      "metadata": {
        "id": "rO8JUFDuv7Rz"
      },
      "source": [
        "### **1.1 Opening Files**\n",
        "\n"
      ]
    },
    {
      "cell_type": "markdown",
      "metadata": {
        "id": "qSCvRsOrqpIy"
      },
      "source": [
        "\n",
        "\n",
        "#### **Reading**\n",
        "We can open a file for reading via the `open()` method, and then test if the file was properly loaded via the `read()` method."
      ]
    },
    {
      "cell_type": "code",
      "execution_count": null,
      "metadata": {
        "id": "DgwXIM5EplUY",
        "colab": {
          "base_uri": "https://localhost:8080/"
        },
        "outputId": "5eac88ab-b1a6-4687-f3af-8b4507ff4c4f"
      },
      "outputs": [
        {
          "output_type": "stream",
          "name": "stdout",
          "text": [
            "Star\n",
            "Planet\n",
            "Moon\n",
            "Supernova\n",
            "Planetary Nebulae\n",
            "Black Hole\n"
          ]
        }
      ],
      "source": [
        "f = open(\"astro.txt\")\n",
        "print(f.read())\n",
        "f.close()"
      ]
    },
    {
      "cell_type": "markdown",
      "metadata": {
        "id": "gz7QKLtnW33P"
      },
      "source": [
        ">**Note:** *test.txt is the name and extension of the file - and will work if the file is in the same directory as our code. If it is not, then we need to provide the pathname to the directory hosting the file we are trying to open.*\n",
        "\n",
        "<br/>\n",
        "\n"
      ]
    },
    {
      "cell_type": "markdown",
      "metadata": {
        "id": "pZ_AJjCLtXAX"
      },
      "source": [
        "#### **Writing** | Overwriting\n",
        "\n",
        "\n",
        "We can open up the file for writing in a similar way - via the `open()` function - but then provide an extra parameter `\"w\"` - which will set the mode to write."
      ]
    },
    {
      "cell_type": "code",
      "execution_count": null,
      "metadata": {
        "id": "AkRiGfDWc4SE",
        "colab": {
          "base_uri": "https://localhost:8080/",
          "height": 166
        },
        "outputId": "a4cdd236-f5df-4e20-e105-337bc164b7ec"
      },
      "outputs": [
        {
          "output_type": "error",
          "ename": "FileNotFoundError",
          "evalue": "[Errno 2] No such file or directory: 'GPA_List.txt'",
          "traceback": [
            "\u001b[0;31m---------------------------------------------------------------------------\u001b[0m",
            "\u001b[0;31mFileNotFoundError\u001b[0m                         Traceback (most recent call last)",
            "\u001b[0;32m/tmp/ipython-input-5-3625523272.py\u001b[0m in \u001b[0;36m<cell line: 0>\u001b[0;34m()\u001b[0m\n\u001b[0;32m----> 1\u001b[0;31m \u001b[0mg\u001b[0m \u001b[0;34m=\u001b[0m \u001b[0mopen\u001b[0m\u001b[0;34m(\u001b[0m\u001b[0;34m\"GPA_List.txt\"\u001b[0m\u001b[0;34m,\u001b[0m \u001b[0;34m\"r\"\u001b[0m\u001b[0;34m)\u001b[0m\u001b[0;34m\u001b[0m\u001b[0;34m\u001b[0m\u001b[0m\n\u001b[0m\u001b[1;32m      2\u001b[0m \u001b[0;34m\u001b[0m\u001b[0m\n",
            "\u001b[0;31mFileNotFoundError\u001b[0m: [Errno 2] No such file or directory: 'GPA_List.txt'"
          ]
        }
      ],
      "source": [
        "g = open(\"GPA_List.txt\", \"r\")\n",
        "\n"
      ]
    },
    {
      "cell_type": "code",
      "execution_count": null,
      "metadata": {
        "id": "bzfPm2FmW3Tq"
      },
      "outputs": [],
      "source": [
        "f2 = open(\"test2.txt\",\"w\")\n",
        "f2.write(\"Hello at line 1\\n\")\n",
        "f2.write(\"Goodbye at line 2\\n\")\n",
        "f2.write(\"Afternoon good evening at line 3\\n\")\n",
        "f2.write(\"and good evening line 4\\n\")\n",
        "f2.close()\n",
        "\n",
        "# simple reading to double check\n",
        "f2 = open(\"test2.txt\")\n",
        "print(f2.read())\n",
        "f2.close()"
      ]
    },
    {
      "cell_type": "markdown",
      "metadata": {
        "id": "1aQLJnOdu9XP"
      },
      "source": [
        "We can see the effect of this by modifying the contents we write to the file (lines 2 & 3), and re-running the code to see the output in the file."
      ]
    },
    {
      "cell_type": "markdown",
      "metadata": {
        "id": "HI4NHNPZtgNX"
      },
      "source": [
        "#### **Writing** | Appending\n",
        "\n",
        "Opening a file for appending (mode parameter = `\"a\"`) will also open the file for reading, however, instead of overwriting the previous contents of the file (if it exists), it will simply add to (append) the end."
      ]
    },
    {
      "cell_type": "code",
      "execution_count": null,
      "metadata": {
        "id": "go-Oi7FGumce"
      },
      "outputs": [],
      "source": [
        "f2 = open(\"test3.txt\",\"a\")# the the file is opened and then the write lines are added\n",
        "f2.write(\"Hello at line 1\\n\")\n",
        "f2.write(\"Goodbye at line 2\\n\")\n",
        "f2.close()\n",
        "\n",
        "# simple reading to double check\n",
        "f2 = open(\"test3.txt\")# the file is opened again it will open with the additional lines added\n",
        "print(f2.read())\n",
        "f2.close()# everytime the file is opened new lines are added.\n",
        "\n"
      ]
    },
    {
      "cell_type": "markdown",
      "metadata": {
        "id": "NeSVvKOzvNEW"
      },
      "source": [
        "At first glance this appears to do the same thing as writing, however, if you run the program a couple of times you'll notice that the file gets larger and larger - as more text is appended to the end of the file."
      ]
    },
    {
      "cell_type": "markdown",
      "metadata": {
        "id": "gMXCcvYjLxMI"
      },
      "source": [
        "### **1.2 Reading Modes**\n",
        "<br/>\n",
        "\n",
        "There are three different reading modes to choose from when taking in data from a file - mostly due to the way we try to read the contents (e.g., all at once into a single string, all at once with each line as a list entry, a line at a time)"
      ]
    },
    {
      "cell_type": "markdown",
      "metadata": {
        "id": "AYti6_kSwF1g"
      },
      "source": [
        "#### **`read()`**\n",
        "\n",
        "We can use the `read()` method (as previously shown) to read all the contents of a file at once - into a String"
      ]
    },
    {
      "cell_type": "code",
      "execution_count": null,
      "metadata": {
        "id": "Pd9gU58MwPW8"
      },
      "outputs": [],
      "source": [
        "makeAstroFile()\n",
        "\n",
        "f = open(\"astro.txt\")\n",
        "s = f.read()\n",
        "f.close()\n",
        "\n",
        "print(type(s), \"\\n------\") # print data type of read() return\n",
        "\n",
        "print(s)  # print contents returned from read()"
      ]
    },
    {
      "cell_type": "markdown",
      "metadata": {
        "id": "as1P-68KL-G8"
      },
      "source": [
        "#### **`readlines()`**\n",
        "\n",
        "We can use the `readlines()` method to read all the contents of a file at once - into a String"
      ]
    },
    {
      "cell_type": "code",
      "execution_count": null,
      "metadata": {
        "id": "KyWvxXFvxjoc"
      },
      "outputs": [],
      "source": [
        "makeAstroFile()\n",
        "\n",
        "f = open(\"astro.txt\")\n",
        "s = f.readlines()\n",
        "\n",
        "print(type(s), \"\\n------\") # print data type of read() return\n",
        "\n",
        "print(s)  # print contents returned from read()"
      ]
    },
    {
      "cell_type": "markdown",
      "metadata": {
        "id": "Za0L4Lxfxt1k"
      },
      "source": [
        "#### **`readline()`**\n",
        "\n",
        "We can use the `readline()` method to read a single line in from the file."
      ]
    },
    {
      "cell_type": "code",
      "execution_count": null,
      "metadata": {
        "id": "xrrjhfqQx3wI"
      },
      "outputs": [],
      "source": [
        "makeAstroFile()\n",
        "\n",
        "f = open(\"astro.txt\")\n",
        "s = f.readline()\n",
        "f.close()\n",
        "\n",
        "print(type(s), \"\\n------\") # print data type of read() return\n",
        "\n",
        "print(s)  # print contents returned from read()"
      ]
    },
    {
      "cell_type": "markdown",
      "metadata": {
        "id": "UQ41ClaCx6w0"
      },
      "source": [
        "As we can see, it only reads one line in - so if we want to continue reading lines in we can do so but adding `readline()` into a loop"
      ]
    },
    {
      "cell_type": "code",
      "execution_count": null,
      "metadata": {
        "id": "WExzJhGjyDTH"
      },
      "outputs": [],
      "source": [
        "makeAstroFile()\n",
        "\n",
        "f = open(\"astro.txt\")\n",
        "\n",
        "while True:\n",
        "  s = f.readline()\n",
        "  if s == \"\":\n",
        "    break\n",
        "  print(s)\n",
        "\n",
        "f.close()"
      ]
    },
    {
      "cell_type": "markdown",
      "metadata": {
        "id": "N4nWAupAzB2x"
      },
      "source": [
        "A much quicker way to accomplish this would be to use a `for` loop:"
      ]
    },
    {
      "cell_type": "code",
      "execution_count": null,
      "metadata": {
        "id": "QBoM8DZ-y9EI"
      },
      "outputs": [],
      "source": [
        "makeAstroFile()\n",
        "\n",
        "f = open(\"astro.txt\")\n",
        "\n",
        "for s in f:\n",
        "  print(s)\n",
        "\n",
        "f.close()"
      ]
    },
    {
      "cell_type": "markdown",
      "metadata": {
        "id": "sOqHTsmVzKhQ"
      },
      "source": [
        "#### **Stripping Whitespace**\n",
        "\n",
        "As we can see, we get two new lines each time we try to print - as one comes from the file itself (the new line at the end of the line - as seen in the setup function at the top of the page, `makeAstroFile()`, where `\\n` is used to insert this new line). The second newline comes from the `print()` function itself.\n",
        "\n",
        "We can remove the newline character (as well as any other leading or trailing spaces) by using the `strip()` function on a string"
      ]
    },
    {
      "cell_type": "code",
      "execution_count": null,
      "metadata": {
        "id": "uRO8WMKOzPHe"
      },
      "outputs": [],
      "source": [
        "makeAstroFile()\n",
        "\n",
        "f = open(\"astro.txt\")\n",
        "\n",
        "for s in f:\n",
        "  print(s.strip())\n",
        "\n",
        "f.close()"
      ]
    },
    {
      "cell_type": "markdown",
      "metadata": {
        "id": "McsWxdI9AXKS"
      },
      "source": [
        "## **#2. Lists**\n",
        "\n",
        "\n",
        "Lists are a data structure that allow us to store multiple records in one variable, and access the contents via the index - i.e., the position in the list that the value occurs (starting from 0).\n",
        "\n",
        "We have used lists a few times already in this course - including in the previous chapter where we opened a file using `readlines()`."
      ]
    },
    {
      "cell_type": "markdown",
      "metadata": {
        "id": "Gv_oPq7ExgjK"
      },
      "source": [
        "### **Basics**\n",
        "\n",
        "\n",
        "We can set up a list by simply assigning a variable to a range of values:"
      ]
    },
    {
      "cell_type": "code",
      "execution_count": null,
      "metadata": {
        "id": "v9xYp4ySBHks"
      },
      "outputs": [],
      "source": [
        "my_list = [1, 4, 7, 3, 9, 27]"
      ]
    },
    {
      "cell_type": "markdown",
      "metadata": {
        "id": "lQS8F7I3BMYg"
      },
      "source": [
        "and print the list via"
      ]
    },
    {
      "cell_type": "code",
      "execution_count": null,
      "metadata": {
        "id": "YVOtdwycBN8_"
      },
      "outputs": [],
      "source": [
        "print(my_list)"
      ]
    },
    {
      "cell_type": "markdown",
      "metadata": {
        "id": "Z67tf9npBQPV"
      },
      "source": [
        "or print a specific value in the list via index"
      ]
    },
    {
      "cell_type": "code",
      "execution_count": null,
      "metadata": {
        "id": "UDekIoc5BPXn"
      },
      "outputs": [],
      "source": [
        "print(my_list[1])"
      ]
    },
    {
      "cell_type": "markdown",
      "metadata": {
        "id": "DOhmTx28Bb90"
      },
      "source": [
        ">**Reminder:** *A list index starts at 0, so the index of 1 is actually the second element in the list*"
      ]
    },
    {
      "cell_type": "markdown",
      "metadata": {
        "id": "nRQI6zM2Bx3g"
      },
      "source": [
        "### **Slicing**"
      ]
    },
    {
      "cell_type": "markdown",
      "metadata": {
        "id": "LrIZljpLB0gx"
      },
      "source": [
        "##### **Between two values**\n",
        "\n",
        "We can provide the lower and upper index that we wish to use data"
      ]
    },
    {
      "cell_type": "markdown",
      "metadata": {
        "id": "qvO_k6bkCcAb"
      },
      "source": []
    },
    {
      "cell_type": "code",
      "execution_count": null,
      "metadata": {
        "id": "sUJmQ4iOBjSg"
      },
      "outputs": [],
      "source": [
        "print(my_list[2:4])"
      ]
    },
    {
      "cell_type": "markdown",
      "metadata": {
        "id": "UGKvPcznB52a"
      },
      "source": [
        "##### **From start to X**\n",
        "\n",
        "If we leave the first index number empty, it will begin at the start and count to the second index"
      ]
    },
    {
      "cell_type": "code",
      "execution_count": null,
      "metadata": {
        "id": "4f0cI3EeB_Xy"
      },
      "outputs": [],
      "source": [
        "print(my_list[:4])"
      ]
    },
    {
      "cell_type": "markdown",
      "metadata": {
        "id": "L8NHZPNlB71h"
      },
      "source": [
        "##### **From X to end**\n",
        "\n",
        "\n",
        "\n",
        "If we leave the last number empty, it will start at the first number and go to the end"
      ]
    },
    {
      "cell_type": "code",
      "execution_count": null,
      "metadata": {
        "id": "1go4nCnQCA3E"
      },
      "outputs": [],
      "source": [
        "print(my_list[2:])"
      ]
    },
    {
      "cell_type": "markdown",
      "metadata": {
        "id": "XASv2WpqChUh"
      },
      "source": [
        "### **List Manipulative Functions**\n",
        "\n",
        "---\n",
        "<br/>\n",
        "\n",
        "We can use a variety of functions to manipulate the data in our list"
      ]
    },
    {
      "cell_type": "markdown",
      "metadata": {
        "id": "igh09XYeCqDk"
      },
      "source": [
        "#### **Add values**\n",
        "\n",
        "We can add values via the `append()` method."
      ]
    },
    {
      "cell_type": "code",
      "execution_count": null,
      "metadata": {
        "id": "876pBE3xCoST"
      },
      "outputs": [],
      "source": [
        "print(my_list)\n",
        "\n",
        "my_list.append(99)\n",
        "print(my_list)"
      ]
    },
    {
      "cell_type": "markdown",
      "metadata": {
        "id": "S_6a8MJmC3BY"
      },
      "source": [
        "#### **Update Values**\n",
        "\n",
        "We can update values by simply setting the index of the list to a new value"
      ]
    },
    {
      "cell_type": "code",
      "execution_count": null,
      "metadata": {
        "id": "IKaGpsg6C-ws"
      },
      "outputs": [],
      "source": [
        "print(my_list)\n",
        "\n",
        "my_list[1] = 11\n",
        "print(my_list)"
      ]
    },
    {
      "cell_type": "markdown",
      "metadata": {
        "id": "egmJwB2GDLr_"
      },
      "source": [
        "#### **Delete Values** | *via index*\n",
        "\n",
        "We can delete values by their index via the `pop()` method"
      ]
    },
    {
      "cell_type": "code",
      "execution_count": null,
      "metadata": {
        "id": "KL5KB35fDcTZ"
      },
      "outputs": [],
      "source": [
        "my_list = [1, 4, 7, 3, 9, 27]\n",
        "print(my_list)\n",
        "\n",
        "my_list.pop(1)\n",
        "print(my_list)"
      ]
    },
    {
      "cell_type": "markdown",
      "metadata": {
        "id": "eX991RlrDcmL"
      },
      "source": [
        "#### **Delete Values** | *via value*\n",
        "\n",
        "We can delete values by their index via the `remove()` method"
      ]
    },
    {
      "cell_type": "code",
      "execution_count": null,
      "metadata": {
        "id": "uVXhtXl9DfOX"
      },
      "outputs": [],
      "source": [
        "my_list = [1, 4, 7, 3, 9, 27, 99]\n",
        "print(my_list)\n",
        "\n",
        "my_list.remove(99)\n",
        "print(my_list)"
      ]
    },
    {
      "cell_type": "markdown",
      "metadata": {
        "id": "4yvuBd1LD-w9"
      },
      "source": [
        "#### **Sort**\n",
        "\n",
        "We can sort values in a list via the `sort()` method"
      ]
    },
    {
      "cell_type": "code",
      "execution_count": null,
      "metadata": {
        "id": "lTlOlI9WEE8w"
      },
      "outputs": [],
      "source": [
        "# my_list.sort()\n",
        "# print(my_list)\n",
        "\n",
        "# g = open(\"GPA_List.txt\")\n",
        "# print(g.read())\n",
        "\n",
        "# list_of_marks = [\"20\", \"30\",\"40\"]\n",
        "# g = open(\"GPA_List.txt\", \"a\")\n",
        "# for item in list_of_marks:\n",
        "#   g.write(item + '\\n')\n",
        "# g.close()\n",
        "\n",
        "\n",
        "g = open(\"GPA_List.txt\", \"w\")\n",
        "g.write(\"\")\n",
        "g.close()\n",
        "\n",
        "\n",
        "g = open(\"student_marks.txt\", \"w\")\n",
        "g.write(\"\")\n",
        "g.close()\n"
      ]
    },
    {
      "cell_type": "markdown",
      "metadata": {
        "id": "zhsAn6WLBMWZ"
      },
      "source": []
    },
    {
      "cell_type": "markdown",
      "metadata": {
        "id": "XqC9dftNEDX-"
      },
      "source": [
        "<br/>"
      ]
    },
    {
      "cell_type": "markdown",
      "metadata": {
        "id": "LTfa8ImBtsha"
      },
      "source": [
        "\n",
        "##  **#3.YOUR TURN**\n",
        "---"
      ]
    },
    {
      "cell_type": "code",
      "execution_count": null,
      "metadata": {
        "id": "ayP9DeqqI0WQ"
      },
      "outputs": [],
      "source": [
        "\n"
      ]
    },
    {
      "cell_type": "code",
      "source": [
        "# Enter_notes = print(\"Enter student name and 4 marks\")\n",
        "# student_name = input(\"Name: \")\n",
        "# input_set = []  #sets empty list variable\n",
        "# user_num = 0\n",
        "# mark_num = 0\n",
        "# student_mark_list = []\n",
        "# formated_student_list = []\n",
        "\n",
        "# while user_num >= 0 :  #sets condition for loop to continue\n",
        "#     mark_num += 1 #adds 1 to mark number\n",
        "#     user_num = int(input(f\"Mark #{mark_num}? \"))\n",
        "\n",
        "#     if user_num < 0:\n",
        "#         mark_num -= 1\n",
        "#         #sets condition to stop loop when number is negative\n",
        "#         break# breaks the loop and moves to next line of code\n",
        "#     input_set.append(user_num)# takes empty list and adds user_num to it\n",
        "\n",
        "#     if mark_num >= 4:\n",
        "#       break\n",
        "# print(len(input_set))\n",
        "# print(*input_set)\n",
        "# print(sum(input_set))\n",
        "# average =  round(float(sum(input_set) / len(input_set)),2)\n",
        "# print(average)\n",
        "\n",
        "# g = open(\"GPA_List.txt\", \"a\")\n",
        "# for item in student_name:\n",
        "#     g.write(item)\n",
        "# g.close\n",
        "\n",
        "# g = open(\"GPA_List.txt\", \"a\")\n",
        "# g.write(\"\\n\")\n",
        "# g.close()\n",
        "\n",
        "# g = open(\"GPA_List.txt\", \"a\")\n",
        "# for item in input_set:\n",
        "#     g.write (str(item)+\" \")\n",
        "# g.close()\n",
        "\n",
        "# g = open(\"GPA_List.txt\", \"a\")\n",
        "# g.write(\"\\n\")\n",
        "# g.close()\n",
        "\n",
        "# # g = open(\"GPA_List.txt\", \"a\")\n",
        "# # g.write(\"\\n\")\n",
        "# # g.close()"
      ],
      "metadata": {
        "id": "_RhSfbvLui_d"
      },
      "execution_count": null,
      "outputs": []
    },
    {
      "cell_type": "code",
      "source": [],
      "metadata": {
        "id": "IdYxwzl00N5c"
      },
      "execution_count": null,
      "outputs": []
    },
    {
      "cell_type": "code",
      "source": [
        "Enter_notes = print(\"Enter student name and 4 marks\")\n",
        "student_name = input(\"Name: \")\n",
        "input_set = []  #sets empty list variable\n",
        "user_num = 0\n",
        "mark_num = 0\n",
        "student_mark_list = []\n",
        "formated_student_list = []\n",
        "\n",
        "while user_num >= 0 :  #sets condition for loop to continue\n",
        "    mark_num += 1 #adds 1 to mark number\n",
        "    user_num = int(input(f\"Mark #{mark_num}? \"))\n",
        "\n",
        "    if user_num < 0:\n",
        "        mark_num -= 1\n",
        "        #sets condition to stop loop when number is negative\n",
        "        break# breaks the loop and moves to next line of code\n",
        "    input_set.append(user_num)# takes empty list and adds user_num to it\n",
        "\n",
        "    if mark_num >= 4:\n",
        "      break\n",
        "#______________________________________________________________________________\n",
        "\n",
        "g = open(\"student_marks.txt\", \"a\")\n",
        "for item in student_name:\n",
        "    g.write(item)\n",
        "g.close\n",
        "\n",
        "g = open(\"student_marks.txt\", \"a\")\n",
        "g.write(\"\\n\")\n",
        "g.close()\n",
        "\n",
        "g = open(\"student_marks.txt\", \"a\")\n",
        "for item in input_set:\n",
        "    g.write (str(item)+\" \")\n",
        "g.close()\n",
        "\n",
        "g = open(\"student_marks.txt\", \"a\")\n",
        "g.write(\"\\n\")\n",
        "g.close()\n",
        "\n",
        "#__________________________________________________\n",
        "f = open(\"student_marks.txt\")\n",
        "a = f.readlines()\n",
        "student_mark= []\n",
        "average_gpa = []\n",
        "for l in a:\n",
        "  name = a[0]\n",
        "  marks = (a[1])\n",
        "\n",
        "student_mark.append(marks)\n",
        "newlist = [item.strip()for item in student_mark]\n",
        "number_string = newlist[0]\n",
        "list_of_intergers =[int(num) for num in number_string.split()]\n",
        "\n",
        "\n",
        "\n",
        "average = round(float(sum(list_of_intergers) / len(list_of_intergers)),2)\n",
        "average_gpa.append(average)\n",
        "print(\"Student name:\", name.strip())\n",
        "print(\"Student marks\",*list_of_intergers)\n",
        "print(\"GPA =\",average)\n",
        "print(average_gpa.sort())"
      ],
      "metadata": {
        "id": "joqXsSLsShki"
      },
      "execution_count": null,
      "outputs": []
    },
    {
      "cell_type": "code",
      "source": [
        "Enter_notes = print(\"Enter student name and 4 marks\")\n",
        "student_name = input(\"Name: \")\n",
        "input_set = []  #sets empty list variable\n",
        "user_num = 0\n",
        "mark_num = 0\n",
        "max_score = 100\n",
        "student_mark_list = []\n",
        "formated_student_list = []\n",
        "\n",
        "while user_num >= 0 :  #sets condition for loop to continue\n",
        "    mark_num += 1 #adds 1 to mark number\n",
        "    user_num = int(input(f\"Mark #{mark_num}? \"))\n",
        "\n",
        "    if user_num < 0:\n",
        "        mark_num -= 1\n",
        "        #sets condition to stop loop when number is negative\n",
        "        break# breaks the loop and moves to next line of code\n",
        "    # input_set.append(user_num)# takes empty list and adds user_num to it\n",
        "\n",
        "    if mark_num >= 4:\n",
        "      break\n",
        "#______________________________________________________________________________\n",
        "\n",
        "g = open(\"student_marks.txt\", \"a\")\n",
        "for item in student_name:\n",
        "    g.write(item)\n",
        "g.close\n",
        "\n",
        "g = open(\"student_marks.txt\", \"a\")\n",
        "g.write(\"\\n\")\n",
        "g.close()\n",
        "\n",
        "g = open(\"student_marks.txt\", \"a\")\n",
        "for item in input_set:\n",
        "    g.write (str(item)+\" \")\n",
        "g.close()\n",
        "\n",
        "g = open(\"student_marks.txt\", \"a\")\n",
        "g.write(\"\\n\")\n",
        "g.close()\n",
        "\n",
        "#__________________________________________________\n",
        "f = open(\"student_marks.txt\")\n",
        "a = f.readlines()\n",
        "student_mark= []\n",
        "average_gpa = []\n",
        "for l in a:\n",
        "  name = a[0]\n",
        "  marks = (a[1])\n",
        "\n",
        "student_mark.append(marks)\n",
        "newlist = [item.strip()for item in student_mark]\n",
        "number_string = newlist[0]\n",
        "list_of_intergers =[int(num) for num in number_string.split()]\n",
        "average = round(float(sum(list_of_intergers) / len(list_of_intergers)),2)\n",
        "average_gpa.append(average)\n",
        "# print(\"Student name:\", name.strip())\n",
        "# print(\"Student marks\",*list_of_intergers)\n",
        "print(\"GPA =\",average)\n",
        "print(average_gpa.sort())"
      ],
      "metadata": {
        "id": "fCGlOEwOSYM8"
      },
      "execution_count": null,
      "outputs": []
    },
    {
      "cell_type": "code",
      "source": [
        "marking_program = print(\"Enter student name and 4 marks\")\n",
        "student_name = input(\"Name: \")\n",
        "student_marks_list = []  #sets empty list variable\n",
        "add_mark = 0\n",
        "mark_num = 0\n",
        "max_score = 100\n",
        "student_mark_list = []\n",
        "calculate_GPA = 0\n",
        "\n",
        "while add_mark >= 0 :  #sets condition for loop to continue\n",
        "    mark_num += 1 #adds 1 to mark number\n",
        "    add_mark = int(input(f\"Mark #{mark_num}? \"))\n",
        "\n",
        "    if add_mark > max_score:\n",
        "      mark_num -= 1\n",
        "      print(\"Mark is invalid and it doesn't add the mark to the statistics\")\n",
        "\n",
        "\n",
        "    if add_mark < 0:\n",
        "        mark_num -= 1\n",
        "        print(\"Marking ceased\")\n",
        "\n",
        "    student_mark_list.append(add_mark)\n",
        "\n",
        "\n",
        "    calculate_GPA = round(float(sum(student_mark_list) / len(student_mark_list)),2)\n",
        "\n",
        "    if mark_num >= 4:\n",
        "        break\n",
        "print(\"Average Mark =\",calculate_GPA)\n",
        "\n",
        "\n"
      ],
      "metadata": {
        "id": "5u4JVtM_9xqM"
      },
      "execution_count": null,
      "outputs": []
    },
    {
      "cell_type": "code",
      "source": [
        "while True:\n",
        "        #------------------------------------\")\n",
        "\n",
        "          program = str(\"Enter student name and 4 marks\")\n",
        "          student_name = input(\"Name: \")\n",
        "\n",
        "          if student_name == \"0\" or student_name == \"\":\n",
        "            print(\"Exiting program.\")\n",
        "            break\n",
        "\n",
        "          # if mark_num == \"-1\":\n",
        "          #   print(\"Exiting program.\")\n",
        "          #   break\n",
        "\n",
        "          student_marks_list = []  #sets empty list variable\n",
        "          add_mark = 0\n",
        "          mark_num = 0\n",
        "          max_score = 100\n",
        "          student_mark_list = []\n",
        "          calculate_GPA = 0\n",
        "          student_transcript = [0]\n",
        "\n",
        "\n",
        "          while add_mark >= 0 :  #sets condition for loop to continue\n",
        "            mark_num += 1 #adds 1 to mark number\n",
        "            add_mark = int(input(f\"Mark #{mark_num}? \"))\n",
        "\n",
        "            if add_mark > max_score:\n",
        "              mark_num -= 1\n",
        "              print(\"Mark is invalid and it doesn't add the mark to the statistics\")\n",
        "              break\n",
        "\n",
        "            if add_mark < 0:\n",
        "                mark_num -= 1\n",
        "                print(\"Marking ceased\")\n",
        "                break\n",
        "\n",
        "            student_mark_list.append(add_mark)\n",
        "\n",
        "            calculate_GPA = round(float(sum(student_mark_list) / len(student_mark_list)),2)\n",
        "\n",
        "            if mark_num >= 4:\n",
        "              print(\"Average Mark =\",calculate_GPA)\n",
        "\n",
        "              #_____________________________\n",
        "\n",
        "              file = open(\"student_marks.txt\", \"a\")\n",
        "              for item in student_name:\n",
        "                file.write(item)\n",
        "\n",
        "\n",
        "              file = open(\"student_marks.txt\", \"a\")\n",
        "              file.write(\"\\n\")\n",
        "\n",
        "\n",
        "              file = open(\"student_marks.txt\", \"a\")\n",
        "              for item in student_mark_list:\n",
        "                file.write (str(item)+\" \")\n",
        "\n",
        "\n",
        "              file = open(\"student_marks.txt\", \"a\")\n",
        "              file.write(\"\\n\")\n",
        "              file.close()\n",
        "\n",
        "                #----------------------------------------\n",
        "\n",
        "              break\n",
        "\n",
        "print(\"Continue with transcript\")\n",
        "file = open(\"student_marks.txt\")\n",
        "transcript = file.readlines()\n",
        "print(transcript)\n",
        "file.close()\n",
        "\n",
        "student_mark= []\n",
        "average_gpa = []\n",
        "all_students_gpa= []\n",
        "data_num = [0]\n",
        "# for list in (transcript):\n",
        "#   name = transcript[0]\n",
        "#   marks = transcript[1]\n",
        "for item in range(0, len(transcript),2):\n",
        "  name = transcript[item].strip()\n",
        "  marks = transcript[item+1].strip()\n",
        "\n",
        "  list_of_intergers =[int(num) for num in marks.split()]\n",
        "\n",
        "  if list_of_intergers:\n",
        "    average = round(float(sum(list_of_intergers) / len(list_of_intergers)),2)\n",
        "  else:\n",
        "    average = 0\n",
        "  all_students_gpa.append(f\"GPA: {average}, Student name: {name}\")\n",
        "\n",
        "  student_mark.append(marks)\n",
        "\n",
        "  print(f\"Student name: {name}\")\n",
        "  print(\"Student marks\",*list_of_intergers)\n",
        "  print(\"GPA =\",average)\n",
        "  all_students_gpa.sort(reverse = True)\n",
        "print(all_students_gpa)\n",
        "\n",
        "file = open(\"GPA_list.txt\", \"w\")\n",
        "for item in all_students_gpa:\n",
        "  file.write(item + \"\\n\")\n",
        "file.close()\n",
        "\n",
        "\n",
        "\n",
        "\n",
        "\n",
        "\n",
        "# student_mark.append(marks)\n",
        "# newlist = [item.strip()for item in student_mark]\n",
        "# number_string = newlist[0]\n",
        "# list_of_intergers =[int(num) for num in number_string.split()]\n",
        "# average = round(float(sum(list_of_intergers) / len(list_of_intergers)),2)\n",
        "# average_gpa.append(average)\n",
        "\n",
        "\n",
        "\n",
        "\n",
        "\n",
        "\n",
        "\n",
        "\n",
        "#_______________________________________________\n",
        "# file = open(\"student_marks.txt\")\n",
        "# print(file.readlines())\n",
        "# data_num = [0]\n",
        "# for list in file:\n",
        "#   data_num += 1\n",
        "#   name = file[data_num]\n",
        "#   marks = (file[1])\n",
        "#   data_num += 2\n",
        "# print(name)"
      ],
      "metadata": {
        "colab": {
          "base_uri": "https://localhost:8080/"
        },
        "id": "bpOWm1J_HU7_",
        "outputId": "b11dee61-bbc4-4cc5-b501-fa8b060c6eb6"
      },
      "execution_count": 2,
      "outputs": [
        {
          "output_type": "stream",
          "name": "stdout",
          "text": [
            "Name: Mat\n",
            "Mark #1? 10\n",
            "Mark #2? 20\n",
            "Mark #3? 30\n",
            "Mark #4? 40\n",
            "Average Mark = 25.0\n",
            "Name: o\n",
            "Mark #1? 35\n",
            "Mark #2? 85\n",
            "Mark #3? 100\n",
            "Mark #4? 40\n",
            "Average Mark = 65.0\n",
            "Name: 0\n",
            "Exiting program.\n",
            "Continue with transcript\n",
            "['Kia\\n', '50 40 65 30 \\n', 'Kye\\n', '33 27 15 45 \\n', 'Mat\\n', '10 20 30 40 \\n', 'o\\n', '35 85 100 40 \\n']\n",
            "Student name: Kia\n",
            "Student marks 50 40 65 30\n",
            "GPA = 46.25\n",
            "Student name: Kye\n",
            "Student marks 33 27 15 45\n",
            "GPA = 30.0\n",
            "Student name: Mat\n",
            "Student marks 10 20 30 40\n",
            "GPA = 25.0\n",
            "Student name: o\n",
            "Student marks 35 85 100 40\n",
            "GPA = 65.0\n",
            "['GPA: *65.0, Student name: o', 'GPA: *46.25, Student name: Kia', 'GPA: *30.0, Student name: Kye', 'GPA: *25.0, Student name: Mat']\n"
          ]
        }
      ]
    },
    {
      "cell_type": "markdown",
      "metadata": {
        "id": "2uifW04Is2EE"
      },
      "source": [
        "### **Program #1 |** A Simple Student Class &nbsp; **<i>[EXTENDED]</i>**\n",
        "---\n",
        "\n",
        "Take the *Simple Student Class* tutorial from last week and paste your code below.\n",
        "\n",
        "><table>\n",
        "In this program we will create a simple student class and a few objects.\n",
        "<br/><br/>\n",
        "\n",
        "The student class should have the following:\n",
        "\n",
        "**Properties**\n",
        "* `name` the name of the student\n",
        "* `marks` a list of final marks the student has been awarded\n",
        "\n",
        "\n",
        "**Methods**\n",
        "* `add_mark()` which takes a single value and adds it to the list of marks\n",
        "* `calculate_GPA()` which gets the average from the list of marks\n",
        "* `print_student()` which nicely prints a transcript for the student (name, marks, GPA)\n",
        "></table>\n",
        "\n",
        "\n",
        "<br/>\n",
        "\n",
        "### **Your Task**\n",
        "\n",
        "\n",
        "1.  Update the program to read in the data from `student_marks.txt` file (rather than the current data hard-coded in the program) into a List\n",
        "\n",
        "2. From there, you need to calculate the GPA for each student, and then print to a new file (`GPA_List.txt`) each student's name alongside their associated GPA in descending order.\n"
      ]
    },
    {
      "cell_type": "code",
      "execution_count": null,
      "metadata": {
        "id": "6_CTo-8Rjbu3"
      },
      "outputs": [],
      "source": [
        "# Student Name:   MYNAME\n",
        "# Student Number: MYSTUDENTNUMBER\n",
        "\n",
        "# TODO: Insert code from simple student class from last week's tutorial here"
      ]
    },
    {
      "cell_type": "markdown",
      "metadata": {
        "id": "T1VrXym6tjGs"
      },
      "source": [
        "<br/><BR/>"
      ]
    },
    {
      "cell_type": "markdown",
      "metadata": {
        "id": "N-XTusSvusCo"
      },
      "source": [
        "### **Submission**\n",
        "---\n",
        "\n",
        "When you believe you have the program correctly working, please run the program and enter valid details for height and weight (you don't need to use your own if you do not want to) to get the output of BMI to show.\n",
        "<br/><br/>\n",
        "When you are ready to submit please go to `File` -> `Print` -> `Print PDF` and then upload and submit in the LMS.\n",
        "\n",
        "Please save your file to GitHub via: `File` -> `Save a copy in GitHub`"
      ]
    }
  ],
  "metadata": {
    "colab": {
      "provenance": [],
      "include_colab_link": true
    },
    "kernelspec": {
      "display_name": "Python 3",
      "name": "python3"
    },
    "language_info": {
      "name": "python"
    }
  },
  "nbformat": 4,
  "nbformat_minor": 0
}
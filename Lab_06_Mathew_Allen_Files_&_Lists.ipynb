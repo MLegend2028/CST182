{
  "nbformat": 4,
  "nbformat_minor": 0,
  "metadata": {
    "colab": {
      "provenance": [],
      "include_colab_link": true
    },
    "kernelspec": {
      "name": "python3",
      "display_name": "Python 3"
    },
    "language_info": {
      "name": "python"
    }
  },
  "cells": [
    {
      "cell_type": "markdown",
      "metadata": {
        "id": "view-in-github",
        "colab_type": "text"
      },
      "source": [
        "<a href=\"https://colab.research.google.com/github/MLegend2028/CST182/blob/main/Lab_06_Mathew_Allen_Files_%26_Lists.ipynb\" target=\"_parent\"><img src=\"https://colab.research.google.com/assets/colab-badge.svg\" alt=\"Open In Colab\"/></a>"
      ]
    },
    {
      "cell_type": "markdown",
      "source": [
        "# **LAB #06** - Files & Lists\n",
        "<br/>\n"
      ],
      "metadata": {
        "id": "qdM8hjkwAnQ5"
      }
    },
    {
      "cell_type": "code",
      "source": [
        "def highscores():\n",
        "  f = open(\"highscores.txt\", \"w\")\n",
        "  f.close"
      ],
      "metadata": {
        "id": "DnfrnfpvrvaC"
      },
      "execution_count": null,
      "outputs": []
    },
    {
      "cell_type": "markdown",
      "source": [
        "><table>\n",
        "## **Lab Overview**\n",
        "\n",
        "These lab questions will help develop your understanding of how to open and work with files (reading, writing, and appending) and will also test your understanding of lists - what they are, how they are structured, and how to use them.<br/>\n",
        "\n",
        "The tasks presented will cover some of the different use cases for these concepts - but are not exhaustive - and you're recommended to further your understanding via the content on the LMS, research (e.g., Searching *how can I use files to ...*), and on-going development of personal projects.\n",
        "></table>\n",
        "\n",
        "<br/><br/>\n",
        "\n"
      ],
      "metadata": {
        "id": "ax351qT1A2wO"
      }
    },
    {
      "cell_type": "markdown",
      "source": [
        "\n",
        "\n",
        "# **Question #1** - A Highscores Table\n",
        "---\n",
        "<br/>\n",
        "\n",
        "This question will be split across a few different parts to get you to concentrate on different areas of working with files and lists.<br/><br/>\n",
        "\n",
        "\n",
        "If you get stuck on a Part it is advised to seek help before continuing to the next Part as later tasks may be dependent on earlier ones.<br/><br/>\n",
        "\n",
        "Please don't hesitate to contact your facilitator for advice - we are here to help. With that said - it's always best if you have started to attempt the program (even a paper-based flowchart) so we can see where you're getting stuck and can provide help accordingly.\n"
      ],
      "metadata": {
        "id": "Ul0eUARrsGff"
      }
    },
    {
      "cell_type": "code",
      "source": [
        "file = open(\"highscores.txt\", \"w\")\n",
        "file.close"
      ],
      "metadata": {
        "colab": {
          "base_uri": "https://localhost:8080/"
        },
        "id": "Fv2OYi4DcooF",
        "outputId": "0dd68d60-fbbb-40ac-b908-f126139c1960"
      },
      "execution_count": null,
      "outputs": [
        {
          "output_type": "execute_result",
          "data": {
            "text/plain": [
              "<function TextIOWrapper.close()>"
            ]
          },
          "metadata": {},
          "execution_count": 230
        }
      ]
    },
    {
      "cell_type": "code",
      "source": [
        "# data_marks = []\n",
        "# user_num = 0\n",
        "# mark_num = 0\n",
        "# max_score = 100\n",
        "# list_marks = []\n",
        "# highest_scores = []\n",
        "# while user_num >= 0:\n",
        "#     mark_num += 1\n",
        "#     user_num = int(input(f\"Mark #{mark_num}? \"))\n",
        "\n",
        "#     if user_num > max_score:\n",
        "#       print(\"Mark is invalid and it doesn't add the mark to the statistics\")\n",
        "#       mark_num -= 1\n",
        "#       break\n",
        "\n",
        "#     if user_num <=-1:\n",
        "#       mark_num -= 1\n",
        "#       print(\"Marking complete\")\n",
        "#       break\n",
        "\n",
        "\n",
        "#     data_marks.append(user_num)\n",
        "\n",
        "# # print(f\"Number of marks = {mark_num} \")\n",
        "\n",
        "# if data_marks:\n",
        "#     print(f\"Number of marks = {mark_num} \")\n",
        "#     max_num = data_marks[0]\n",
        "#     for x in data_marks:\n",
        "#         if x > max_num:\n",
        "#             max_num = x\n",
        "\n",
        "#     mix_num = data_marks[0]\n",
        "#     for y in data_marks:\n",
        "#         if y < mix_num:\n",
        "#             mix_num = y\n",
        "#     print(\"Highest Mark =\",max_num)\n",
        "#     print(\"Lowest Mark =\", mix_num)\n",
        "#     print(\"Average Mark =\",round(float(sum(data_marks) / len(data_marks)),2))\n",
        "#     data_marks.sort(reverse = True)\n",
        "#     print(\"All marks:\", *data_marks)\n",
        "#     # print(\"Top 10 scores:\",*data_marks[:10])\n",
        "\n",
        "#     list_marks.append(data_marks[:10])\n",
        "\n",
        "#     print(\"Top 10 scores:\",*data_marks)\n",
        "\n",
        "\n",
        "#     file = open(\"highscores.txt\", \"a\")\n",
        "#     for item in list_marks:\n",
        "#       file.write(str(item)+ \"\\n\")\n",
        "#     file.close\n",
        "\n",
        "#     file = open(\"highscores.txt\", \"a\")\n",
        "#     file.write(\"\\n\")\n",
        "#     file.close\n",
        "\n",
        "\n",
        "data_marks = []\n",
        "user_num = 0\n",
        "mark_num = 0\n",
        "max_score = 100\n",
        "highest_scores = []\n",
        "while user_num >= 0:\n",
        "    mark_num += 1\n",
        "    user_num = int(input(f\"Mark #{mark_num}? \"))\n",
        "    if user_num > max_score:\n",
        "      print(\"Mark is invalid and it doesn't add the mark to the statistics\")\n",
        "      mark_num -= 1\n",
        "      continue\n",
        "\n",
        "    if user_num <=-1:\n",
        "      mark_num -= 1\n",
        "      print(\"Marking complete\")\n",
        "      break\n",
        "\n",
        "\n",
        "    data_marks.append(user_num)\n",
        "\n",
        "# print(f\"Number of marks = {mark_num} \")\n",
        "\n",
        "if data_marks:\n",
        "    print(f\"Number of marks = {mark_num} \")\n",
        "    max_num = data_marks[0]\n",
        "    for x in data_marks:\n",
        "        if x > max_num:\n",
        "            max_num = x\n",
        "\n",
        "    mix_num = data_marks[0]\n",
        "    for y in data_marks:\n",
        "        if y < mix_num:\n",
        "            mix_num = y\n",
        "    print(\"Highest Mark =\",max_num)\n",
        "    print(\"Lowest Mark =\", mix_num)\n",
        "    print(\"Average Mark =\",round(float(sum(data_marks) / len(data_marks)),2))\n",
        "    data_marks.sort(reverse = True)\n",
        "    print(\"All marks:\",data_marks)\n",
        "    # print(\"Top 10 scores:\",*data_marks[:10])\n",
        "\n",
        "    # highest_scores.append(data_marks[:10])\n",
        "\n",
        "    print(\"Top 10 scores:\",highest_scores)\n",
        "\n",
        "    # print(\"Top 10 scores:\",*data_marks[:10])\n",
        "\n",
        "\n",
        "    # highest_scores = data_marks[:10]\n",
        "    # file = open(\"highscores.txt\", \"w\")\n",
        "    # for item in highest_scores:\n",
        "    #   file.write(str(item)+\" \")\n",
        "    #   file.close\n"
      ],
      "metadata": {
        "colab": {
          "base_uri": "https://localhost:8080/",
          "height": 220
        },
        "id": "Jo8c02fT520U",
        "outputId": "43812f8d-10b2-4521-a9a9-32ebf5ccf8aa"
      },
      "execution_count": null,
      "outputs": [
        {
          "output_type": "error",
          "ename": "TypeError",
          "evalue": "'str' object is not callable",
          "traceback": [
            "\u001b[0;31m---------------------------------------------------------------------------\u001b[0m",
            "\u001b[0;31mTypeError\u001b[0m                                 Traceback (most recent call last)",
            "\u001b[0;32m/tmp/ipython-input-231-2470470688.py\u001b[0m in \u001b[0;36m<cell line: 0>\u001b[0;34m()\u001b[0m\n\u001b[1;32m     64\u001b[0m \u001b[0;32mwhile\u001b[0m \u001b[0muser_num\u001b[0m \u001b[0;34m>=\u001b[0m \u001b[0;36m0\u001b[0m\u001b[0;34m:\u001b[0m\u001b[0;34m\u001b[0m\u001b[0;34m\u001b[0m\u001b[0m\n\u001b[1;32m     65\u001b[0m     \u001b[0mmark_num\u001b[0m \u001b[0;34m+=\u001b[0m \u001b[0;36m1\u001b[0m\u001b[0;34m\u001b[0m\u001b[0;34m\u001b[0m\u001b[0m\n\u001b[0;32m---> 66\u001b[0;31m     \u001b[0muser_num\u001b[0m \u001b[0;34m=\u001b[0m \u001b[0mint\u001b[0m\u001b[0;34m(\u001b[0m\u001b[0minput\u001b[0m\u001b[0;34m(\u001b[0m\u001b[0;34mf\"Mark #{mark_num}? \"\u001b[0m\u001b[0;34m)\u001b[0m\u001b[0;34m)\u001b[0m\u001b[0;34m\u001b[0m\u001b[0;34m\u001b[0m\u001b[0m\n\u001b[0m\u001b[1;32m     67\u001b[0m     \u001b[0;32mif\u001b[0m \u001b[0muser_num\u001b[0m \u001b[0;34m>\u001b[0m \u001b[0mmax_score\u001b[0m\u001b[0;34m:\u001b[0m\u001b[0;34m\u001b[0m\u001b[0;34m\u001b[0m\u001b[0m\n\u001b[1;32m     68\u001b[0m       \u001b[0mprint\u001b[0m\u001b[0;34m(\u001b[0m\u001b[0;34m\"Mark is invalid and it doesn't add the mark to the statistics\"\u001b[0m\u001b[0;34m)\u001b[0m\u001b[0;34m\u001b[0m\u001b[0;34m\u001b[0m\u001b[0m\n",
            "\u001b[0;31mTypeError\u001b[0m: 'str' object is not callable"
          ]
        }
      ]
    },
    {
      "cell_type": "markdown",
      "source": [
        "## **Part A** - Creating a file\n",
        "---\n",
        "\n",
        "Here we will be retrieving data from the user input, adding it to a list, and then publishing it to a file so that it can persist after the program has been exited.<br/><br/>\n",
        "\n",
        "### Your Task\n",
        "\n",
        "Create a basic loop that reads in scores from the user until the user enters the sentinel value of -1. Each score should be added to a list. <br/><br/>\n",
        "\n",
        "After the loop has been exited, the program should take the top 10 scores and print them in order (highest to lowest) to the screen, and also to a file called `highscores.txt` and then the program should exit.\n",
        "\n",
        "<br/>\n"
      ],
      "metadata": {
        "id": "BLTrkBgqEoQR"
      }
    },
    {
      "cell_type": "markdown",
      "source": [
        "### Your Answer"
      ],
      "metadata": {
        "id": "sedot7JUuhD2"
      }
    },
    {
      "cell_type": "code",
      "source": [
        "#from typing import List\n",
        "# Student Name: Mathew Allen\n",
        "# Student Number:1019868\n",
        "\n",
        "data_marks = []\n",
        "user_num = 0\n",
        "mark_num = 0\n",
        "max_score = 100\n",
        "list_marks = []\n",
        "highest_scores = []\n",
        "while user_num >= 0:\n",
        "  mark_num += 1\n",
        "  user_num = int(input(f\"Mark #{mark_num}? \"))\n",
        "\n",
        "  if user_num > max_score:\n",
        "      print(\"Mark is invalid and it doesn't add the mark to the statistics\")\n",
        "      mark_num -= 1\n",
        "      break\n",
        "\n",
        "  if user_num <=-1:\n",
        "      mark_num -= 1\n",
        "      print(\"Marking complete\")\n",
        "      break\n",
        "\n",
        "\n",
        "      data_marks.append(user_num)\n",
        "\n",
        "# print(f\"Number of marks = {mark_num} \")\n",
        "\n",
        "if data_marks:\n",
        "    print(f\"Number of marks = {mark_num} \")\n",
        "    max_num = data_marks[0]\n",
        "    for x in data_marks:\n",
        "        if x > max_num:\n",
        "            max_num = x\n",
        "\n",
        "    mix_num = data_marks[0]\n",
        "    for y in data_marks:\n",
        "        if y < mix_num:\n",
        "            mix_num = y\n",
        "    print(\"Highest Mark =\",max_num)\n",
        "    print(\"Lowest Mark =\", mix_num)\n",
        "    print(\"Average Mark =\",round(float(sum(data_marks) / len(data_marks)),2))\n",
        "\n",
        "    data_marks.sort(reverse = True)\n",
        "    print(\"All marks:\", *data_marks)\n",
        "    # print(\"Top 10 scores:\",*data_marks[:10])\n",
        "\n",
        "    list_marks.append(data_marks[:10])\n",
        "\n",
        "    print(\"Top 10 scores:\",*list_marks)\n",
        "\n",
        "    file = open(\"highscores.txt\", \"a\")\n",
        "    for item in list_marks:\n",
        "      file.write(str(item)+ \"\\n\")\n",
        "    file.close\n",
        "\n",
        "    file = open(\"highscores.txt\", \"a\")\n",
        "    file.write(\"\\n\\n\")\n",
        "    file.close\n",
        "\n",
        "    #_____________________________________________________________\n",
        "\n"
      ],
      "metadata": {
        "id": "9PP7YGX7odq2",
        "colab": {
          "base_uri": "https://localhost:8080/"
        },
        "outputId": "73ceab6e-033d-4d9c-e90c-7e033b757a1b"
      },
      "execution_count": null,
      "outputs": [
        {
          "output_type": "stream",
          "name": "stdout",
          "text": [
            "Mark #1? -1\n",
            "Marking complete\n"
          ]
        }
      ]
    },
    {
      "cell_type": "markdown",
      "source": [
        "<Br/><br/>"
      ],
      "metadata": {
        "id": "QFxRj-X-yFdh"
      }
    },
    {
      "cell_type": "markdown",
      "source": [
        "## **Part B** - Data Permanence  \n",
        "---\n",
        "\n",
        "Here we will add the second part of retaining a highscores list - being able to read them back into the program.<br/><br/>\n",
        "\n",
        "### Your Task\n",
        "\n",
        "Copy your code from Part A and paste it into the code block below.<br/><br/>\n",
        "Next, you need to extend the program to:\n",
        "* open the `highscores.txt` file\n",
        "* read and print the current highscores list to the screen\n",
        "* populate the highscores list<br/><br/>\n",
        "\n",
        "Once this is done, you need to ensure that the functionality in Part A still works - that is, that you can take in scores via the loop and add them to the list, and then re-save them to the file.\n",
        "\n",
        "\n",
        "\n",
        "\n",
        "<br/>\n"
      ],
      "metadata": {
        "id": "DLlsIPyy7PBr"
      }
    },
    {
      "cell_type": "markdown",
      "source": [
        "### Your Answer"
      ],
      "metadata": {
        "id": "FLqsaUEC_g7E"
      }
    },
    {
      "cell_type": "code",
      "source": [
        "### COPY AND PASTE YOUR ANSWER FROM PART A HERE\n",
        "#Mathew Allen\n",
        "# 1019868\n",
        "data_marks = []\n",
        "user_num = 0\n",
        "mark_num = 0\n",
        "max_score = 100\n",
        "list_marks = []\n",
        "highest_scores = []\n",
        "while user_num >= 0:\n",
        "    mark_num += 1\n",
        "    user_num = int(input(f\"Mark #{mark_num}? \"))\n",
        "\n",
        "    if user_num > max_score:\n",
        "      print(\"Mark is invalid and it doesn't add the mark to the statistics\")\n",
        "      mark_num -= 1\n",
        "      break\n",
        "\n",
        "    if user_num <=-1:\n",
        "      mark_num -= 1\n",
        "      print(F\"Marking complete\\n\")\n",
        "      break\n",
        "\n",
        "\n",
        "    data_marks.append(user_num)\n",
        "\n",
        "# print(f\"Number of marks = {mark_num} \")\n",
        "\n",
        "if data_marks:\n",
        "    print(f\"Number of marks = {mark_num} \")\n",
        "    max_num = data_marks[0]\n",
        "    for x in data_marks:\n",
        "        if x > max_num:\n",
        "            max_num = x\n",
        "\n",
        "    mix_num = data_marks[0]\n",
        "    for y in data_marks:\n",
        "        if y < mix_num:\n",
        "            mix_num = y\n",
        "    print(\"Highest Mark =\",max_num)\n",
        "    print(\"Lowest Mark =\", mix_num)\n",
        "    print(\"Average Mark =\",round(float(sum(data_marks) / len(data_marks)),2))\n",
        "\n",
        "    data_marks.sort(reverse = True)\n",
        "    print(\"All marks:\", *data_marks)\n",
        "    # print(\"Top 10 scores:\",*data_marks[:10])\n",
        "\n",
        "    list_marks.append(data_marks[:10])\n",
        "\n",
        "    print(\"Top 10 scores:\",*list_marks)\n",
        "\n",
        "    file = open(\"highscores.txt\", \"a\")\n",
        "    for item in list_marks:\n",
        "      file.write(str(item)+ \"\\n\")\n",
        "    file.close\n",
        "\n",
        "#     file = open(\"highscores.txt\", \"a\")\n",
        "#     file.write(\"\\n\")\n",
        "#     file.close\n",
        "# #__________________________________________________________\n",
        "\n",
        "file = open(\"highscores.txt\")\n",
        "transcript = file.readlines()\n",
        "file.close()\n",
        "\n",
        "for item in range(0, len(transcript)):\n",
        "  name = transcript[item]\n",
        "  # marks = transcript[item+1].strip()\n",
        "  print(\"High scores list:\",name)\n"
      ],
      "metadata": {
        "id": "3DESmazg7u-M"
      },
      "execution_count": null,
      "outputs": []
    },
    {
      "cell_type": "markdown",
      "source": [
        "<br/><br/>"
      ],
      "metadata": {
        "id": "smBNf2JC7yzD"
      }
    },
    {
      "cell_type": "markdown",
      "source": [
        "## **Part C** - Further Functionalities **[ OPTIONAL! ]**\n",
        "---\n",
        "\n",
        "<br/>\n",
        "\n",
        "***Note: This part is optional and is not required to be completed***\n",
        "\n",
        "<br/>\n",
        "\n",
        "To make the highscores list closer to the real world, here are some additional tasks that you can implement if adventurous<br/><br/>\n",
        "\n",
        "### Your Task\n",
        "\n",
        "Copy your code from Part B and paste it into the code block below.<br/><br/>\n",
        "\n",
        "Try to add as many of the following as you can:\n",
        "* Add the ability to save & display a players name against their score\n",
        "* Add functionality to automatically save & display the date/time of the highscore (note: check `datetime` module)\n",
        "* Update the program to be menu-based rather than counting on loops and exiting/opening the program\n",
        "  * Have a menu that contains items for:<br/>\n",
        "    <input type=\"checkbox\"> Add new score<br/>\n",
        "    <input type=\"checkbox\"> View scores<br/>\n",
        "    <input type=\"checkbox\"> Delete score<br/>\n",
        "    <input type=\"checkbox\"> Modify score<br/>\n",
        "    <input type=\"checkbox\"> Clear highscore list<br/>\n",
        "    <input type=\"checkbox\"> Exit & Save<br/>\n",
        ">*Please tick off functionalities that you have completed*.\n",
        "\n",
        "And any further ideas you have to improve this program (if you do add extra functionalities, list them as comments at the top of the file underneath your name and student ID)\n",
        "<br/><br/>\n",
        "\n"
      ],
      "metadata": {
        "id": "3IHb76Mr-Hdj"
      }
    },
    {
      "cell_type": "code",
      "source": [
        "file = open(\"highscores.txt\", \"w\")\n",
        "file.close\n",
        "file = open(\"student_marks.txt\", \"w\")\n",
        "file.close"
      ],
      "metadata": {
        "colab": {
          "base_uri": "https://localhost:8080/"
        },
        "id": "6-GoUmDxwXBk",
        "outputId": "65dc755c-916f-4271-c64f-3a73f1800ff4"
      },
      "execution_count": null,
      "outputs": [
        {
          "output_type": "execute_result",
          "data": {
            "text/plain": [
              "<function TextIOWrapper.close()>"
            ]
          },
          "metadata": {},
          "execution_count": 143
        }
      ]
    },
    {
      "cell_type": "markdown",
      "source": [
        "### Your Answer"
      ],
      "metadata": {
        "id": "SCY_xtUk_h-e"
      }
    },
    {
      "cell_type": "code",
      "source": [
        "from os import remove\n",
        "# # print(\"1. Add new score\")\n",
        "# # print(\"2. View scores\")\n",
        "# # print(\"3. Delete score\")\n",
        "# # print(\"4. Modify score\")\n",
        "# # print(\"5. Clear highscore list\")\n",
        "# # print(\"6. Exit & Save\")\n",
        "\n",
        "# option = input(\"Enter your option: \")\n",
        "\n",
        "# Student Name:   Mathew Allen\n",
        "# Student Number: MYSTUDENTNUMBER\n",
        "\n",
        "# TODO: Insert code from simple student class from last week's tutorial here\n",
        "\n",
        "\n",
        "while True:\n",
        "\n",
        "\n",
        "  data_marks = []\n",
        "  user_num = 0\n",
        "  mark_num = 0\n",
        "  max_score = 100\n",
        "  list_marks = []\n",
        "  highest_scores = []\n",
        "  print(\"1. Add new score\")\n",
        "  print(\"2. View scores\")\n",
        "  print(\"3. Delete score\")\n",
        "  print(\"4. Modify score\")\n",
        "  print(\"5. Clear highscore list\")\n",
        "  print(\"6. Exit & Save\")\n",
        "  option = input(\"Enter your option: \")\n",
        "\n",
        "\n",
        "  if option == \"1\":\n",
        "    student_name = input(\"Enter student name: \")\n",
        "    while user_num >= 0:\n",
        "      mark_num += 1\n",
        "      user_num = int(input(f\"Mark #{mark_num}? \"))\n",
        "      # data_marks.append(user_num)\n",
        "\n",
        "      if user_num > max_score:\n",
        "        print(\"Mark is invalid and it doesn't add the mark to the statistics\")\n",
        "        mark_num -= 1\n",
        "        break\n",
        "\n",
        "      if user_num <=-1:\n",
        "        mark_num -= 1\n",
        "        print(F\"Marking complete\\n\")\n",
        "        # break\n",
        "      else:\n",
        "        data_marks.append(user_num)\n",
        "\n",
        "    print(data_marks)\n",
        "    if data_marks:\n",
        "          print(f\"Number of marks = {mark_num} \")\n",
        "          max_num = data_marks[0]\n",
        "          for x in data_marks:\n",
        "              if x > max_num:\n",
        "                  max_num = x\n",
        "\n",
        "          mix_num = data_marks[0]\n",
        "          for y in data_marks:\n",
        "              if y < mix_num:\n",
        "                  mix_num = y\n",
        "          print(\"Highest Mark =\",max_num)\n",
        "          print(\"Lowest Mark =\", mix_num)\n",
        "          print(\"Average Mark =\",round(float(sum(data_marks) / len(data_marks)),2))\n",
        "\n",
        "          data_marks.sort(reverse = True)\n",
        "          print(\"All marks:\", *data_marks)\n",
        "          # print(\"Top 10 scores:\",*data_marks[:10])\n",
        "\n",
        "          list_marks.append(data_marks[1:10])\n",
        "\n",
        "          print(\"Top 10 scores:\",*list_marks)\n",
        "\n",
        "          file = open(\"highscores.txt\", \"a\")\n",
        "          for item in list_marks:\n",
        "            file.write(str(item)+ \"\\n\")\n",
        "          file.close\n",
        "          continue\n",
        "\n",
        "\n",
        "\n",
        "  elif option == \"2\":\n",
        "      file = open(\"highscores.txt\")\n",
        "      print(file.read())\n",
        "      file.close()\n",
        "\n",
        "  elif option == \"3\":\n",
        "      if list_marks:\n",
        "        list_marks.pop(-1)\n",
        "        print(list)\n",
        "\n",
        "  elif option == \"5\":\n",
        "    file = open(\"highscores.txt\",\"w\")\n",
        "    file.close()\n",
        "\n",
        "\n",
        "  elif option == \"6\":\n",
        "    print(\"Exit and save\")\n",
        "    break\n",
        "\n",
        "\n",
        "\n",
        "  # elif option:\n",
        "  #   for option in option:\n",
        "  #     if option == \"6\":\n",
        "  #      break"
      ],
      "metadata": {
        "id": "9_OmC1dG_KV3",
        "collapsed": true,
        "colab": {
          "base_uri": "https://localhost:8080/"
        },
        "outputId": "dda4fcbe-5d8a-4a4c-aec4-875f62e42c46"
      },
      "execution_count": 56,
      "outputs": [
        {
          "output_type": "stream",
          "name": "stdout",
          "text": [
            "1. Add new score\n",
            "2. View scores\n",
            "3. Delete score\n",
            "4. Modify score\n",
            "5. Clear highscore list\n",
            "6. Exit & Save\n",
            "Enter your option: 6\n",
            "Exit and save\n"
          ]
        }
      ]
    },
    {
      "cell_type": "markdown",
      "source": [
        "<br/><br/>"
      ],
      "metadata": {
        "id": "Bc2gMp6g_MoO"
      }
    },
    {
      "cell_type": "markdown",
      "source": [
        "# **Submission**\n",
        "---\n",
        "\n",
        "When you believe you have the program correctly working, please run the program and enter valid details for each program so that the output is apparent.\n",
        "<br/><br/>\n",
        "When you are ready to submit please\n",
        "\n",
        "*   go to `File` -> `Print` -> `Print PDF` and then upload and submit in the LMS.\n",
        "  *   feel free to also submit your artwork from question 1 to the LMS if you'd like to\n",
        "\n",
        "*   save your file to GitHub via: `File` -> `Save a copy in GitHub`\n"
      ],
      "metadata": {
        "id": "CxZ8SilaD9Gq"
      }
    }
  ]
}
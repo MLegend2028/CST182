{
  "nbformat": 4,
  "nbformat_minor": 0,
  "metadata": {
    "colab": {
      "provenance": [],
      "toc_visible": true,
      "include_colab_link": true
    },
    "kernelspec": {
      "name": "python3",
      "display_name": "Python 3"
    },
    "language_info": {
      "name": "python"
    }
  },
  "cells": [
    {
      "cell_type": "markdown",
      "metadata": {
        "id": "view-in-github",
        "colab_type": "text"
      },
      "source": [
        "<a href=\"https://colab.research.google.com/github/MLegend2028/CST182/blob/main/Copy_of_Lab_08_Pandas_%26_Matplotlib_Mathew_Allen_.ipynb\" target=\"_parent\"><img src=\"https://colab.research.google.com/assets/colab-badge.svg\" alt=\"Open In Colab\"/></a>"
      ]
    },
    {
      "cell_type": "markdown",
      "source": [
        "# **LAB #08** - Modules\n",
        "<br/>\n"
      ],
      "metadata": {
        "id": "qdM8hjkwAnQ5"
      }
    },
    {
      "cell_type": "markdown",
      "source": [
        "><table>\n",
        "##**Lab Overview**\n",
        "\n",
        "These lab questions will help further your understanding of a new data structure - the Pandas DataFrame - available as an additional module in Python. From there, the resulting data will visually displayed using another module - matplotlib.<br/>\n",
        "\n",
        "The tasks presented will cover some of the different use cases for these concepts - but are not exhaustive - and you're recommended to further your understanding via the content on the LMS, research (e.g., Searching *how can I use files to ...*), and on-going development of personal projects.\n",
        "></table>\n",
        "\n",
        "<br/><br/>\n",
        "\n"
      ],
      "metadata": {
        "id": "ax351qT1A2wO"
      }
    },
    {
      "cell_type": "markdown",
      "source": [
        "\n",
        "\n",
        "## **Question #1** - Iris Dataset Manipulation\n",
        "---\n",
        "<br/>\n",
        "\n",
        "Here we will use two popular packages, `Pandas` & `matplotlib`, to manipulate, analyse, and display data from a famous 1936 dataset on irises:\n",
        "\n",
        ">*Fisher, R.A. (1936) The Use of Multiple Measurements in Taxonomic Problems. Annals of Eugenics, 7, 179-188.*\n",
        "\n",
        "<br/>"
      ],
      "metadata": {
        "id": "Ul0eUARrsGff"
      }
    },
    {
      "cell_type": "markdown",
      "source": [
        "### **Part A** - Simple Statistics\n",
        "\n",
        "The following code reads the csv file into a Pandas `DataFrame`.\n",
        "\n",
        "The ``head()`` method has been called on the DataFrame so you can see the data that will be used throughout this question.\n",
        "\n",
        "\n"
      ],
      "metadata": {
        "id": "r8S5cwYXfGmA"
      }
    },
    {
      "cell_type": "code",
      "source": [
        "# Student Name:Mathew Allen\n",
        "# Student Number:1019868\n",
        "\n",
        "import pandas as pd\n",
        "\n",
        "df = pd.read_csv(\"https://gist.githubusercontent.com/curran/a08a1080b88344b0c8a7/raw/0e7a9b0a5d22642a06d3d5b9bcbad9890c8ee534/iris.csv\")\n",
        "\n",
        "print(df.head())\n"
      ],
      "metadata": {
        "id": "9PP7YGX7odq2",
        "colab": {
          "base_uri": "https://localhost:8080/",
          "height": 0
        },
        "outputId": "0bf23b36-6121-42ab-bec9-bdd1a71ddc6b"
      },
      "execution_count": 2,
      "outputs": [
        {
          "output_type": "stream",
          "name": "stdout",
          "text": [
            "   sepal_length  sepal_width  petal_length  petal_width species\n",
            "0           5.1          3.5           1.4          0.2  setosa\n",
            "1           4.9          3.0           1.4          0.2  setosa\n",
            "2           4.7          3.2           1.3          0.2  setosa\n",
            "3           4.6          3.1           1.5          0.2  setosa\n",
            "4           5.0          3.6           1.4          0.2  setosa\n"
          ]
        }
      ]
    },
    {
      "cell_type": "markdown",
      "source": [
        "#### **Your Task**\n",
        "\n",
        "Display the average statistics (all applicable attributes) for all three species of iris in one line."
      ],
      "metadata": {
        "id": "yaD7fQeBa60e"
      }
    },
    {
      "cell_type": "code",
      "source": [
        "# TODO: Mathew Allen 1019868\n",
        "\n",
        "df = pd.read_csv(\"https://gist.githubusercontent.com/curran/a08a1080b88344b0c8a7/raw/0e7a9b0a5d22642a06d3d5b9bcbad9890c8ee534/iris.csv\")\n",
        "\n",
        "average_stats_by_species = df.groupby(\"species\").mean()\n",
        "print(\"Average statistics for each species:\")\n",
        "print(average_stats_by_species)"
      ],
      "metadata": {
        "id": "PYtoxGICa0e_",
        "colab": {
          "base_uri": "https://localhost:8080/",
          "height": 0
        },
        "outputId": "9791ccb0-bb37-4cd0-c3ba-e665d591d4a4"
      },
      "execution_count": 5,
      "outputs": [
        {
          "output_type": "stream",
          "name": "stdout",
          "text": [
            "Average statistics for each species:\n",
            "            sepal_length  sepal_width  petal_length  petal_width\n",
            "species                                                         \n",
            "setosa             5.006        3.418         1.464        0.244\n",
            "versicolor         5.936        2.770         4.260        1.326\n",
            "virginica          6.588        2.974         5.552        2.026\n"
          ]
        }
      ]
    },
    {
      "cell_type": "markdown",
      "source": [
        "<br/>"
      ],
      "metadata": {
        "id": "nTFL8vnrpcv6"
      }
    },
    {
      "cell_type": "markdown",
      "source": [
        "### **Part B** - Calculated Data - Ratios\n",
        "\n",
        "Using the above Pandas `DataFrame`, you are to create two new columns, ``sepal_ratio`` and ``petal_ratio``\n",
        "\n",
        "These two ratios need to be added to the `DataFrame` `df` as two new columns with the names provided above.\n",
        "\n",
        "The ratios will be calculated via ``length/width``.\n",
        "\n",
        "Once these new columns have been added, call the ``head()`` method on the DataFrame to confirm the new data has been added.\n"
      ],
      "metadata": {
        "id": "2adHCIbImWAL"
      }
    },
    {
      "cell_type": "code",
      "source": [
        "# TODO: Insert answer here\n",
        "\n",
        "import pandas as pd\n",
        "\n",
        "df = pd.read_csv(\"https://gist.githubusercontent.com/curran/a08a1080b88344b0c8a7/raw/0e7a9b0a5d22642a06d3d5b9bcbad9890c8ee534/iris.csv\")\n",
        "\n",
        "average_stats_by_species = df.groupby(\"species\").mean()\n",
        "print(\"Average statistics for each species:\")\n",
        "print(average_stats_by_species)\n",
        "\n",
        "df['sepal_ratio'] = df['sepal_length'] / df['sepal_width'] #adds a new column then runs the calculation length divided width\n",
        "\n",
        "\n",
        "df['petal_ratio'] = df['petal_length'] / df['petal_width']\n",
        "\n",
        "\n",
        "print(\"\\nDataFrame with new ratio columns added:\")\n",
        "print(df.head())# returns the first 5 values.\n",
        "\n"
      ],
      "metadata": {
        "id": "kZwOdhi0m84l",
        "colab": {
          "base_uri": "https://localhost:8080/",
          "height": 0
        },
        "outputId": "b4d5ea56-65e8-471d-c5f5-879588723369"
      },
      "execution_count": 1,
      "outputs": [
        {
          "output_type": "stream",
          "name": "stdout",
          "text": [
            "Average statistics for each species:\n",
            "            sepal_length  sepal_width  petal_length  petal_width\n",
            "species                                                         \n",
            "setosa             5.006        3.418         1.464        0.244\n",
            "versicolor         5.936        2.770         4.260        1.326\n",
            "virginica          6.588        2.974         5.552        2.026\n",
            "\n",
            "DataFrame with new ratio columns added:\n",
            "   sepal_length  sepal_width  petal_length  petal_width species  sepal_ratio  \\\n",
            "0           5.1          3.5           1.4          0.2  setosa     1.457143   \n",
            "1           4.9          3.0           1.4          0.2  setosa     1.633333   \n",
            "2           4.7          3.2           1.3          0.2  setosa     1.468750   \n",
            "3           4.6          3.1           1.5          0.2  setosa     1.483871   \n",
            "4           5.0          3.6           1.4          0.2  setosa     1.388889   \n",
            "\n",
            "   petal_ratio  \n",
            "0          7.0  \n",
            "1          7.0  \n",
            "2          6.5  \n",
            "3          7.5  \n",
            "4          7.0  \n"
          ]
        }
      ]
    },
    {
      "cell_type": "markdown",
      "source": [
        "<br/>"
      ],
      "metadata": {
        "id": "JVJ0HzCqpeV0"
      }
    },
    {
      "cell_type": "markdown",
      "source": [
        "### **Part C** - Displaying the Data\n",
        "\n",
        "Using the Pandas `DataFrame` from the part above, plot the different types of iris with their petal length (x-axis) against their petal width (y-axis).\n",
        "\n",
        "This will require you to filter the data into three different DataFrames so that you can plot these Frames independently.\n",
        "\n",
        ">**Note:** There are *better* ways to do this if you want to do some research and make your code more efficient. However, this is not a requirement for this lab.\n",
        "\n",
        "<br/>\n",
        "\n",
        "You will also be required to add a title describing what the graph represents, x-axis and y-axis labels to define the data being shown, and lastly, a legend so it is clear which species each colour represents.\n",
        "\n",
        "> **Note:** Once again, feel free to add anything extra if you want to - or use your own colours/fonts/designs - as long as you have all these items, you can extend as much as you wish.\n",
        "\n"
      ],
      "metadata": {
        "id": "U6_P5pMEfKFO"
      }
    },
    {
      "cell_type": "code",
      "source": [
        "# TODO: Insert answer here\n",
        "\n",
        "import pandas as pd\n",
        "import matplotlib.pyplot as plt\n",
        "\n",
        "df = pd.read_csv(\"https://gist.githubusercontent.com/curran/a08a1080b88344b0c8a7/raw/0e7a9b0a5d22642a06d3d5b9bcbad9890c8ee534/iris.csv\")\n",
        "\n",
        "average_stats_by_species = df.groupby(\"species\").mean()\n",
        "print(\"Average statistics for each species:\")\n",
        "print(average_stats_by_species)\n",
        "\n",
        "# df['sepal_ratio'] = df['sepal_length'] / df['sepal_width'] #adds a new column then runs the calculation length divided width\n",
        "#\n",
        "#\n",
        "# df['petal_ratio'] = df['petal_length'] / df['petal_width']\n",
        "#\n",
        "#\n",
        "# print(\"\\nDataFrame with new ratio columns added:\")\n",
        "# print(df.head())# returns the first 5 values.\n",
        "\n",
        "print(\"-\"*40)\n",
        "\n",
        "\n",
        "setosa_df = df[df['species'] == 'setosa'] #checks species and the row is == to so makes a true or false\n",
        "versicolor_df = df[df['species'] == 'versicolor']\n",
        "virginica_df = df[df['species'] == 'virginica']\n",
        "\n",
        "print(setosa_df.head())\n",
        "print(versicolor_df.head())\n",
        "print(virginica_df.head())\n",
        "\n",
        "print(\"-\"*40)\n",
        "\n",
        "plt.figure(figsize=(8, 6))\n",
        "\n",
        "# Plot each species with a different color and marker, and add labels for the legend as per lesson guide\n",
        "plt.scatter(setosa_df['petal_length'], setosa_df['petal_width'], label='Setosa', color='red', marker='o')\n",
        "plt.scatter(versicolor_df['petal_length'], versicolor_df['petal_width'], label='Versicolor', color='blue', marker='x')\n",
        "plt.scatter(virginica_df['petal_length'], virginica_df['petal_width'], label='Virginica', color='green', marker='s')\n",
        "\n",
        "# Add all the required elements\n",
        "plt.title(\"Iris Petal Length vs. Petal Width by Species\")\n",
        "plt.xlabel(\"Petal Length (cm)\")\n",
        "plt.ylabel(\"Petal Width (cm)\")\n",
        "plt.legend()\n",
        "plt.grid(True)\n",
        "\n",
        "# Save the plot to a file\n",
        "plt.savefig('iris_petal_plot.png')\n",
        "plt.show()"
      ],
      "metadata": {
        "id": "_BtUiBKvfngQ",
        "colab": {
          "base_uri": "https://localhost:8080/",
          "height": 1036
        },
        "outputId": "64ff6399-df24-4125-c1f4-a384856005a5"
      },
      "execution_count": 5,
      "outputs": [
        {
          "output_type": "stream",
          "name": "stdout",
          "text": [
            "Average statistics for each species:\n",
            "            sepal_length  sepal_width  petal_length  petal_width\n",
            "species                                                         \n",
            "setosa             5.006        3.418         1.464        0.244\n",
            "versicolor         5.936        2.770         4.260        1.326\n",
            "virginica          6.588        2.974         5.552        2.026\n",
            "----------------------------------------\n",
            "   sepal_length  sepal_width  petal_length  petal_width species\n",
            "0           5.1          3.5           1.4          0.2  setosa\n",
            "1           4.9          3.0           1.4          0.2  setosa\n",
            "2           4.7          3.2           1.3          0.2  setosa\n",
            "3           4.6          3.1           1.5          0.2  setosa\n",
            "4           5.0          3.6           1.4          0.2  setosa\n",
            "    sepal_length  sepal_width  petal_length  petal_width     species\n",
            "50           7.0          3.2           4.7          1.4  versicolor\n",
            "51           6.4          3.2           4.5          1.5  versicolor\n",
            "52           6.9          3.1           4.9          1.5  versicolor\n",
            "53           5.5          2.3           4.0          1.3  versicolor\n",
            "54           6.5          2.8           4.6          1.5  versicolor\n",
            "     sepal_length  sepal_width  petal_length  petal_width    species\n",
            "100           6.3          3.3           6.0          2.5  virginica\n",
            "101           5.8          2.7           5.1          1.9  virginica\n",
            "102           7.1          3.0           5.9          2.1  virginica\n",
            "103           6.3          2.9           5.6          1.8  virginica\n",
            "104           6.5          3.0           5.8          2.2  virginica\n",
            "----------------------------------------\n"
          ]
        },
        {
          "output_type": "display_data",
          "data": {
            "text/plain": [
              "<Figure size 800x600 with 1 Axes>"
            ],
            "image/png": "[encoded data removed]"
          },
          "metadata": {}
        }
      ]
    },
    {
      "cell_type": "markdown",
      "source": [
        "<br/><br/>"
      ],
      "metadata": {
        "id": "OgYl64VGbl5t"
      }
    },
    {
      "cell_type": "markdown",
      "source": [
        "## **Submission**\n",
        "---\n",
        "\n",
        "When you believe you have the program correctly working, please run the program and enter valid details for each program so that the output is apparent.\n",
        "<br/><br/>\n",
        "When you are ready to submit please\n",
        "\n",
        "*   go to `File` -> `Print` -> `Print PDF` and then upload and submit in the LMS.\n",
        "  *   feel free to also submit your artwork from question 1 to the LMS if you'd like to\n",
        "\n",
        "*   save your file to GitHub via: `File` -> `Save a copy in GitHub`\n"
      ],
      "metadata": {
        "id": "CxZ8SilaD9Gq"
      }
    }
  ]
}